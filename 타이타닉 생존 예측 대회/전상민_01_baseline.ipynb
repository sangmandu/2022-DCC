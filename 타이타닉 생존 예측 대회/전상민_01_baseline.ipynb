{
 "cells": [
  {
   "cell_type": "markdown",
   "id": "b4047715-1f06-4a3b-b2f5-6c80fdceb6a3",
   "metadata": {},
   "source": [
    "## 결과"
   ]
  },
  {
   "cell_type": "markdown",
   "id": "8015a18a-05cc-4dc9-aa31-7af214a1079a",
   "metadata": {},
   "source": [
    "\n",
    "> #1 Age, Cabin, Ticket 제거 valid 0.819 lb 0.747\n",
    "\n",
    "> #2 Cabin, Ticket 제거, Age 양자화 후 보간 valid 0.941 lb 0.751\n",
    "\n",
    "> #3 Cabin, Ticket 제거, Age 평균 보간 : valid 0.866 lb 0.746\n",
    "\n",
    "> #4 Age, Ticket 제거, Cabin 카테고리 분류 : valid 0.819 lb 0.762\n",
    "\n",
    "> #5 Cabin, Ticket 제거, Age 선형회귀 : valid lb 0.866 lb 0.746"
   ]
  },
  {
   "cell_type": "markdown",
   "id": "6c258512-97ca-42b3-882b-03c1f04b9aca",
   "metadata": {},
   "source": [
    "## 코드"
   ]
  },
  {
   "cell_type": "code",
   "execution_count": 1,
   "id": "8d32be4e-be46-4d94-9bb7-dba585b9c2cb",
   "metadata": {},
   "outputs": [],
   "source": [
    "import pandas as pd\n",
    "import numpy as np"
   ]
  },
  {
   "cell_type": "code",
   "execution_count": 2,
   "id": "a6b673bd-2a89-4c62-8e8b-40f079851017",
   "metadata": {},
   "outputs": [],
   "source": [
    "from catboost import CatBoostClassifier, CatBoostRegressor\n",
    "import catboost as cb\n",
    "\n",
    "from sklearn.metrics import roc_auc_score\n",
    "from sklearn.model_selection import train_test_split"
   ]
  },
  {
   "cell_type": "code",
   "execution_count": 22,
   "id": "b4554fe2-63c6-4fd9-93c7-ababb6dbc828",
   "metadata": {},
   "outputs": [],
   "source": [
    "train = pd.read_csv('train.csv')\n",
    "test = pd.read_csv('test.csv')\n",
    "submit = pd.read_csv('submission.csv')\n",
    "\n",
    "train['Embarked'] = train['Embarked'].fillna('S')\n",
    "test.loc[test[test.Fare.isnull()].index, 'Fare'] = 8.0500\n",
    "\n",
    "train['Sex'] = train['Sex'].replace('male', 0)\n",
    "train['Sex'] = train['Sex'].replace('female', 1)\n",
    "train['Embarked'] = train['Embarked'].replace('C', 0)\n",
    "train['Embarked'] = train['Embarked'].replace('Q', 1)\n",
    "train['Embarked'] = train['Embarked'].replace('S', 2)\n",
    "train.drop(columns=['PassengerId', 'Name'], inplace=True)\n",
    "\n",
    "test['Sex'] = test['Sex'].replace('male',0)\n",
    "test['Sex'] = test['Sex'].replace('female',1)\n",
    "test['Embarked'] = test['Embarked'].replace('C', 0)\n",
    "test['Embarked'] = test['Embarked'].replace('Q', 1)\n",
    "test['Embarked'] = test['Embarked'].replace('S', 2)\n",
    "test.drop(columns=['PassengerId', 'Name'], inplace=True)"
   ]
  },
  {
   "cell_type": "markdown",
   "id": "b8b9bf73-2d13-4702-8edd-a714a01446c7",
   "metadata": {},
   "source": [
    "## #1 Age, Cabin, Ticket 제거"
   ]
  },
  {
   "cell_type": "code",
   "execution_count": 23,
   "id": "16386fcb-c6be-46ba-976b-f324f69edbea",
   "metadata": {},
   "outputs": [
    {
     "name": "stdout",
     "output_type": "stream",
     "text": [
      "0.8194444444444445\n"
     ]
    }
   ],
   "source": [
    "_train, valid = train_test_split(train, test_size = 0.1, random_state=42)\n",
    "\n",
    "train_x, train_y = _train.drop(columns=['Survived']), _train['Survived']\n",
    "valid_x, valid_y = valid.drop(columns=['Survived']), valid['Survived']\n",
    "_test = test.copy()\n",
    "\n",
    "for data in [train_x, valid_x, _test]:\n",
    "    data.drop(columns=['Age', 'Cabin', 'Ticket'], inplace=True)\n",
    "\n",
    "train_dataset = cb.Pool(train_x, train_y) \n",
    "valid_dataset = cb.Pool(valid_x, valid_y)\n",
    "test_dataset = cb.Pool(_test)\n",
    "\n",
    "model = cb.CatBoostClassifier(loss_function='Logloss', silent=True, random_state=42)\n",
    "model.fit(train_dataset)\n",
    "\n",
    "pred = model.predict(valid_dataset)\n",
    "score = roc_auc_score(valid_y.values, pred)\n",
    "print(score)\n",
    "\n",
    "submit['Survived'] = model.predict(test_dataset)\n",
    "submit.to_csv('#1.csv', index=False)"
   ]
  },
  {
   "cell_type": "markdown",
   "id": "cea85754-f22e-4f6b-afb8-8fd0143302fb",
   "metadata": {},
   "source": [
    "## #2 Cabin, Ticket 제거, Age 양자화 후 보간"
   ]
  },
  {
   "cell_type": "code",
   "execution_count": 21,
   "id": "02c7c5d0-f076-4555-9c8c-25c334204f0a",
   "metadata": {},
   "outputs": [
    {
     "name": "stdout",
     "output_type": "stream",
     "text": [
      "['Pclass']\n",
      "2 0.8657407407407408\n",
      "3 0.8068181818181819\n",
      "4 0.6259259259259259\n",
      "5 0.8003246753246754\n",
      "6 0.8761574074074073\n",
      "7 0.9011824324324326\n",
      "8 0.8430127041742287\n",
      "9 0.8506944444444443\n",
      "10 0.6676923076923077\n",
      "['Pclass', 'SibSp']\n",
      "2 0.9388111888111889\n",
      "3 0.9411764705882353\n",
      "4 0.820855614973262\n",
      "5 0.8947368421052632\n",
      "6 0.5892857142857143\n",
      "7 0.6458333333333333\n",
      "8 0.75\n",
      "9 0.8785714285714286\n",
      "10 0.44999999999999996\n",
      "best is  (['Pclass', 'SibSp'], 3)\n"
     ]
    }
   ],
   "source": [
    "_train = train.copy()\n",
    "\n",
    "best_score = 0\n",
    "related_cols = ['Pclass', 'SibSp']\n",
    "for board in range(1, len(related_cols)+1):\n",
    "    cols = related_cols[:board]\n",
    "    print(cols)\n",
    "    \n",
    "    for qnt in range(2, 11):\n",
    "        _train.Age = train.Age.copy()\n",
    "        _train.Age = pd.cut(train.Age, qnt, labels=range(qnt))\n",
    "        table = _train[cols + ['Age']].value_counts().sort_index()\n",
    "        \n",
    "        for index, *value in _train.loc[_train.Age.isnull(), cols].reset_index().values:\n",
    "            for i in range(len(cols)):\n",
    "                if (table.index.get_level_values(i) == value[i]).any():\n",
    "                    continue\n",
    "                while not (table.index.get_level_values(i) == value[i]).any():\n",
    "                    value[i] -= 1\n",
    "                break\n",
    "            \n",
    "            value = tuple(value)\n",
    "            age = table.loc[value].sort_values(ascending=False).index[0]\n",
    "            _train.loc[index, 'Age'] = age\n",
    "        \n",
    "        _train.Age = _train.Age.astype(int)\n",
    "        \n",
    "        _train, valid = train_test_split(_train, test_size = 0.1, random_state=42)\n",
    "        \n",
    "        train_x, train_y = _train.drop(columns=['Survived']), _train['Survived']\n",
    "        valid_x, valid_y = valid.drop(columns=['Survived']), valid['Survived']\n",
    "        _test = test.copy()\n",
    "\n",
    "        for data in [train_x, valid_x,]:\n",
    "            data.drop(columns=['Cabin', 'Ticket'], inplace=True)\n",
    "\n",
    "        train_dataset = cb.Pool(train_x, train_y) \n",
    "        valid_dataset = cb.Pool(valid_x, valid_y)\n",
    "\n",
    "        model = cb.CatBoostClassifier(loss_function='Logloss', silent=True, random_state=42)\n",
    "        model.fit(train_dataset)\n",
    "\n",
    "        pred = model.predict(valid_dataset)\n",
    "        score = roc_auc_score(valid_y.values, pred)\n",
    "        print(qnt, score)\n",
    "        \n",
    "        if best_score < score:\n",
    "            best_comb = (cols, qnt)\n",
    "            best_score = score\n",
    "            \n",
    "            _test = test.copy()\n",
    "            _test.Age = pd.cut(test.Age, qnt, labels=range(qnt))\n",
    "\n",
    "            for index, *value in _test.loc[_test.Age.isnull(), cols].reset_index().values:\n",
    "                for i in range(len(cols)):\n",
    "                    if (table.index.get_level_values(i) == value[i]).any():\n",
    "                        continue\n",
    "                    while not (table.index.get_level_values(i) == value[i]).any():\n",
    "                        value[i] -= 1\n",
    "                    break\n",
    "\n",
    "                value = tuple(value)\n",
    "                age = table.loc[value].sort_values(ascending=False).index[0]\n",
    "                _test.loc[index, 'Age'] = age\n",
    "                \n",
    "            _test.Age = _test.Age.astype(int)\n",
    "            \n",
    "            _test.drop(columns=['Cabin', 'Ticket'], inplace=True)\n",
    "            test_dataset = cb.Pool(_test)\n",
    "            \n",
    "            submit['Survived'] = model.predict(test_dataset)\n",
    "            submit.to_csv(f'#2.csv', index=False)\n",
    "            \n",
    "print(\"best is \", best_comb)"
   ]
  },
  {
   "cell_type": "markdown",
   "id": "65c870ee-45ec-4eeb-ad74-0a6f36e30903",
   "metadata": {},
   "source": [
    "## #3 Cabin, Ticket 제거, Age 평균 보간"
   ]
  },
  {
   "cell_type": "code",
   "execution_count": 12,
   "id": "66bda4c4-d814-4c2a-be1e-316470476c39",
   "metadata": {},
   "outputs": [
    {
     "name": "stdout",
     "output_type": "stream",
     "text": [
      "0.8657407407407408\n"
     ]
    }
   ],
   "source": [
    "_train, valid = train_test_split(train, test_size = 0.1, random_state=42)\n",
    "_test = test.copy()\n",
    "\n",
    "table = _train.pivot_table(values = 'Age', index = 'Pclass', aggfunc = 'mean')\n",
    "for class_num in [1, 2, 3]:\n",
    "    _train.loc[_train.loc[_train.Age.isnull()].loc[_train.Pclass == class_num].index]['Age'] = table.loc[class_num]\n",
    "    valid.loc[valid.loc[valid.Age.isnull()].loc[valid.Pclass == class_num].index]['Age'] = table.loc[class_num]\n",
    "    _test.loc[_test.loc[_test.Age.isnull()].loc[_test.Pclass == class_num].index]['Age'] = table.loc[class_num]\n",
    "\n",
    "train_x, train_y = _train.drop(columns=['Survived']), _train['Survived']\n",
    "valid_x, valid_y = valid.drop(columns=['Survived']), valid['Survived']\n",
    "\n",
    "for data in [train_x, valid_x, _test]:\n",
    "    data.drop(columns=['Cabin', 'Ticket'], inplace=True)\n",
    "\n",
    "train_dataset = cb.Pool(train_x, train_y) \n",
    "valid_dataset = cb.Pool(valid_x, valid_y)\n",
    "test_dataset = cb.Pool(_test)\n",
    "\n",
    "model = cb.CatBoostClassifier(loss_function='Logloss', silent=True, random_state=42)\n",
    "model.fit(train_dataset)\n",
    "\n",
    "pred = model.predict(valid_dataset)\n",
    "score = roc_auc_score(valid_y.values, pred)\n",
    "print(score)\n",
    "\n",
    "submit['Survived'] = model.predict(test_dataset)\n",
    "submit.to_csv('#3.csv', index=False)"
   ]
  },
  {
   "cell_type": "markdown",
   "id": "c81b12fc-c4ca-4c4c-ac9d-6e6b7a500fdf",
   "metadata": {},
   "source": [
    "## #4 Age, Ticket 제거, Cabin 카테고리 분류"
   ]
  },
  {
   "cell_type": "code",
   "execution_count": 20,
   "id": "cb6e3d28-784b-424a-9889-c0524dd96bd6",
   "metadata": {},
   "outputs": [
    {
     "name": "stdout",
     "output_type": "stream",
     "text": [
      "0.8194444444444445\n"
     ]
    }
   ],
   "source": [
    "_train = train.copy()\n",
    "_train['Cabin'] = train['Cabin'].astype('category').cat.codes\n",
    "_test = test.copy()\n",
    "_test['Cabin'] = test['Cabin'].astype('category').cat.codes\n",
    "\n",
    "cabin_train, cabin_blank = _train[_train.Cabin != -1], _train[_train.Cabin == -1]\n",
    "cabin_dataset = cb.Pool(cabin_train.drop(columns=['Survived', 'Cabin', 'Age', 'Ticket']), cabin_train['Cabin'])\n",
    "\n",
    "model = cb.CatBoostClassifier(loss_function='MultiClass', silent=True, random_state=42)\n",
    "model.fit(cabin_dataset)\n",
    "\n",
    "pred = model.predict(cabin_blank.drop(columns=['Survived', 'Cabin', 'Age', 'Ticket']))\n",
    "_train.loc[cabin_blank.index]['Cabin'] = np.reshape(pred, (-1,))\n",
    "\n",
    "_, cabin_test = _test[_test.Cabin != -1], _test[_test.Cabin == -1]\n",
    "cabin_dataset = cb.Pool(cabin_test.drop(columns=['Cabin', 'Age', 'Ticket']), cabin_test['Cabin'])\n",
    "\n",
    "pred = model.predict(cabin_dataset)\n",
    "_test.loc[cabin_test.index]['Cabin'] = np.reshape(pred, (-1,))\n",
    "\n",
    "_train, valid = train_test_split(_train, test_size = 0.1, random_state=42)\n",
    "\n",
    "train_x, train_y = _train.drop(columns=['Survived']), _train['Survived']\n",
    "valid_x, valid_y = valid.drop(columns=['Survived']), valid['Survived']\n",
    "\n",
    "for data in [train_x, valid_x, _test]:\n",
    "    data.drop(columns=['Age', 'Ticket'], inplace=True)\n",
    "\n",
    "train_dataset = cb.Pool(train_x, train_y) \n",
    "valid_dataset = cb.Pool(valid_x, valid_y)\n",
    "test_dataset = cb.Pool(_test)\n",
    "\n",
    "model = cb.CatBoostClassifier(loss_function='Logloss', silent=True, random_state=42)\n",
    "model.fit(train_dataset)\n",
    "\n",
    "pred = model.predict(valid_dataset)\n",
    "score = roc_auc_score(valid_y.values, pred)\n",
    "print(score)\n",
    "\n",
    "submit['Survived'] = model.predict(test_dataset)\n",
    "submit.to_csv('#4.csv', index=False)"
   ]
  },
  {
   "cell_type": "markdown",
   "id": "0b1764ef-1327-4838-a47f-ae2684c37c90",
   "metadata": {},
   "source": [
    "## #5 Cabin, Ticket 제거, Age 선형회귀"
   ]
  },
  {
   "cell_type": "code",
   "execution_count": 14,
   "id": "3c8b2ac6-5281-4194-b36b-1132081fada2",
   "metadata": {},
   "outputs": [
    {
     "name": "stdout",
     "output_type": "stream",
     "text": [
      "0.8657407407407408\n"
     ]
    }
   ],
   "source": [
    "_train = train.copy()\n",
    "_test = test.copy()\n",
    "\n",
    "age_train, age_blank = _train[~_train.Age.isnull()], _train[_train.Age.isnull()]\n",
    "age_dataset = cb.Pool(age_train.drop(columns=['Survived', 'Cabin', 'Ticket']), age_train['Age'])\n",
    "\n",
    "_, age_test = _test[~_test.Age.isnull()], _test[_test.Age.isnull()]\n",
    "age_dataset2 = cb.Pool(age_test.drop(columns=['Cabin', 'Ticket']))\n",
    "\n",
    "model = cb.CatBoostRegressor(loss_function='RMSE', silent=True, random_state=42)\n",
    "model.fit(age_dataset)\n",
    "\n",
    "pred = model.predict(age_blank.drop(columns=['Survived', 'Cabin', 'Ticket']))\n",
    "_train.loc[age_blank.index]['Age'] = np.reshape(pred, (-1,))\n",
    "\n",
    "pred = model.predict(age_dataset2)\n",
    "_test.loc[age_test.index]['Age'] = np.reshape(pred, (-1,))\n",
    "\n",
    "_train, valid = train_test_split(_train, test_size = 0.1, random_state=42)\n",
    "\n",
    "train_x, train_y = _train.drop(columns=['Survived']), _train['Survived']\n",
    "valid_x, valid_y = valid.drop(columns=['Survived']), valid['Survived']\n",
    "\n",
    "for data in [train_x, valid_x, _test]:\n",
    "    data.drop(columns=['Cabin', 'Ticket'], inplace=True)\n",
    "\n",
    "train_dataset = cb.Pool(train_x, train_y) \n",
    "valid_dataset = cb.Pool(valid_x, valid_y)\n",
    "test_dataset = cb.Pool(_test)\n",
    "\n",
    "model = cb.CatBoostClassifier(loss_function='Logloss', silent=True, random_state=42)\n",
    "model.fit(train_dataset)\n",
    "\n",
    "pred = model.predict(valid_dataset)\n",
    "score = roc_auc_score(valid_y.values, pred)\n",
    "print(score)\n",
    "\n",
    "submit['Survived'] = model.predict(test_dataset)\n",
    "submit.to_csv('#5.csv', index=False)"
   ]
  },
  {
   "cell_type": "code",
   "execution_count": null,
   "id": "efc1fbd8-caa2-456a-bfe9-0a491b0e1928",
   "metadata": {},
   "outputs": [],
   "source": []
  }
 ],
 "metadata": {
  "kernelspec": {
   "display_name": "Python 3 (ipykernel)",
   "language": "python",
   "name": "python3"
  },
  "language_info": {
   "codemirror_mode": {
    "name": "ipython",
    "version": 3
   },
   "file_extension": ".py",
   "mimetype": "text/x-python",
   "name": "python",
   "nbconvert_exporter": "python",
   "pygments_lexer": "ipython3",
   "version": "3.9.7"
  }
 },
 "nbformat": 4,
 "nbformat_minor": 5
}
