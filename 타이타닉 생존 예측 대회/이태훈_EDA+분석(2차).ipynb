{
  "nbformat": 4,
  "nbformat_minor": 0,
  "metadata": {
    "colab": {
      "provenance": [],
      "collapsed_sections": [],
      "toc_visible": true
    },
    "kernelspec": {
      "name": "python3",
      "display_name": "Python 3"
    },
    "language_info": {
      "name": "python"
    }
  },
  "cells": [
    {
      "cell_type": "markdown",
      "source": [
        "# 코드"
      ],
      "metadata": {
        "id": "okC-agw2sU-r"
      }
    },
    {
      "cell_type": "code",
      "execution_count": null,
      "metadata": {
        "id": "z1kVE49ppID9"
      },
      "outputs": [],
      "source": [
        "import pandas as pd\n",
        "import numpy as np\n",
        "import matplotlib.pyplot as plt\n",
        "import seaborn as sns "
      ]
    },
    {
      "cell_type": "code",
      "source": [
        "train = pd.read_csv(\"/content/drive/MyDrive/github/타이타닉/data/train.csv\")\n",
        "test = pd.read_csv(\"/content/drive/MyDrive/github/타이타닉/data/test.csv\")"
      ],
      "metadata": {
        "id": "jiUAe62Spg6M"
      },
      "execution_count": null,
      "outputs": []
    },
    {
      "cell_type": "code",
      "source": [
        "del train['PassengerId']\n",
        "del test['PassengerId']\n",
        "\n",
        "train_name = train[\"Name\"]\n",
        "test_name = test[\"Name\"]\n",
        "\n",
        "del train['Name']\n",
        "del test['Name']"
      ],
      "metadata": {
        "id": "8ShLyXaxsHBh"
      },
      "execution_count": null,
      "outputs": []
    },
    {
      "cell_type": "code",
      "source": [
        "from itertools import product\n",
        "case_dict = {\n",
        "    \"Sex\" :       [0, 1],\n",
        "    \"Age\" :       [0, 1],\n",
        "    \"Ticket\" :    [0, 1],\n",
        "    \"Cabin\" :     [0, 1],\n",
        "    \"Embarked\" :  [0, 1, 2], \n",
        "}\n",
        "product_case = list(product(*case_dict.values()))\n",
        "product_case[0:3]"
      ],
      "metadata": {
        "id": "Nhv2UfQA1DNy",
        "colab": {
          "base_uri": "https://localhost:8080/"
        },
        "outputId": "4785d6de-f28f-47ee-dc38-1eaae609624b"
      },
      "execution_count": null,
      "outputs": [
        {
          "output_type": "execute_result",
          "data": {
            "text/plain": [
              "[(0, 0, 0, 0, 0), (0, 0, 0, 0, 1), (0, 0, 0, 0, 2)]"
            ]
          },
          "metadata": {},
          "execution_count": 161
        }
      ]
    },
    {
      "cell_type": "code",
      "source": [
        "from sklearn.preprocessing import StandardScaler\n",
        "from sklearn.model_selection import train_test_split\n",
        "from sklearn.metrics import roc_auc_score"
      ],
      "metadata": {
        "id": "6ovu0QDZsNhn"
      },
      "execution_count": null,
      "outputs": []
    },
    {
      "cell_type": "code",
      "source": [
        "from sklearn.linear_model import LogisticRegression\n",
        "from sklearn.linear_model import SGDClassifier\n",
        "from sklearn.neighbors import KNeighborsClassifier\n",
        "from sklearn.svm import SVC  # SVC: Support Vector Classification\n",
        "from sklearn.tree import DecisionTreeClassifier\n",
        "\n",
        "from sklearn.ensemble import RandomForestClassifier\n",
        "import warnings\n",
        "warnings.filterwarnings('ignore')"
      ],
      "metadata": {
        "id": "zLTNzkp6xtVI"
      },
      "execution_count": null,
      "outputs": []
    },
    {
      "cell_type": "code",
      "source": [
        "def hp(train_data, test_data, case_list):\n",
        "  train = train_data.copy()\n",
        "  test = test_data.copy()\n",
        "  if case_list[0] == 0 : # sex\n",
        "    train['Sex'] = train['Sex'].map({'male':0,'female':1}) \n",
        "    test['Sex'] = test['Sex'].map({'male':0,'female':1})\n",
        "  else :\n",
        "    train_dummy = pd.get_dummies(train['Sex'], dummy_na=False) \n",
        "    test_dummy = pd.get_dummies(test['Sex'], dummy_na=False)   \n",
        "    train = pd.concat([train,train_dummy],ignore_index=False, axis=1)\n",
        "    test = pd.concat([test,test_dummy],ignore_index=False, axis=1)\n",
        "    train = train.drop(\"Sex\",axis=1)\n",
        "    test = test.drop(\"Sex\",axis=1)\n",
        "\n",
        "  if case_list[1] == 0 : # age\n",
        "    train['Age'] = train['Age'].interpolate()\n",
        "    test['Age'] = test['Age'].interpolate()\n",
        "  else :\n",
        "    train['Initial'] = 0\n",
        "    for i in train:\n",
        "        train['Initial'] = train_name.str.extract('([A-Za-z]+)\\.') # .을 기준으로 앞에 있는 부분을 추출하는 정규표현식\n",
        "        \n",
        "    test['Initial']=0\n",
        "    for i in test:\n",
        "        test['Initial'] = test_name.str.extract('([A-Za-z]+)\\.')\n",
        "    train['Initial'].replace(['Mlle','Mme','Ms','Dr','Major','Lady','Countess','Jonkheer','Col','Rev','Capt','Sir','Don'],['Miss','Miss','Miss','Mr','Mrs','Mrs','Mrs','Other','Other','Other','Mr','Mr','Mr'], inplace = True)\n",
        "    test['Initial'].replace(['Rev','Col','Dr','Dona','Ms'],['Other','Other','Mr','Mr',\"Miss\"],inplace=True)\n",
        "\n",
        "    train.loc[(train.Age.isnull()) & (train.Initial=='Mr'),'Age'] = 33\n",
        "    train.loc[(train.Age.isnull()) & (train.Initial=='Mrs'),'Age'] = 36\n",
        "    train.loc[(train.Age.isnull()) & (train.Initial=='Master'),'Age'] = 5\n",
        "    train.loc[(train.Age.isnull()) & (train.Initial=='Miss'),'Age'] = 22\n",
        "    train.loc[(train.Age.isnull()) & (train.Initial=='Other'),'Age'] = 46\n",
        "\n",
        "    test.loc[(test.Age.isnull()) & (test.Initial=='Mr'),'Age'] = 33\n",
        "    test.loc[(test.Age.isnull()) & (test.Initial=='Mrs'),'Age'] = 36\n",
        "    test.loc[(test.Age.isnull()) & (test.Initial=='Master'),'Age'] = 5\n",
        "    test.loc[(test.Age.isnull()) & (test.Initial=='Miss'),'Age'] = 22\n",
        "    test.loc[(test.Age.isnull()) & (test.Initial=='Other'),'Age'] = 46\n",
        "\n",
        "    train_dummy = pd.get_dummies(train['Initial'], dummy_na=False) \n",
        "    test_dummy = pd.get_dummies(test['Initial'], dummy_na=False)   \n",
        "    train = pd.concat([train,train_dummy],ignore_index=False, axis=1)\n",
        "    test = pd.concat([test,test_dummy],ignore_index=False, axis=1)\n",
        "    train = train.drop(\"Initial\",axis=1)\n",
        "    test = test.drop(\"Initial\",axis=1)\n",
        "    \n",
        "  if case_list[2] == 0 : # ticket\n",
        "    del train['Ticket']\n",
        "    del test['Ticket']\n",
        "  else :\n",
        "    train_dummy = pd.get_dummies(train['Ticket'], dummy_na=False) \n",
        "    test_dummy = pd.get_dummies(test['Ticket'], dummy_na=False)   \n",
        "    train = pd.concat([train,train_dummy],ignore_index=False, axis=1)\n",
        "    test = pd.concat([test,test_dummy],ignore_index=False, axis=1)\n",
        "    train = train.drop(\"Ticket\",axis=1)\n",
        "    test = test.drop(\"Ticket\",axis=1)\n",
        "\n",
        "  if case_list[3] == 0 : # cabin \n",
        "    del train['Cabin']\n",
        "    del test['Cabin']\n",
        "  else :\n",
        "    train['Cabin'].fillna(0, inplace = True)\n",
        "    test['Cabin'].fillna(0, inplace = True)\n",
        "\n",
        "    train_dummy = pd.get_dummies(train['Cabin'], dummy_na=False) \n",
        "    test_dummy = pd.get_dummies(test['Cabin'], dummy_na=False)   \n",
        "    train = pd.concat([train,train_dummy],ignore_index=False, axis=1)\n",
        "    test = pd.concat([test,test_dummy],ignore_index=False, axis=1)\n",
        "    train = train.drop(\"Cabin\",axis=1)\n",
        "    test = test.drop(\"Cabin\",axis=1)\n",
        "\n",
        "  train['Embarked'].fillna('S', inplace = True)\n",
        "  test['Embarked'].fillna('S', inplace = True)\n",
        "  if case_list[4] == 0 : # embarked\n",
        "    train = train.drop(\"Embarked\",axis=1)\n",
        "    test = test.drop(\"Embarked\",axis=1)\n",
        "  elif case_list[4] == 1 :\n",
        "    train['Embarked'] = train['Embarked'].map({'S':2,'C':1,\"Q\":0})\n",
        "    test['Embarked'] = test['Embarked'].map({'S':2,'C':1,\"Q\":0})\n",
        "\n",
        "    train['Embarked'] = train['Embarked'].astype(int)\n",
        "    test['Embarked'] = test['Embarked'].astype(int)\n",
        "  else:\n",
        "    train_dummy = pd.get_dummies(train['Embarked'], dummy_na=False) \n",
        "    test_dummy = pd.get_dummies(test['Embarked'], dummy_na=False)   \n",
        "    train = pd.concat([train,train_dummy],ignore_index=False, axis=1)\n",
        "    test = pd.concat([test,test_dummy],ignore_index=False, axis=1)\n",
        "    train = train.drop(\"Embarked\",axis=1)\n",
        "    test = test.drop(\"Embarked\",axis=1)\n",
        "\n",
        "  if len(train.isna().any().value_counts()) == 2 : # 결측치 있는지 체크\n",
        "    print(train.isna().any())\n",
        "\n",
        "  #print(\"##\")\n",
        "  best_score = -1 \n",
        "  best_model = \"\"\n",
        "  for model in model_list:\n",
        "    roc_score = modeling(train,test,model)\n",
        "    # roc_score = 0\n",
        "    if roc_score > best_score :\n",
        "      best_score = roc_score\n",
        "      best_model = model\n",
        "  print(case_list, \"-> best model :\",best_model,\", score :\",best_score)\n",
        "  return case_list,best_model, best_score\n",
        "\n",
        "def modeling(train, test, model2):\n",
        "  x_train, x_valid, y_train, y_valid = train_test_split(\n",
        "      train.drop(columns=[\"Survived\"]),\n",
        "      train[\"Survived\"],\n",
        "      test_size=0.2,\n",
        "      random_state= 42, \n",
        "      stratify = None, # class 비율을 train/validation 유지\n",
        "      )\n",
        "  model = model2 # 선언\n",
        "  model.fit(x_train,y_train) # 학습\n",
        "  model_pred = model.predict(x_valid) # 예측\n",
        "  #print(roc_auc_score(y_valid,model_pred))\n",
        "  return roc_auc_score(y_valid,model_pred)"
      ],
      "metadata": {
        "id": "jfrgsQFVt8wX"
      },
      "execution_count": null,
      "outputs": []
    },
    {
      "cell_type": "code",
      "source": [
        "model_list = [\n",
        "    LogisticRegression(),\n",
        "    SGDClassifier(),\n",
        "    KNeighborsClassifier(),\n",
        "    SVC(random_state=42),\n",
        "    DecisionTreeClassifier(random_state=42),\n",
        "    RandomForestClassifier(),\n",
        "    ]\n",
        "\n",
        "best_model = \"\"\n",
        "best_score = -1\n",
        "best_case = \"\"\n",
        "for i in product_case:\n",
        "  c_l,b_m, b_s = hp(train, test, i)\n",
        "  if best_score < b_s:\n",
        "    best_score = b_s\n",
        "    best_model = b_m\n",
        "    best_case = \" \".join(map(str, c_l))\n",
        "\n",
        "print(\"Best Case :\", best_case)\n",
        "print(\"Best Score :\", best_score)\n",
        "print(\"Best Model :\", best_model)"
      ],
      "metadata": {
        "colab": {
          "base_uri": "https://localhost:8080/"
        },
        "id": "eoSqhvTdwOQS",
        "outputId": "4815781c-b5d6-4fdf-f1e2-b8cd81f474ef"
      },
      "execution_count": null,
      "outputs": [
        {
          "output_type": "stream",
          "name": "stdout",
          "text": [
            "(0, 0, 0, 0, 0) -> best model : DecisionTreeClassifier(random_state=42) , score : 0.7974259974259975\n",
            "(0, 0, 0, 0, 1) -> best model : DecisionTreeClassifier(random_state=42) , score : 0.8129343629343628\n",
            "(0, 0, 0, 0, 2) -> best model : SGDClassifier() , score : 0.8023166023166023\n",
            "(0, 0, 0, 1, 0) -> best model : LogisticRegression() , score : 0.8164736164736165\n",
            "(0, 0, 0, 1, 1) -> best model : LogisticRegression() , score : 0.8117117117117117\n",
            "(0, 0, 0, 1, 2) -> best model : DecisionTreeClassifier(random_state=42) , score : 0.8054054054054056\n",
            "(0, 0, 1, 0, 0) -> best model : DecisionTreeClassifier(random_state=42) , score : 0.8172458172458174\n",
            "(0, 0, 1, 0, 1) -> best model : DecisionTreeClassifier(random_state=42) , score : 0.8267696267696268\n",
            "(0, 0, 1, 0, 2) -> best model : LogisticRegression() , score : 0.8204633204633205\n",
            "(0, 0, 1, 1, 0) -> best model : DecisionTreeClassifier(random_state=42) , score : 0.8279922779922779\n",
            "(0, 0, 1, 1, 1) -> best model : DecisionTreeClassifier(random_state=42) , score : 0.8259974259974261\n",
            "(0, 0, 1, 1, 2) -> best model : LogisticRegression() , score : 0.831981981981982\n",
            "(0, 1, 0, 0, 0) -> best model : RandomForestClassifier() , score : 0.8272200772200773\n",
            "(0, 1, 0, 0, 1) -> best model : RandomForestClassifier() , score : 0.8272200772200773\n",
            "(0, 1, 0, 0, 2) -> best model : RandomForestClassifier() , score : 0.8339768339768341\n",
            "(0, 1, 0, 1, 0) -> best model : LogisticRegression() , score : 0.806949806949807\n",
            "(0, 1, 0, 1, 1) -> best model : LogisticRegression() , score : 0.806949806949807\n",
            "(0, 1, 0, 1, 2) -> best model : LogisticRegression() , score : 0.8272200772200773\n",
            "(0, 1, 1, 0, 0) -> best model : LogisticRegression() , score : 0.8232303732303732\n",
            "(0, 1, 1, 0, 1) -> best model : LogisticRegression() , score : 0.8224581724581724\n",
            "(0, 1, 1, 0, 2) -> best model : LogisticRegression() , score : 0.8244530244530245\n",
            "(0, 1, 1, 1, 0) -> best model : LogisticRegression() , score : 0.8252252252252252\n",
            "(0, 1, 1, 1, 1) -> best model : LogisticRegression() , score : 0.8272200772200773\n",
            "(0, 1, 1, 1, 2) -> best model : LogisticRegression() , score : 0.8339768339768341\n",
            "(1, 0, 0, 0, 0) -> best model : DecisionTreeClassifier(random_state=42) , score : 0.7934362934362935\n",
            "(1, 0, 0, 0, 1) -> best model : DecisionTreeClassifier(random_state=42) , score : 0.8196911196911196\n",
            "(1, 0, 0, 0, 2) -> best model : RandomForestClassifier() , score : 0.7954311454311453\n",
            "(1, 0, 0, 1, 0) -> best model : LogisticRegression() , score : 0.7934362934362935\n",
            "(1, 0, 0, 1, 1) -> best model : DecisionTreeClassifier(random_state=42) , score : 0.8244530244530245\n",
            "(1, 0, 0, 1, 2) -> best model : DecisionTreeClassifier(random_state=42) , score : 0.8054054054054056\n",
            "(1, 0, 1, 0, 0) -> best model : LogisticRegression() , score : 0.8252252252252252\n",
            "(1, 0, 1, 0, 1) -> best model : DecisionTreeClassifier(random_state=42) , score : 0.8037323037323038\n",
            "(1, 0, 1, 0, 2) -> best model : DecisionTreeClassifier(random_state=42) , score : 0.8132561132561132\n",
            "(1, 0, 1, 1, 0) -> best model : DecisionTreeClassifier(random_state=42) , score : 0.8279922779922779\n",
            "(1, 0, 1, 1, 1) -> best model : LogisticRegression() , score : 0.8117117117117117\n",
            "(1, 0, 1, 1, 2) -> best model : DecisionTreeClassifier(random_state=42) , score : 0.8172458172458174\n",
            "(1, 1, 0, 0, 0) -> best model : RandomForestClassifier() , score : 0.831981981981982\n",
            "(1, 1, 0, 0, 1) -> best model : RandomForestClassifier() , score : 0.8224581724581724\n",
            "(1, 1, 0, 0, 2) -> best model : LogisticRegression() , score : 0.8137065637065637\n",
            "(1, 1, 0, 1, 0) -> best model : LogisticRegression() , score : 0.8001930501930502\n",
            "(1, 1, 0, 1, 1) -> best model : LogisticRegression() , score : 0.8021879021879021\n",
            "(1, 1, 0, 1, 2) -> best model : LogisticRegression() , score : 0.8204633204633205\n",
            "(1, 1, 1, 0, 0) -> best model : LogisticRegression() , score : 0.8204633204633205\n",
            "(1, 1, 1, 0, 1) -> best model : LogisticRegression() , score : 0.8184684684684684\n",
            "(1, 1, 1, 0, 2) -> best model : RandomForestClassifier() , score : 0.8212355212355212\n",
            "(1, 1, 1, 1, 0) -> best model : LogisticRegression() , score : 0.8272200772200773\n",
            "(1, 1, 1, 1, 1) -> best model : LogisticRegression() , score : 0.8272200772200773\n",
            "(1, 1, 1, 1, 2) -> best model : LogisticRegression() , score : 0.8272200772200773\n",
            "Best Case : 0 1 0 0 2\n",
            "Best Score : 0.8339768339768341\n",
            "Best Model : RandomForestClassifier()\n"
          ]
        }
      ]
    },
    {
      "cell_type": "markdown",
      "source": [
        "# 결과"
      ],
      "metadata": {
        "id": "RIMyznAjOxxX"
      }
    },
    {
      "cell_type": "markdown",
      "source": [
        "- 모델 : RandomForestClassifier()\n",
        "- Public : 0.833976 / lb : 0.7546738072\n",
        "- 사용 컬럼\n",
        "  - Survived  \n",
        "    - 타겟\n",
        "  - ~PassgerId~\n",
        "    - 제거\n",
        "  - Pclass\n",
        "  - ~Name~\n",
        "    - 제거\n",
        "  - Sex  \n",
        "    - male -> 0 , female -> 1 변경\n",
        "  - Age \n",
        "    - Mrs, Miss 등 호칭에 따른 평균 나이대로 결측치 채우기\n",
        "    - 호칭을 get_dummies화 \n",
        "    - 기존 호칭(initial) 컬럼 제거\n",
        "  - SibSp \n",
        "  - Parch \n",
        "  - ~Ticket~\n",
        "    - 제거\n",
        "  - Fare \n",
        "  - ~Cabin~ \n",
        "    - 제거\n",
        "  - Embarked \n",
        "    - 결측치 2개 fillna 사용해서 'S'로 채우기\n",
        "    - Embarked 컬럼 get_dummies화\n",
        "    - Embarked 컬럼 제거\n"
      ],
      "metadata": {
        "id": "xdr6NJulN6WC"
      }
    },
    {
      "cell_type": "markdown",
      "source": [
        "# 하이퍼파라미터 튜닝"
      ],
      "metadata": {
        "id": "ps3bHaviQ-nQ"
      }
    },
    {
      "cell_type": "code",
      "source": [
        "train['Sex'] = train['Sex'].map({'male':0,'female':1}) \n",
        "test['Sex'] = test['Sex'].map({'male':0,'female':1})\n",
        "\n",
        "train['Initial'] = 0\n",
        "for i in train:\n",
        "    train['Initial'] = train_name.str.extract('([A-Za-z]+)\\.') # .을 기준으로 앞에 있는 부분을 추출하는 정규표현식\n",
        "        \n",
        "test['Initial']=0\n",
        "for i in test:\n",
        "    test['Initial'] = test_name.str.extract('([A-Za-z]+)\\.')\n",
        "train['Initial'].replace(['Mlle','Mme','Ms','Dr','Major','Lady','Countess','Jonkheer','Col','Rev','Capt','Sir','Don'],['Miss','Miss','Miss','Mr','Mrs','Mrs','Mrs','Other','Other','Other','Mr','Mr','Mr'], inplace = True)\n",
        "test['Initial'].replace(['Rev','Col','Dr','Dona','Ms'],['Other','Other','Mr','Mr',\"Miss\"],inplace=True)\n",
        "\n",
        "train.loc[(train.Age.isnull()) & (train.Initial=='Mr'),'Age'] = 33\n",
        "train.loc[(train.Age.isnull()) & (train.Initial=='Mrs'),'Age'] = 36\n",
        "train.loc[(train.Age.isnull()) & (train.Initial=='Master'),'Age'] = 5\n",
        "train.loc[(train.Age.isnull()) & (train.Initial=='Miss'),'Age'] = 22\n",
        "train.loc[(train.Age.isnull()) & (train.Initial=='Other'),'Age'] = 46\n",
        "\n",
        "test.loc[(test.Age.isnull()) & (test.Initial=='Mr'),'Age'] = 33\n",
        "test.loc[(test.Age.isnull()) & (test.Initial=='Mrs'),'Age'] = 36\n",
        "test.loc[(test.Age.isnull()) & (test.Initial=='Master'),'Age'] = 5\n",
        "test.loc[(test.Age.isnull()) & (test.Initial=='Miss'),'Age'] = 22\n",
        "test.loc[(test.Age.isnull()) & (test.Initial=='Other'),'Age'] = 46\n",
        "\n",
        "train_dummy = pd.get_dummies(train['Initial'], dummy_na=False) \n",
        "test_dummy = pd.get_dummies(test['Initial'], dummy_na=False)   \n",
        "train = pd.concat([train,train_dummy],ignore_index=False, axis=1)\n",
        "test = pd.concat([test,test_dummy],ignore_index=False, axis=1)\n",
        "train = train.drop(\"Initial\",axis=1)\n",
        "test = test.drop(\"Initial\",axis=1)\n",
        "\n",
        "del train['Ticket']\n",
        "del test['Ticket']\n",
        "del train['Cabin']\n",
        "del test['Cabin']\n",
        "train['Embarked'].fillna('S', inplace = True)\n",
        "test['Embarked'].fillna('S', inplace = True)\n",
        "\n",
        "train_dummy = pd.get_dummies(train['Embarked'], dummy_na=False) \n",
        "test_dummy = pd.get_dummies(test['Embarked'], dummy_na=False)   \n",
        "train = pd.concat([train,train_dummy],ignore_index=False, axis=1)\n",
        "test = pd.concat([test,test_dummy],ignore_index=False, axis=1)\n",
        "train = train.drop(\"Embarked\",axis=1)\n",
        "test = test.drop(\"Embarked\",axis=1)"
      ],
      "metadata": {
        "id": "EpGrF-a8QQ3B"
      },
      "execution_count": null,
      "outputs": []
    },
    {
      "cell_type": "code",
      "source": [
        "from sklearn.model_selection import GridSearchCV, KFold\n",
        "\n",
        "param_grid = params ={\n",
        "    'n_estimators':[50,100],\n",
        "    'max_depth':[6,8,10,12],\n",
        "    'min_samples_leaf':[8,12,18],\n",
        "    'min_samples_split':[8,16,20]\n",
        "}\n",
        "\n",
        "rf = RandomForestClassifier()\n",
        "cv = KFold(n_splits=6)\n",
        "grid_rf = GridSearchCV(rf, param_grid, cv=cv, scoring = 'accuracy')\n",
        "grid_rf.fit(train.drop(columns=[\"Survived\"]),train[\"Survived\"])\n",
        "print('final parmas', grid_rf.best_params_)\n",
        "print('best score', grid_rf.best_score_)"
      ],
      "metadata": {
        "colab": {
          "base_uri": "https://localhost:8080/"
        },
        "id": "oOeCTSddNHpk",
        "outputId": "235a18e9-0f53-4987-8be4-0172272ce999"
      },
      "execution_count": null,
      "outputs": [
        {
          "output_type": "stream",
          "name": "stdout",
          "text": [
            "final parmas {'max_depth': 8, 'min_samples_leaf': 8, 'min_samples_split': 8, 'n_estimators': 50}\n",
            "best score 0.8338775016627366\n"
          ]
        }
      ]
    },
    {
      "cell_type": "markdown",
      "source": [
        "# submission"
      ],
      "metadata": {
        "id": "W0uK1je3Sx0g"
      }
    },
    {
      "cell_type": "code",
      "source": [
        "# 학습\n",
        "rf_best = grid_rf.best_estimator_\n",
        "\n",
        "test['Fare'] = test['Fare'].fillna(7.75)\n",
        "\n",
        "# 예측\n",
        "pred = rf_best.predict(test)\n",
        "\n",
        "# 결과 제출\n",
        "submission = pd.read_csv(\"/content/drive/MyDrive/github/타이타닉/data/submission.csv\")\n",
        "submission['Survived'] = pred\n",
        "submission.to_csv('/content/drive/MyDrive/github/타이타닉/submission/RandomForestClassifier_태훈.csv', index = False)"
      ],
      "metadata": {
        "id": "Jw7ZIdzvRJXn"
      },
      "execution_count": null,
      "outputs": []
    },
    {
      "cell_type": "markdown",
      "source": [
        "# 결과 비교"
      ],
      "metadata": {
        "id": "N-mL5EYZSzZd"
      }
    },
    {
      "cell_type": "markdown",
      "source": [
        "- public \n",
        "  - 0.7831 -> 0.8339 : 0.0508 상승 💖\n",
        "- lb \n",
        "  - 0.7582 -> 0.7546 : 0.0036 감소 💢"
      ],
      "metadata": {
        "id": "-zgBF7LtS-3q"
      }
    },
    {
      "cell_type": "markdown",
      "source": [
        "- 모델 : LogisticRegression \n",
        "- public : 0.7831 / lb : 0.7582\n",
        "- 사용 컬럼\n",
        "  - Pclass  : 특이사항 X\n",
        "  - Sex : male -> 0 , female -> 1 변경\n",
        "  - Age \n",
        "    - 결측치 비율 : 17% \n",
        "    - 결측치 처리 방법 : interploate(보간법) 모두 기본 셋팅으로 사용\n",
        "  - SibSp : 특이사항 X \n",
        "  - Parch :  특이사항 X \n",
        "  - Fare : 특이사항 X\n",
        "  - Embarked \n",
        "    - 결측치 : 2개 발견\n",
        "    - dropna(subset=[\"Embarked\"]) 사용해서 제거 \n",
        "    - S -> 2 , C - > 1 , Q -> 0 변경\n",
        "\n"
      ],
      "metadata": {
        "id": "TqIShWEgS1ff"
      }
    },
    {
      "cell_type": "markdown",
      "source": [
        "- 모델 : RandomForestClassifier()\n",
        "- Public : 0.833976 / lb : 0.7546738072\n",
        "- 사용 컬럼\n",
        "  - Survived  \n",
        "    - 타겟\n",
        "  - ~PassgerId~\n",
        "    - 제거\n",
        "  - Pclass\n",
        "  - ~Name~\n",
        "    - 제거\n",
        "  - Sex  \n",
        "    - male -> 0 , female -> 1 변경\n",
        "  - Age \n",
        "    - Mrs, Miss 등 호칭에 따른 평균 나이대로 결측치 채우기\n",
        "    - 호칭을 get_dummies화 \n",
        "    - 기존 호칭(initial) 컬럼 제거\n",
        "  - SibSp \n",
        "  - Parch \n",
        "  - ~Ticket~\n",
        "    - 제거\n",
        "  - Fare \n",
        "  - ~Cabin~ \n",
        "    - 제거\n",
        "  - Embarked \n",
        "    - 결측치 2개 fillna 사용해서 'S'로 채우기\n",
        "    - Embarked 컬럼 get_dummies화\n",
        "    - Embarked 컬럼 제거\n"
      ],
      "metadata": {
        "id": "x9hlooJyS91o"
      }
    }
  ]
}