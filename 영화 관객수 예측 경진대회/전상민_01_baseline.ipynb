{
 "cells": [
  {
   "cell_type": "markdown",
   "id": "6005b42b-7047-46c8-ac74-ff66e44319fc",
   "metadata": {},
   "source": [
    "# Score Board with CatBoostRegressor\n",
    "\n",
    "# Experiment\n",
    "## EX00 Baseline\n",
    "- EV : 1266010.5524007708\n",
    "- LB : 1398094.3531710093\n",
    "\n",
    "## EX1 dir_prev_bfnum\n",
    "### EX1-1 결측치 T of F\n",
    "- EV : 1266010.5524007708\n",
    "- LB : 1398094.3531710093\n",
    "\n",
    "### EX1-2 결측치 평균 보간\n",
    "- EV : 1052619.5525359095\n",
    "- LB : 1389657.7978862808\n",
    "\n",
    "### EX1-3 2-way\n",
    "- EV : 1849709.7016080315\n",
    "- LB : 1421467.7094828745\n",
    "\n",
    "## EX2 distributor\n",
    "### EX2-1 3 class\n",
    "- EV : 1300585.5325181007\n",
    "- LB : 1407443.60725864\n",
    "\n",
    "### EX2-2 simple\n",
    "- EV : 1262841.627572546\n",
    "- LB : 1390353.5252979354\n",
    "\n",
    "### EX2-3 complex\n",
    "- EV : 1286187.6577157644\n",
    "- LB : 1407443.60725864\n",
    "\n",
    "## EX3 Abaltion\n",
    "### EX3-1 Exclude\n",
    "- EV\n",
    "```\n",
    "nth\n",
    "<class 'catboost.core.CatBoostRegressor'> 1084635.2091475618 1083020.0508357733\n",
    "<class 'lightgbm.sklearn.LGBMRegressor'> 1171811.9632681513 1171811.9632681513\n",
    "<class 'xgboost.sklearn.XGBRegressor'> 965712.1251405238 965712.1251405237\n",
    "<class 'sklearn.ensemble._gb.GradientBoostingRegressor'> 944586.1568818493 944436.2415444893\n",
    "<class 'sklearn.ensemble._forest.RandomForestRegressor'> 980468.4956210986 981142.1385827006\n",
    "<class 'ngboost.api.NGBRegressor'> 967254.7647632342 967639.8411370695\n",
    "release_time\n",
    "<class 'catboost.core.CatBoostRegressor'> 1031623.7231485338 1046829.7277933394\n",
    "<class 'lightgbm.sklearn.LGBMRegressor'> 1213822.9451192461 1213822.9451192461\n",
    "<class 'xgboost.sklearn.XGBRegressor'> 1085745.3774428316 1085745.3774428316\n",
    "<class 'sklearn.ensemble._gb.GradientBoostingRegressor'> 1053691.9421148547 1057257.4635778442\n",
    "<class 'sklearn.ensemble._forest.RandomForestRegressor'> 1064432.4944883357 1034961.2447084703\n",
    "<class 'ngboost.api.NGBRegressor'> 996318.1440924216 998484.7854371826\n",
    "genre\n",
    "<class 'catboost.core.CatBoostRegressor'> 1067291.5329371556 1068318.1734922507\n",
    "<class 'lightgbm.sklearn.LGBMRegressor'> 1263370.3773121897 1263370.3773121897\n",
    "<class 'xgboost.sklearn.XGBRegressor'> 986549.0132097562 986549.0132097562\n",
    "<class 'sklearn.ensemble._gb.GradientBoostingRegressor'> 997203.2014230319 997763.6707164083\n",
    "<class 'sklearn.ensemble._forest.RandomForestRegressor'> 988677.4261156563 990102.3051747209\n",
    "<class 'ngboost.api.NGBRegressor'> 987065.6440683495 987353.4442263369\n",
    "time\n",
    "<class 'catboost.core.CatBoostRegressor'> 1306884.5495105379 1290104.0137195014\n",
    "<class 'lightgbm.sklearn.LGBMRegressor'> 1328977.0398971948 1328977.0398971948\n",
    "<class 'xgboost.sklearn.XGBRegressor'> 1175697.3888272035 1175697.3888272035\n",
    "<class 'sklearn.ensemble._gb.GradientBoostingRegressor'> 1037374.4324053567 1033743.105525069\n",
    "<class 'sklearn.ensemble._forest.RandomForestRegressor'> 1125189.5863836408 1102695.1789026707\n",
    "<class 'ngboost.api.NGBRegressor'> 1043734.6339830654 1042961.4496579029\n",
    "screening_rat\n",
    "<class 'catboost.core.CatBoostRegressor'> 1056371.380817928 1038127.3405038441\n",
    "<class 'lightgbm.sklearn.LGBMRegressor'> 1204582.8273308855 1204582.8273308855\n",
    "<class 'xgboost.sklearn.XGBRegressor'> 905271.2359139349 905271.2359139349\n",
    "<class 'sklearn.ensemble._gb.GradientBoostingRegressor'> 1002297.4296980804 999512.8276957979\n",
    "<class 'sklearn.ensemble._forest.RandomForestRegressor'> 1005723.3995691879 988359.4265697984\n",
    "<class 'ngboost.api.NGBRegressor'> 976852.6786732128 977334.3891793753\n",
    "num_staff\n",
    "<class 'catboost.core.CatBoostRegressor'> 1333939.7763026778 1328252.238968954\n",
    "<class 'lightgbm.sklearn.LGBMRegressor'> 1159061.6471475845 1159061.6471475845\n",
    "<class 'xgboost.sklearn.XGBRegressor'> 1275833.0936692622 1275833.0936692622\n",
    "<class 'sklearn.ensemble._gb.GradientBoostingRegressor'> 1102767.721607031 1105324.0116117944\n",
    "<class 'sklearn.ensemble._forest.RandomForestRegressor'> 1183860.9299681555 1178578.1476289043\n",
    "<class 'ngboost.api.NGBRegressor'> 1090060.0956135504 1089109.4171164178\n",
    "num_actor\n",
    "<class 'catboost.core.CatBoostRegressor'> 1211181.8104871805 1231960.805891653\n",
    "<class 'lightgbm.sklearn.LGBMRegressor'> 1268952.1837537587 1268952.1837537587\n",
    "<class 'xgboost.sklearn.XGBRegressor'> 1139098.3235130957 1139098.3235130957\n",
    "<class 'sklearn.ensemble._gb.GradientBoostingRegressor'> 936619.4985493809 937188.4773952062\n",
    "<class 'sklearn.ensemble._forest.RandomForestRegressor'> 1000579.2155324746 982994.3708190133\n",
    "<class 'ngboost.api.NGBRegressor'> 927711.6054104033 928619.8965436959\n",
    "```\n",
    "\n",
    "### EX3-2 Include\n",
    "- EV\n",
    "```\n",
    "release_time\n",
    "<class 'catboost.core.CatBoostRegressor'> 1085652.7713405252 1071753.1861166635\n",
    "<class 'lightgbm.sklearn.LGBMRegressor'> 1177820.703867142 1177820.703867142\n",
    "<class 'xgboost.sklearn.XGBRegressor'> 1122757.144203233 1122757.144203233\n",
    "<class 'sklearn.ensemble._gb.GradientBoostingRegressor'> 1068665.1455821549 1069976.4899417297\n",
    "<class 'sklearn.ensemble._forest.RandomForestRegressor'> 1011412.235036239 1016078.1201630867\n",
    "<class 'ngboost.api.NGBRegressor'> 1050308.6545590484 1050354.326962929\n",
    "genre\n",
    "<class 'catboost.core.CatBoostRegressor'> 1130608.6606013381 1116412.6166802056\n",
    "<class 'lightgbm.sklearn.LGBMRegressor'> 1209092.7864183777 1209092.7864183777\n",
    "<class 'xgboost.sklearn.XGBRegressor'> 1263999.04250783 1263999.04250783\n",
    "<class 'sklearn.ensemble._gb.GradientBoostingRegressor'> 1030520.1141620365 1031404.8603629639\n",
    "<class 'sklearn.ensemble._forest.RandomForestRegressor'> 1097305.995768719 1082319.0391556232\n",
    "<class 'ngboost.api.NGBRegressor'> 1012478.4671774436 1012534.4947547746\n",
    "screening_rat\n",
    "<class 'catboost.core.CatBoostRegressor'> 1035570.4843853224 1033035.1913942667\n",
    "<class 'lightgbm.sklearn.LGBMRegressor'> 1279456.163584793 1279456.163584793\n",
    "<class 'xgboost.sklearn.XGBRegressor'> 1132277.2100635327 1132277.2100635327\n",
    "<class 'sklearn.ensemble._gb.GradientBoostingRegressor'> 1044733.757695331 1043120.9138419781\n",
    "<class 'sklearn.ensemble._forest.RandomForestRegressor'> 1044812.1429518095 1020673.5051511815\n",
    "<class 'ngboost.api.NGBRegressor'> 974017.1004097959 974005.168611539\n",
    "```\n",
    "\n",
    "### Summary\n",
    "- cat : release_time, genre\n",
    "- lgbm : genre\n",
    "- xgb : genre, screening_rat\n",
    "- gbm : nth\n",
    "- rf : nth\n",
    "- ngb : nth\n",
    "\n",
    "## EX4 Log transformation\n",
    "- EV\n",
    "```\n",
    "<class 'catboost.core.CatBoostRegressor'> 1036421.1287511501 1034630.6965684184\n",
    "<class 'lightgbm.sklearn.LGBMRegressor'> 1279456.163584793 1279456.163584793\n",
    "<class 'xgboost.sklearn.XGBRegressor'> 1134448.3032238074 1134448.3032238074\n",
    "<class 'sklearn.ensemble._gb.GradientBoostingRegressor'> 1044846.0252474186 1043233.3533715275\n",
    "<class 'sklearn.ensemble._forest.RandomForestRegressor'> 1059082.2364285833 1036723.9530714225\n",
    "<class 'ngboost.api.NGBRegressor'> 974974.3412875403 974664.7117842691\n",
    "```\n",
    "\n",
    "# Ensemble\n",
    "## Ens1 6 models\n",
    "- EV\n",
    "```\n",
    "<class 'catboost.core.CatBoostRegressor'> 1114815.272387106\n",
    "<class 'ngboost.api.NGBRegressor'> 964618.6752801732\n",
    "<class 'lightgbm.sklearn.LGBMRegressor'> 1171811.9632681513\n",
    "<class 'xgboost.sklearn.XGBRegressor'> 965712.1251405237\n",
    "<class 'sklearn.ensemble._gb.GradientBoostingRegressor'> 950965.1045777292\n",
    "<class 'sklearn.ensemble._forest.RandomForestRegressor'> 971033.3391848475\n",
    "```\n",
    "- LB : 1330658.6306341486\n",
    "\n",
    "## Ens with 10 folds"
   ]
  },
  {
   "cell_type": "code",
   "execution_count": 1,
   "id": "8185e36e-4f91-4e01-a586-cf092ef47a3a",
   "metadata": {},
   "outputs": [],
   "source": [
    "import pandas as pd\n",
    "import numpy as np\n",
    "\n",
    "from collections import defaultdict\n",
    "\n",
    "from catboost import CatBoostClassifier, CatBoostRegressor\n",
    "from xgboost import XGBRegressor\n",
    "from lightgbm import LGBMRegressor\n",
    "from ngboost import NGBRegressor\n",
    "\n",
    "from sklearn.ensemble import GradientBoostingRegressor, RandomForestRegressor\n",
    "from sklearn.metrics import mean_squared_error\n",
    "from sklearn.model_selection import train_test_split, KFold"
   ]
  },
  {
   "cell_type": "code",
   "execution_count": 2,
   "id": "1f8306ac-24cb-40f9-bc9f-ca1d117b5ade",
   "metadata": {},
   "outputs": [],
   "source": [
    "train_df = pd.read_csv('new_movies_train.csv')\n",
    "test_df = pd.read_csv('new_movies_test.csv')\n",
    "submit = pd.read_csv('submission.csv')"
   ]
  },
  {
   "cell_type": "code",
   "execution_count": 113,
   "id": "de1c6da5-7b87-4c7a-9c69-fee31c8ab86c",
   "metadata": {},
   "outputs": [
    {
     "data": {
      "text/html": [
       "<div>\n",
       "<style scoped>\n",
       "    .dataframe tbody tr th:only-of-type {\n",
       "        vertical-align: middle;\n",
       "    }\n",
       "\n",
       "    .dataframe tbody tr th {\n",
       "        vertical-align: top;\n",
       "    }\n",
       "\n",
       "    .dataframe thead th {\n",
       "        text-align: right;\n",
       "    }\n",
       "</style>\n",
       "<table border=\"1\" class=\"dataframe\">\n",
       "  <thead>\n",
       "    <tr style=\"text-align: right;\">\n",
       "      <th></th>\n",
       "      <th>genre</th>\n",
       "      <th>release_time</th>\n",
       "      <th>time</th>\n",
       "      <th>screening_rat</th>\n",
       "      <th>dir_prev_bfnum</th>\n",
       "      <th>dir_prev_num</th>\n",
       "      <th>num_staff</th>\n",
       "      <th>num_actor</th>\n",
       "      <th>box_off_num</th>\n",
       "      <th>distributor_2way</th>\n",
       "      <th>distributor_3way</th>\n",
       "      <th>distributor_simple</th>\n",
       "      <th>distributor_complex</th>\n",
       "      <th>dir_prev_bfnum2</th>\n",
       "    </tr>\n",
       "  </thead>\n",
       "  <tbody>\n",
       "    <tr>\n",
       "      <th>0</th>\n",
       "      <td>10</td>\n",
       "      <td>4</td>\n",
       "      <td>96</td>\n",
       "      <td>1</td>\n",
       "      <td>NaN</td>\n",
       "      <td>0</td>\n",
       "      <td>91</td>\n",
       "      <td>2</td>\n",
       "      <td>23398</td>\n",
       "      <td>1</td>\n",
       "      <td>2</td>\n",
       "      <td>52</td>\n",
       "      <td>52</td>\n",
       "      <td>1</td>\n",
       "    </tr>\n",
       "    <tr>\n",
       "      <th>1</th>\n",
       "      <td>11</td>\n",
       "      <td>2</td>\n",
       "      <td>130</td>\n",
       "      <td>1</td>\n",
       "      <td>1161602.50</td>\n",
       "      <td>2</td>\n",
       "      <td>387</td>\n",
       "      <td>3</td>\n",
       "      <td>7072501</td>\n",
       "      <td>0</td>\n",
       "      <td>0</td>\n",
       "      <td>0</td>\n",
       "      <td>0</td>\n",
       "      <td>0</td>\n",
       "    </tr>\n",
       "    <tr>\n",
       "      <th>2</th>\n",
       "      <td>10</td>\n",
       "      <td>5</td>\n",
       "      <td>123</td>\n",
       "      <td>3</td>\n",
       "      <td>220775.25</td>\n",
       "      <td>4</td>\n",
       "      <td>343</td>\n",
       "      <td>4</td>\n",
       "      <td>6959083</td>\n",
       "      <td>0</td>\n",
       "      <td>0</td>\n",
       "      <td>0</td>\n",
       "      <td>0</td>\n",
       "      <td>0</td>\n",
       "    </tr>\n",
       "    <tr>\n",
       "      <th>3</th>\n",
       "      <td>8</td>\n",
       "      <td>4</td>\n",
       "      <td>101</td>\n",
       "      <td>0</td>\n",
       "      <td>23894.00</td>\n",
       "      <td>2</td>\n",
       "      <td>20</td>\n",
       "      <td>6</td>\n",
       "      <td>217866</td>\n",
       "      <td>0</td>\n",
       "      <td>0</td>\n",
       "      <td>0</td>\n",
       "      <td>0</td>\n",
       "      <td>0</td>\n",
       "    </tr>\n",
       "    <tr>\n",
       "      <th>4</th>\n",
       "      <td>8</td>\n",
       "      <td>0</td>\n",
       "      <td>108</td>\n",
       "      <td>3</td>\n",
       "      <td>1.00</td>\n",
       "      <td>1</td>\n",
       "      <td>251</td>\n",
       "      <td>2</td>\n",
       "      <td>483387</td>\n",
       "      <td>0</td>\n",
       "      <td>0</td>\n",
       "      <td>0</td>\n",
       "      <td>0</td>\n",
       "      <td>0</td>\n",
       "    </tr>\n",
       "  </tbody>\n",
       "</table>\n",
       "</div>"
      ],
      "text/plain": [
       "   genre  release_time  time  screening_rat  dir_prev_bfnum  dir_prev_num  \\\n",
       "0     10             4    96              1             NaN             0   \n",
       "1     11             2   130              1      1161602.50             2   \n",
       "2     10             5   123              3       220775.25             4   \n",
       "3      8             4   101              0        23894.00             2   \n",
       "4      8             0   108              3            1.00             1   \n",
       "\n",
       "   num_staff  num_actor  box_off_num  distributor_2way  distributor_3way  \\\n",
       "0         91          2        23398                 1                 2   \n",
       "1        387          3      7072501                 0                 0   \n",
       "2        343          4      6959083                 0                 0   \n",
       "3         20          6       217866                 0                 0   \n",
       "4        251          2       483387                 0                 0   \n",
       "\n",
       "   distributor_simple  distributor_complex  dir_prev_bfnum2  \n",
       "0                  52                   52                1  \n",
       "1                   0                    0                0  \n",
       "2                   0                    0                0  \n",
       "3                   0                    0                0  \n",
       "4                   0                    0                0  "
      ]
     },
     "execution_count": 113,
     "metadata": {},
     "output_type": "execute_result"
    }
   ],
   "source": [
    "train_df.head()"
   ]
  },
  {
   "cell_type": "code",
   "execution_count": 5,
   "id": "4616663f-6d23-4382-8420-e746e0e03f07",
   "metadata": {},
   "outputs": [],
   "source": [
    "model_list = [\n",
    "    (CatBoostRegressor, {'loss_function':'RMSE', 'silent':True,}, ['release_time', 'genre'],),\n",
    "    (LGBMRegressor, {'verbose':-1, }, ['genre', ],),\n",
    "    (XGBRegressor, {'silent':True, 'verbosity':0, }, ['genre', 'screening_rat'],),\n",
    "    (GradientBoostingRegressor, {}, [],),\n",
    "    (RandomForestRegressor, {}, [],),\n",
    "    (NGBRegressor, {'verbose':0,}, [],),\n",
    "]\n",
    "\n",
    "seeds = [42, 41, 1024, 4242, 2022]"
   ]
  },
  {
   "cell_type": "code",
   "execution_count": null,
   "id": "f95a21cf-51be-4105-bf65-1cdb3c983775",
   "metadata": {},
   "outputs": [],
   "source": []
  },
  {
   "cell_type": "code",
   "execution_count": 4,
   "id": "87c9c6bf-b331-40d3-9aa5-1f9112d9afa6",
   "metadata": {},
   "outputs": [],
   "source": [
    "def run(train, valid, test, savefile_name, save=False):\n",
    "    submit['box_off_num'] = 0\n",
    "    result = defaultdict(list)\n",
    "    \n",
    "    for m, arg, ex_col in model_list:\n",
    "        train_x, train_y = train.drop(columns=['box_off_num']+ex_col), train['box_off_num']\n",
    "        valid_x, valid_y = valid.drop(columns=['box_off_num']+ex_col), valid['box_off_num']\n",
    "        _test = test.drop(columns=ex_col)\n",
    "        \n",
    "        for seed in seeds:\n",
    "            model = m(**arg, random_state=seed)\n",
    "            model.fit(train_x, train_y)\n",
    "\n",
    "            pred = model.predict(valid_x)\n",
    "            score = mean_squared_error(valid_y.values, pred) ** 0.5\n",
    "\n",
    "            if save:\n",
    "                submit['box_off_num'] += model.predict(_test)\n",
    "            \n",
    "            name = str(m)\n",
    "            result[name].append(score)\n",
    "            \n",
    "            if name == XGBRegressor:\n",
    "                result[name].append([score] * (len(seeds)-1))\n",
    "                break\n",
    "    \n",
    "    for k, v in result.items():\n",
    "        print(k, sum(v) / len(seeds), sorted(v)[len(seeds) // 2])\n",
    "        \n",
    "    if save:\n",
    "        submit['box_off_num'] /= (len(model_list)-1) * 5 + 1\n",
    "        submit.to_csv(savefile_name+'.csv', index=False)"
   ]
  },
  {
   "cell_type": "markdown",
   "id": "0dfe41ba-0494-476d-b80c-aec1bb4e6b80",
   "metadata": {},
   "source": [
    "---\n",
    "# Experiment"
   ]
  },
  {
   "cell_type": "markdown",
   "id": "da4670d8-bfd8-4024-b13d-345d754d8234",
   "metadata": {},
   "source": [
    "## EX00 Baseline"
   ]
  },
  {
   "cell_type": "code",
   "execution_count": 268,
   "id": "f8650988-ae16-423c-aab3-dcd8da3b5f9b",
   "metadata": {},
   "outputs": [
    {
     "name": "stdout",
     "output_type": "stream",
     "text": [
      "<class 'catboost.core.CatBoostRegressor'> 1181321.547759616 1174128.4892905722\n",
      "<class 'lightgbm.sklearn.LGBMRegressor'> 1366933.2837627253 1366933.2837627253\n",
      "<class 'xgboost.sklearn.XGBRegressor'> 1283398.6217368802 1283398.6217368802\n",
      "<class 'sklearn.ensemble._gb.GradientBoostingRegressor'> 955427.0956382535 960521.5607986115\n",
      "<class 'sklearn.ensemble._forest.RandomForestRegressor'> 1085403.3435988328 1067087.1882368939\n",
      "<class 'ngboost.api.NGBRegressor'> 939858.9331557959 939907.6812775658\n"
     ]
    }
   ],
   "source": [
    "_train_df = train_df.copy()\n",
    "_test_df = test_df.copy()\n",
    "\n",
    "exclude_cols = ['dir_prev_bfnum', 'distributor_3way', 'distributor_simple', 'distributor_complex', 'dir_prev_bfnum2']\n",
    "# exclude_cols += ['time', 'screening_rat', 'num_staff', 'num_actor', 'distributor_2way', 'dir_prev_num']\n",
    "\n",
    "_train_df.drop(columns=exclude_cols, inplace=True)\n",
    "_test_df.drop(columns=exclude_cols, inplace=True)\n",
    "train, valid = train_test_split(_train_df, test_size = 0.1, random_state=42)\n",
    "\n",
    "run(train, valid, _test_df, 'EX00', save=True)"
   ]
  },
  {
   "cell_type": "markdown",
   "id": "2f213f3d-31f4-4e9c-b1fc-b8ec3606ab92",
   "metadata": {},
   "source": [
    "## EX1 dir_prev_bfnum"
   ]
  },
  {
   "cell_type": "markdown",
   "id": "d4fc352e-ce5f-4717-b538-81ee7eff33b9",
   "metadata": {},
   "source": [
    "### EX1-1 결측치 T of F"
   ]
  },
  {
   "cell_type": "code",
   "execution_count": 177,
   "id": "c448bac6-e34d-4c78-9147-7e773001974b",
   "metadata": {},
   "outputs": [
    {
     "name": "stdout",
     "output_type": "stream",
     "text": [
      "1266010.5524007708\n"
     ]
    }
   ],
   "source": [
    "_train_df = train_df.copy()\n",
    "_test_df = test_df.copy()\n",
    "\n",
    "exclude_cols = ['distributor_3way', 'distributor_simple', 'distributor_complex', 'dir_prev_bfnum2', 'dir_prev_bfnum']\n",
    "\n",
    "_train_df.drop(columns=exclude_cols, inplace=True)\n",
    "_test_df.drop(columns=exclude_cols, inplace=True)\n",
    "\n",
    "train, valid = train_test_split(_train_df, test_size = 0.1, random_state=42)\n",
    "\n",
    "print(\n",
    "    run(train, valid, _test_df, 'EX1-1')\n",
    ")"
   ]
  },
  {
   "cell_type": "markdown",
   "id": "22cbc9b1-0b7b-4470-b6f2-ff964535fb35",
   "metadata": {},
   "source": [
    "### EX1-2 결측치 평균 보간"
   ]
  },
  {
   "cell_type": "code",
   "execution_count": 144,
   "id": "7609d94e-da8a-4e0c-8f63-79afb91e92bd",
   "metadata": {},
   "outputs": [
    {
     "name": "stdout",
     "output_type": "stream",
     "text": [
      "1052619.5525359095\n"
     ]
    }
   ],
   "source": [
    "_train_df = train_df.copy()\n",
    "_test_df = test_df.copy()\n",
    "\n",
    "exclude_cols = ['distributor_3way', 'distributor_simple', 'distributor_complex', 'dir_prev_bfnum2']\n",
    "\n",
    "_train_df.drop(columns=exclude_cols, inplace=True)\n",
    "_test_df.drop(columns=exclude_cols, inplace=True)\n",
    "\n",
    "mean_dir_prev_bfnum = train_df[~train_df.dir_prev_bfnum.isna()].dir_prev_bfnum.mean()\n",
    "\n",
    "_train_df.loc[train_df.dir_prev_bfnum.isna(), 'dir_prev_bfnum'] = mean_dir_prev_bfnum\n",
    "_test_df.loc[test_df.dir_prev_bfnum.isna(), 'dir_prev_bfnum'] = mean_dir_prev_bfnum\n",
    "\n",
    "train, valid = train_test_split(_train_df, test_size = 0.1, random_state=42)\n",
    "\n",
    "print(\n",
    "    run(train, valid, _test_df, 'EX1-2')\n",
    ")"
   ]
  },
  {
   "cell_type": "markdown",
   "id": "36d2d849-5cd5-4b3d-8344-9b045ff7ff34",
   "metadata": {},
   "source": [
    "### EX1-3 2-way"
   ]
  },
  {
   "cell_type": "code",
   "execution_count": 146,
   "id": "2a09682c-ba7c-4223-9dcb-4ce6e8088612",
   "metadata": {},
   "outputs": [
    {
     "name": "stdout",
     "output_type": "stream",
     "text": [
      "767004.8004296675\n",
      "3173015.691937143\n"
     ]
    }
   ],
   "source": [
    "def run2(train1, valid, test, nan):\n",
    "    train_x, train_y = train.drop(columns=['box_off_num']), train['box_off_num']\n",
    "    valid_x, valid_y = valid.drop(columns=['box_off_num']), valid['box_off_num']\n",
    "\n",
    "    train_dataset = cb.Pool(train_x, train_y) \n",
    "    valid_dataset = cb.Pool(valid_x, valid_y)\n",
    "    test_dataset = cb.Pool(test)\n",
    "\n",
    "    model = cb.CatBoostRegressor(loss_function='RMSE', silent=True, random_state=42)\n",
    "    model.fit(train_dataset)\n",
    "\n",
    "    pred = model.predict(valid_dataset)\n",
    "    score = mean_squared_error(valid_y.values, pred)\n",
    "    \n",
    "    if nan:\n",
    "        _submit.loc[_submit.dir_prev_bfnum.isna(), 'box_off_num'] = model.predict(test_dataset)\n",
    "    else:\n",
    "        _submit.loc[~_submit.dir_prev_bfnum.isna(), 'box_off_num'] = model.predict(test_dataset)\n",
    "    \n",
    "    return score ** 0.5\n",
    "\n",
    "_submit = submit.copy()\n",
    "_submit = pd.concat([_submit, test_df.dir_prev_bfnum], axis=1)\n",
    "\n",
    "_train_df = train_df.copy()\n",
    "_test_df = test_df.copy()\n",
    "\n",
    "exclude_cols = ['distributor_3way', 'distributor_simple', 'distributor_complex', 'dir_prev_bfnum2']\n",
    "\n",
    "_train_df.drop(columns=exclude_cols, inplace=True)\n",
    "_test_df.drop(columns=exclude_cols, inplace=True)\n",
    "\n",
    "_train_df1 = train_df[train_df.dir_prev_bfnum.isna()]\n",
    "_test_df1 = test_df[test_df.dir_prev_bfnum.isna()]\n",
    "\n",
    "_train_df2 = train_df[~train_df.dir_prev_bfnum.isna()]\n",
    "_test_df2 = test_df[~test_df.dir_prev_bfnum.isna()]\n",
    "\n",
    "train, valid = train_test_split(_train_df1, test_size = 0.1, random_state=42)\n",
    "print(\n",
    "    run2(train, valid, _test_df1, True)\n",
    ")\n",
    "\n",
    "train, valid = train_test_split(_train_df2, test_size = 0.1, random_state=42)\n",
    "print(\n",
    "    run2(train, valid, _test_df2, False)\n",
    ")\n",
    "\n",
    "_submit.drop(columns=['dir_prev_bfnum'], inplace=True)\n",
    "_submit.to_csv('EX1-3.csv', index=False)"
   ]
  },
  {
   "cell_type": "code",
   "execution_count": 148,
   "id": "a1bd5243-a080-441b-8030-8bfa0e79a033",
   "metadata": {},
   "outputs": [],
   "source": [
    "l1, l2 = len(_train_df1), len(_train_df2)"
   ]
  },
  {
   "cell_type": "code",
   "execution_count": 149,
   "id": "464ce217-d620-420a-a014-46d99cc73006",
   "metadata": {},
   "outputs": [
    {
     "data": {
      "text/plain": [
       "1849709.7016080315"
      ]
     },
     "execution_count": 149,
     "metadata": {},
     "output_type": "execute_result"
    }
   ],
   "source": [
    "sum([767004.8004296675 * l1,\n",
    "3173015.691937143 * l2]) / (l1 + l2)"
   ]
  },
  {
   "cell_type": "markdown",
   "id": "876e266e-75bb-4d87-8989-9a8e68b83b33",
   "metadata": {},
   "source": [
    "---\n",
    "## EX2 distributor"
   ]
  },
  {
   "cell_type": "markdown",
   "id": "2ef840b5-4b73-4b52-ae2c-30cea66ef8c0",
   "metadata": {},
   "source": [
    "### EX2-1 3 class"
   ]
  },
  {
   "cell_type": "code",
   "execution_count": 150,
   "id": "04d871f9-8030-4f07-94ab-3cd2f15b473e",
   "metadata": {},
   "outputs": [
    {
     "name": "stdout",
     "output_type": "stream",
     "text": [
      "1300585.5325181007\n"
     ]
    }
   ],
   "source": [
    "_train_df = train_df.copy()\n",
    "_test_df = test_df.copy()\n",
    "\n",
    "exclude_cols = ['dir_prev_bfnum', 'distributor_2way', 'distributor_simple', 'distributor_complex', 'dir_prev_bfnum2']\n",
    "\n",
    "_train_df.drop(columns=exclude_cols, inplace=True)\n",
    "_test_df.drop(columns=exclude_cols, inplace=True)\n",
    "train, valid = train_test_split(_train_df, test_size = 0.1, random_state=42)\n",
    "\n",
    "print(\n",
    "    run(train, valid, _test_df, 'EX2-1')\n",
    ")"
   ]
  },
  {
   "cell_type": "markdown",
   "id": "64caea97-6afa-4148-ab65-aa4c9d5416b9",
   "metadata": {},
   "source": [
    "### EX2-2 simple way"
   ]
  },
  {
   "cell_type": "code",
   "execution_count": 151,
   "id": "23f3a98a-b4c1-4d62-8d62-9aa102cfe909",
   "metadata": {},
   "outputs": [
    {
     "name": "stdout",
     "output_type": "stream",
     "text": [
      "1262841.627572546\n"
     ]
    }
   ],
   "source": [
    "_train_df = train_df.copy()\n",
    "_test_df = test_df.copy()\n",
    "\n",
    "exclude_cols = ['dir_prev_bfnum', 'distributor_2way', 'distributor_3way', 'distributor_complex', 'dir_prev_bfnum2']\n",
    "\n",
    "_train_df.drop(columns=exclude_cols, inplace=True)\n",
    "_test_df.drop(columns=exclude_cols, inplace=True)\n",
    "train, valid = train_test_split(_train_df, test_size = 0.1, random_state=42)\n",
    "\n",
    "print(\n",
    "    run(train, valid, _test_df, 'EX2-2')\n",
    ")"
   ]
  },
  {
   "cell_type": "markdown",
   "id": "135a105f-6ee7-4d3e-8df7-5a940ce21d42",
   "metadata": {},
   "source": [
    "### EX2-3 complex way"
   ]
  },
  {
   "cell_type": "code",
   "execution_count": 152,
   "id": "b2ab5f8a-b19f-4254-8e96-b24c48fa2856",
   "metadata": {},
   "outputs": [
    {
     "name": "stdout",
     "output_type": "stream",
     "text": [
      "1286187.6577157644\n"
     ]
    }
   ],
   "source": [
    "_train_df = train_df.copy()\n",
    "_test_df = test_df.copy()\n",
    "\n",
    "exclude_cols = ['dir_prev_bfnum', 'distributor_2way', 'distributor_3way', 'distributor_simple', 'dir_prev_bfnum2']\n",
    "\n",
    "_train_df.drop(columns=exclude_cols, inplace=True)\n",
    "_test_df.drop(columns=exclude_cols, inplace=True)\n",
    "train, valid = train_test_split(_train_df, test_size = 0.1, random_state=42)\n",
    "\n",
    "print(\n",
    "    run(train, valid, _test_df, 'EX2-3')\n",
    ")"
   ]
  },
  {
   "cell_type": "markdown",
   "id": "381696ea-1f3e-4a54-ab27-5e7bd70a9f96",
   "metadata": {},
   "source": [
    "---\n",
    "## EX3 Ablation"
   ]
  },
  {
   "cell_type": "code",
   "execution_count": 187,
   "id": "a4256f0b-0849-4d51-b1b8-31e2a4f5c952",
   "metadata": {},
   "outputs": [],
   "source": [
    "### EX3-1 Exclude"
   ]
  },
  {
   "cell_type": "code",
   "execution_count": 250,
   "id": "cccad456-7f5f-40db-ab6b-3bbf2193480d",
   "metadata": {},
   "outputs": [
    {
     "name": "stdout",
     "output_type": "stream",
     "text": [
      "nth\n",
      "<class 'catboost.core.CatBoostRegressor'> 1084635.2091475618 1083020.0508357733\n",
      "<class 'lightgbm.sklearn.LGBMRegressor'> 1171811.9632681513 1171811.9632681513\n",
      "<class 'xgboost.sklearn.XGBRegressor'> 965712.1251405238 965712.1251405237\n",
      "<class 'sklearn.ensemble._gb.GradientBoostingRegressor'> 944586.1568818493 944436.2415444893\n",
      "<class 'sklearn.ensemble._forest.RandomForestRegressor'> 980468.4956210986 981142.1385827006\n",
      "<class 'ngboost.api.NGBRegressor'> 967254.7647632342 967639.8411370695\n",
      "release_time\n",
      "<class 'catboost.core.CatBoostRegressor'> 1031623.7231485338 1046829.7277933394\n",
      "<class 'lightgbm.sklearn.LGBMRegressor'> 1213822.9451192461 1213822.9451192461\n",
      "<class 'xgboost.sklearn.XGBRegressor'> 1085745.3774428316 1085745.3774428316\n",
      "<class 'sklearn.ensemble._gb.GradientBoostingRegressor'> 1053691.9421148547 1057257.4635778442\n",
      "<class 'sklearn.ensemble._forest.RandomForestRegressor'> 1064432.4944883357 1034961.2447084703\n",
      "<class 'ngboost.api.NGBRegressor'> 996318.1440924216 998484.7854371826\n",
      "genre\n",
      "<class 'catboost.core.CatBoostRegressor'> 1067291.5329371556 1068318.1734922507\n",
      "<class 'lightgbm.sklearn.LGBMRegressor'> 1263370.3773121897 1263370.3773121897\n",
      "<class 'xgboost.sklearn.XGBRegressor'> 986549.0132097562 986549.0132097562\n",
      "<class 'sklearn.ensemble._gb.GradientBoostingRegressor'> 997203.2014230319 997763.6707164083\n",
      "<class 'sklearn.ensemble._forest.RandomForestRegressor'> 988677.4261156563 990102.3051747209\n",
      "<class 'ngboost.api.NGBRegressor'> 987065.6440683495 987353.4442263369\n",
      "time\n",
      "<class 'catboost.core.CatBoostRegressor'> 1306884.5495105379 1290104.0137195014\n",
      "<class 'lightgbm.sklearn.LGBMRegressor'> 1328977.0398971948 1328977.0398971948\n",
      "<class 'xgboost.sklearn.XGBRegressor'> 1175697.3888272035 1175697.3888272035\n",
      "<class 'sklearn.ensemble._gb.GradientBoostingRegressor'> 1037374.4324053567 1033743.105525069\n",
      "<class 'sklearn.ensemble._forest.RandomForestRegressor'> 1125189.5863836408 1102695.1789026707\n",
      "<class 'ngboost.api.NGBRegressor'> 1043734.6339830654 1042961.4496579029\n",
      "screening_rat\n",
      "<class 'catboost.core.CatBoostRegressor'> 1056371.380817928 1038127.3405038441\n",
      "<class 'lightgbm.sklearn.LGBMRegressor'> 1204582.8273308855 1204582.8273308855\n",
      "<class 'xgboost.sklearn.XGBRegressor'> 905271.2359139349 905271.2359139349\n",
      "<class 'sklearn.ensemble._gb.GradientBoostingRegressor'> 1002297.4296980804 999512.8276957979\n",
      "<class 'sklearn.ensemble._forest.RandomForestRegressor'> 1005723.3995691879 988359.4265697984\n",
      "<class 'ngboost.api.NGBRegressor'> 976852.6786732128 977334.3891793753\n",
      "num_staff\n",
      "<class 'catboost.core.CatBoostRegressor'> 1333939.7763026778 1328252.238968954\n",
      "<class 'lightgbm.sklearn.LGBMRegressor'> 1159061.6471475845 1159061.6471475845\n",
      "<class 'xgboost.sklearn.XGBRegressor'> 1275833.0936692622 1275833.0936692622\n",
      "<class 'sklearn.ensemble._gb.GradientBoostingRegressor'> 1102767.721607031 1105324.0116117944\n",
      "<class 'sklearn.ensemble._forest.RandomForestRegressor'> 1183860.9299681555 1178578.1476289043\n",
      "<class 'ngboost.api.NGBRegressor'> 1090060.0956135504 1089109.4171164178\n",
      "num_actor\n",
      "<class 'catboost.core.CatBoostRegressor'> 1211181.8104871805 1231960.805891653\n",
      "<class 'lightgbm.sklearn.LGBMRegressor'> 1268952.1837537587 1268952.1837537587\n",
      "<class 'xgboost.sklearn.XGBRegressor'> 1139098.3235130957 1139098.3235130957\n",
      "<class 'sklearn.ensemble._gb.GradientBoostingRegressor'> 936619.4985493809 937188.4773952062\n",
      "<class 'sklearn.ensemble._forest.RandomForestRegressor'> 1000579.2155324746 982994.3708190133\n",
      "<class 'ngboost.api.NGBRegressor'> 927711.6054104033 928619.8965436959\n"
     ]
    }
   ],
   "source": [
    "for ex_col in ['nth', 'release_time', 'genre', 'time', 'screening_rat', 'num_staff', 'num_actor']:\n",
    "    _train_df = train_df.copy()\n",
    "    _test_df = test_df.copy()\n",
    "\n",
    "    exclude_cols = ['distributor_3way', 'distributor_2way', 'distributor_complex', 'dir_prev_bfnum2']\n",
    "    if ex_col != 'nth':\n",
    "        exclude_cols += [ex_col]\n",
    "\n",
    "    mean_dir_prev_bfnum = train_df[~train_df.dir_prev_bfnum.isna()].dir_prev_bfnum.mean()\n",
    "\n",
    "    _train_df.loc[train_df.dir_prev_bfnum.isna(), 'dir_prev_bfnum'] = mean_dir_prev_bfnum\n",
    "    _test_df.loc[test_df.dir_prev_bfnum.isna(), 'dir_prev_bfnum'] = mean_dir_prev_bfnum\n",
    "\n",
    "    _train_df.drop(columns=exclude_cols, inplace=True)\n",
    "    _test_df.drop(columns=exclude_cols, inplace=True)\n",
    "    \n",
    "    train, valid = train_test_split(_train_df, test_size = 0.1, random_state=42)\n",
    "\n",
    "    print(ex_col)\n",
    "    run(train, valid, _test_df, 'not_used')\n"
   ]
  },
  {
   "cell_type": "markdown",
   "id": "8ae51e90-e45a-4bb4-9947-46fc438cd383",
   "metadata": {},
   "source": [
    "### EX3-2 Include"
   ]
  },
  {
   "cell_type": "code",
   "execution_count": 251,
   "id": "8fdfeb1b-48ef-4b60-b02e-1c75768584e2",
   "metadata": {},
   "outputs": [
    {
     "name": "stdout",
     "output_type": "stream",
     "text": [
      "release_time\n",
      "<class 'catboost.core.CatBoostRegressor'> 1085652.7713405252 1071753.1861166635\n",
      "<class 'lightgbm.sklearn.LGBMRegressor'> 1177820.703867142 1177820.703867142\n",
      "<class 'xgboost.sklearn.XGBRegressor'> 1122757.144203233 1122757.144203233\n",
      "<class 'sklearn.ensemble._gb.GradientBoostingRegressor'> 1068665.1455821549 1069976.4899417297\n",
      "<class 'sklearn.ensemble._forest.RandomForestRegressor'> 1011412.235036239 1016078.1201630867\n",
      "<class 'ngboost.api.NGBRegressor'> 1050308.6545590484 1050354.326962929\n",
      "genre\n",
      "<class 'catboost.core.CatBoostRegressor'> 1130608.6606013381 1116412.6166802056\n",
      "<class 'lightgbm.sklearn.LGBMRegressor'> 1209092.7864183777 1209092.7864183777\n",
      "<class 'xgboost.sklearn.XGBRegressor'> 1263999.04250783 1263999.04250783\n",
      "<class 'sklearn.ensemble._gb.GradientBoostingRegressor'> 1030520.1141620365 1031404.8603629639\n",
      "<class 'sklearn.ensemble._forest.RandomForestRegressor'> 1097305.995768719 1082319.0391556232\n",
      "<class 'ngboost.api.NGBRegressor'> 1012478.4671774436 1012534.4947547746\n",
      "screening_rat\n",
      "<class 'catboost.core.CatBoostRegressor'> 1035570.4843853224 1033035.1913942667\n",
      "<class 'lightgbm.sklearn.LGBMRegressor'> 1279456.163584793 1279456.163584793\n",
      "<class 'xgboost.sklearn.XGBRegressor'> 1132277.2100635327 1132277.2100635327\n",
      "<class 'sklearn.ensemble._gb.GradientBoostingRegressor'> 1044733.757695331 1043120.9138419781\n",
      "<class 'sklearn.ensemble._forest.RandomForestRegressor'> 1044812.1429518095 1020673.5051511815\n",
      "<class 'ngboost.api.NGBRegressor'> 974017.1004097959 974005.168611539\n"
     ]
    }
   ],
   "source": [
    "for in_col in ['release_time', 'genre', 'screening_rat']:\n",
    "    _train_df = train_df.copy()\n",
    "    _test_df = test_df.copy()\n",
    "\n",
    "    exclude_cols = ['distributor_3way', 'distributor_2way', 'distributor_complex', 'dir_prev_bfnum2']\n",
    "    exclude_cols += ['release_time', 'genre', 'screening_rat']\n",
    "    \n",
    "    exclude_cols.remove(in_col)\n",
    "\n",
    "    mean_dir_prev_bfnum = train_df[~train_df.dir_prev_bfnum.isna()].dir_prev_bfnum.mean()\n",
    "\n",
    "    _train_df.loc[train_df.dir_prev_bfnum.isna(), 'dir_prev_bfnum'] = mean_dir_prev_bfnum\n",
    "    _test_df.loc[test_df.dir_prev_bfnum.isna(), 'dir_prev_bfnum'] = mean_dir_prev_bfnum\n",
    "\n",
    "    _train_df.drop(columns=exclude_cols, inplace=True)\n",
    "    _test_df.drop(columns=exclude_cols, inplace=True)\n",
    "    \n",
    "    train, valid = train_test_split(_train_df, test_size = 0.1, random_state=42)\n",
    "\n",
    "    print(in_col)\n",
    "    run(train, valid, _test_df, 'not_used')\n",
    "    "
   ]
  },
  {
   "cell_type": "markdown",
   "id": "ef1b313b-abc4-4c8f-8a7b-01c5856c7d0c",
   "metadata": {},
   "source": [
    "---\n",
    "## EX4 Log transformation"
   ]
  },
  {
   "cell_type": "code",
   "execution_count": 252,
   "id": "31586647-3ec7-4a07-8c00-40c758ad5ecc",
   "metadata": {},
   "outputs": [
    {
     "name": "stdout",
     "output_type": "stream",
     "text": [
      "<class 'catboost.core.CatBoostRegressor'> 1036421.1287511501 1034630.6965684184\n",
      "<class 'lightgbm.sklearn.LGBMRegressor'> 1279456.163584793 1279456.163584793\n",
      "<class 'xgboost.sklearn.XGBRegressor'> 1134448.3032238074 1134448.3032238074\n",
      "<class 'sklearn.ensemble._gb.GradientBoostingRegressor'> 1044846.0252474186 1043233.3533715275\n",
      "<class 'sklearn.ensemble._forest.RandomForestRegressor'> 1059082.2364285833 1036723.9530714225\n",
      "<class 'ngboost.api.NGBRegressor'> 974974.3412875403 974664.7117842691\n"
     ]
    }
   ],
   "source": [
    "_train_df = train_df.copy()\n",
    "_test_df = test_df.copy()\n",
    "\n",
    "mean_dir_prev_bfnum = train_df[~train_df.dir_prev_bfnum.isna()].dir_prev_bfnum.mean()\n",
    "\n",
    "_train_df.loc[train_df.dir_prev_bfnum.isna(), 'dir_prev_bfnum'] = mean_dir_prev_bfnum\n",
    "_test_df.loc[test_df.dir_prev_bfnum.isna(), 'dir_prev_bfnum'] = mean_dir_prev_bfnum\n",
    "\n",
    "exclude_cols = ['distributor_3way', 'distributor_2way', 'distributor_complex', 'dir_prev_bfnum2', 'release_time', 'genre']\n",
    "\n",
    "_train_df.drop(columns=exclude_cols, inplace=True)\n",
    "_test_df.drop(columns=exclude_cols, inplace=True)\n",
    "\n",
    "for log_col in ['num_staff', 'dir_prev_bfnum']:\n",
    "    _train_df[log_col] = np.log1p(_train_df[log_col])\n",
    "    _test_df[log_col] = np.log1p(_test_df[log_col])\n",
    "    \n",
    "train, valid = train_test_split(_train_df, test_size = 0.1, random_state=42)\n",
    "\n",
    "run(train, valid, _test_df, 'EX4')"
   ]
  },
  {
   "cell_type": "markdown",
   "id": "596c2673-020b-4720-beb8-22f0e4cc3a14",
   "metadata": {},
   "source": [
    "---\n",
    "# Ensemble\n",
    "## Ensemble 6 Models"
   ]
  },
  {
   "cell_type": "code",
   "execution_count": 258,
   "id": "74d1d2d6-006f-4442-af2f-d89707aec2cd",
   "metadata": {},
   "outputs": [],
   "source": [
    "_train_df = train_df.copy()\n",
    "_test_df = test_df.copy()\n",
    "\n",
    "exclude_cols = ['distributor_3way', 'distributor_2way', 'distributor_complex', 'dir_prev_bfnum2']\n",
    "\n",
    "_train_df.drop(columns=exclude_cols, inplace=True)\n",
    "_test_df.drop(columns=exclude_cols, inplace=True)\n",
    "\n",
    "mean_dir_prev_bfnum = train_df[~train_df.dir_prev_bfnum.isna()].dir_prev_bfnum.mean()\n",
    "\n",
    "_train_df.loc[train_df.dir_prev_bfnum.isna(), 'dir_prev_bfnum'] = mean_dir_prev_bfnum\n",
    "_test_df.loc[test_df.dir_prev_bfnum.isna(), 'dir_prev_bfnum'] = mean_dir_prev_bfnum\n",
    "\n",
    "train, valid = train_test_split(_train_df, test_size = 0.1, random_state=42)"
   ]
  },
  {
   "cell_type": "code",
   "execution_count": 264,
   "id": "ca6eab5b-0bc8-46d6-ac7d-0f5e98eba882",
   "metadata": {},
   "outputs": [
    {
     "name": "stdout",
     "output_type": "stream",
     "text": [
      "<class 'catboost.core.CatBoostRegressor'> 1035570.4843853224 1033035.1913942667\n",
      "<class 'lightgbm.sklearn.LGBMRegressor'> 1263370.3773121897 1263370.3773121897\n",
      "<class 'xgboost.sklearn.XGBRegressor'> 1122757.144203233 1122757.144203233\n",
      "<class 'sklearn.ensemble._gb.GradientBoostingRegressor'> 944586.1568818493 944436.2415444893\n",
      "<class 'sklearn.ensemble._forest.RandomForestRegressor'> 980468.4956210986 981142.1385827006\n",
      "<class 'ngboost.api.NGBRegressor'> 967836.1507971653 966622.8869092462\n"
     ]
    }
   ],
   "source": [
    "run(train, valid, _test_df, 'ensemble', save=True)"
   ]
  },
  {
   "cell_type": "code",
   "execution_count": null,
   "id": "74f6320e-9b6f-4c33-ab43-2e402f870148",
   "metadata": {},
   "outputs": [],
   "source": []
  },
  {
   "cell_type": "code",
   "execution_count": null,
   "id": "9b070ede-0811-446f-a386-36e714d723e2",
   "metadata": {},
   "outputs": [],
   "source": []
  }
 ],
 "metadata": {
  "kernelspec": {
   "display_name": "Python 3 (ipykernel)",
   "language": "python",
   "name": "python3"
  },
  "language_info": {
   "codemirror_mode": {
    "name": "ipython",
    "version": 3
   },
   "file_extension": ".py",
   "mimetype": "text/x-python",
   "name": "python",
   "nbconvert_exporter": "python",
   "pygments_lexer": "ipython3",
   "version": "3.9.7"
  }
 },
 "nbformat": 4,
 "nbformat_minor": 5
}
