{
 "cells": [
  {
   "cell_type": "code",
   "execution_count": 2,
   "id": "6ea1380c-900e-4fda-9a86-af4c70442335",
   "metadata": {},
   "outputs": [],
   "source": [
    "import pandas as pd\n",
    "import numpy as np\n",
    "\n",
    "from collections import defaultdict\n",
    "\n",
    "from sklearn.preprocessing import LabelEncoder"
   ]
  },
  {
   "cell_type": "markdown",
   "id": "68bd7f98-1cb1-4f12-a2af-9f988dc319d3",
   "metadata": {},
   "source": [
    "# EDA"
   ]
  },
  {
   "cell_type": "code",
   "execution_count": 3,
   "id": "ccf25cb7-765c-492d-b0a8-4f26660bf8a1",
   "metadata": {},
   "outputs": [],
   "source": [
    "train_df = pd.read_csv('movies_train.csv')\n",
    "test_df = pd.read_csv('movies_test.csv')\n",
    "submit = pd.read_csv('submission.csv')"
   ]
  },
  {
   "cell_type": "code",
   "execution_count": 416,
   "id": "eb5d2ddd-76b7-4015-a498-459327962f09",
   "metadata": {},
   "outputs": [
    {
     "data": {
      "text/plain": [
       "(600, 243)"
      ]
     },
     "execution_count": 416,
     "metadata": {},
     "output_type": "execute_result"
    }
   ],
   "source": [
    "len(train_df), len(test_df)"
   ]
  },
  {
   "cell_type": "code",
   "execution_count": 417,
   "id": "c8a93b78-a676-4c14-b548-7b336bc8026f",
   "metadata": {},
   "outputs": [
    {
     "data": {
      "text/html": [
       "<div>\n",
       "<style scoped>\n",
       "    .dataframe tbody tr th:only-of-type {\n",
       "        vertical-align: middle;\n",
       "    }\n",
       "\n",
       "    .dataframe tbody tr th {\n",
       "        vertical-align: top;\n",
       "    }\n",
       "\n",
       "    .dataframe thead th {\n",
       "        text-align: right;\n",
       "    }\n",
       "</style>\n",
       "<table border=\"1\" class=\"dataframe\">\n",
       "  <thead>\n",
       "    <tr style=\"text-align: right;\">\n",
       "      <th></th>\n",
       "      <th>title</th>\n",
       "      <th>distributor</th>\n",
       "      <th>genre</th>\n",
       "      <th>release_time</th>\n",
       "      <th>time</th>\n",
       "      <th>screening_rat</th>\n",
       "      <th>director</th>\n",
       "      <th>dir_prev_bfnum</th>\n",
       "      <th>dir_prev_num</th>\n",
       "      <th>num_staff</th>\n",
       "      <th>num_actor</th>\n",
       "      <th>box_off_num</th>\n",
       "    </tr>\n",
       "  </thead>\n",
       "  <tbody>\n",
       "    <tr>\n",
       "      <th>0</th>\n",
       "      <td>개들의 전쟁</td>\n",
       "      <td>롯데엔터테인먼트</td>\n",
       "      <td>액션</td>\n",
       "      <td>2012-11-22</td>\n",
       "      <td>96</td>\n",
       "      <td>청소년 관람불가</td>\n",
       "      <td>조병옥</td>\n",
       "      <td>NaN</td>\n",
       "      <td>0</td>\n",
       "      <td>91</td>\n",
       "      <td>2</td>\n",
       "      <td>23398</td>\n",
       "    </tr>\n",
       "    <tr>\n",
       "      <th>1</th>\n",
       "      <td>내부자들</td>\n",
       "      <td>(주)쇼박스</td>\n",
       "      <td>느와르</td>\n",
       "      <td>2015-11-19</td>\n",
       "      <td>130</td>\n",
       "      <td>청소년 관람불가</td>\n",
       "      <td>우민호</td>\n",
       "      <td>1161602.50</td>\n",
       "      <td>2</td>\n",
       "      <td>387</td>\n",
       "      <td>3</td>\n",
       "      <td>7072501</td>\n",
       "    </tr>\n",
       "    <tr>\n",
       "      <th>2</th>\n",
       "      <td>은밀하게 위대하게</td>\n",
       "      <td>(주)쇼박스</td>\n",
       "      <td>액션</td>\n",
       "      <td>2013-06-05</td>\n",
       "      <td>123</td>\n",
       "      <td>15세 관람가</td>\n",
       "      <td>장철수</td>\n",
       "      <td>220775.25</td>\n",
       "      <td>4</td>\n",
       "      <td>343</td>\n",
       "      <td>4</td>\n",
       "      <td>6959083</td>\n",
       "    </tr>\n",
       "    <tr>\n",
       "      <th>3</th>\n",
       "      <td>나는 공무원이다</td>\n",
       "      <td>(주)NEW</td>\n",
       "      <td>코미디</td>\n",
       "      <td>2012-07-12</td>\n",
       "      <td>101</td>\n",
       "      <td>전체 관람가</td>\n",
       "      <td>구자홍</td>\n",
       "      <td>23894.00</td>\n",
       "      <td>2</td>\n",
       "      <td>20</td>\n",
       "      <td>6</td>\n",
       "      <td>217866</td>\n",
       "    </tr>\n",
       "    <tr>\n",
       "      <th>4</th>\n",
       "      <td>불량남녀</td>\n",
       "      <td>쇼박스(주)미디어플렉스</td>\n",
       "      <td>코미디</td>\n",
       "      <td>2010-11-04</td>\n",
       "      <td>108</td>\n",
       "      <td>15세 관람가</td>\n",
       "      <td>신근호</td>\n",
       "      <td>1.00</td>\n",
       "      <td>1</td>\n",
       "      <td>251</td>\n",
       "      <td>2</td>\n",
       "      <td>483387</td>\n",
       "    </tr>\n",
       "  </tbody>\n",
       "</table>\n",
       "</div>"
      ],
      "text/plain": [
       "       title   distributor genre release_time  time screening_rat director  \\\n",
       "0     개들의 전쟁      롯데엔터테인먼트    액션   2012-11-22    96      청소년 관람불가      조병옥   \n",
       "1       내부자들        (주)쇼박스   느와르   2015-11-19   130      청소년 관람불가      우민호   \n",
       "2  은밀하게 위대하게        (주)쇼박스    액션   2013-06-05   123       15세 관람가      장철수   \n",
       "3   나는 공무원이다        (주)NEW   코미디   2012-07-12   101        전체 관람가      구자홍   \n",
       "4       불량남녀  쇼박스(주)미디어플렉스   코미디   2010-11-04   108       15세 관람가      신근호   \n",
       "\n",
       "   dir_prev_bfnum  dir_prev_num  num_staff  num_actor  box_off_num  \n",
       "0             NaN             0         91          2        23398  \n",
       "1      1161602.50             2        387          3      7072501  \n",
       "2       220775.25             4        343          4      6959083  \n",
       "3        23894.00             2         20          6       217866  \n",
       "4            1.00             1        251          2       483387  "
      ]
     },
     "execution_count": 417,
     "metadata": {},
     "output_type": "execute_result"
    }
   ],
   "source": [
    "train_df.head()"
   ]
  },
  {
   "cell_type": "code",
   "execution_count": 418,
   "id": "84b24052-fbd2-4366-8ee0-917680a1daf6",
   "metadata": {},
   "outputs": [
    {
     "name": "stdout",
     "output_type": "stream",
     "text": [
      "<class 'pandas.core.frame.DataFrame'>\n",
      "RangeIndex: 600 entries, 0 to 599\n",
      "Data columns (total 12 columns):\n",
      " #   Column          Non-Null Count  Dtype  \n",
      "---  ------          --------------  -----  \n",
      " 0   title           600 non-null    object \n",
      " 1   distributor     600 non-null    object \n",
      " 2   genre           600 non-null    object \n",
      " 3   release_time    600 non-null    object \n",
      " 4   time            600 non-null    int64  \n",
      " 5   screening_rat   600 non-null    object \n",
      " 6   director        600 non-null    object \n",
      " 7   dir_prev_bfnum  270 non-null    float64\n",
      " 8   dir_prev_num    600 non-null    int64  \n",
      " 9   num_staff       600 non-null    int64  \n",
      " 10  num_actor       600 non-null    int64  \n",
      " 11  box_off_num     600 non-null    int64  \n",
      "dtypes: float64(1), int64(5), object(6)\n",
      "memory usage: 56.4+ KB\n"
     ]
    }
   ],
   "source": [
    "train_df.info()"
   ]
  },
  {
   "cell_type": "code",
   "execution_count": 419,
   "id": "d316fa1a-4a41-4ade-9870-1c10c4885c4c",
   "metadata": {},
   "outputs": [
    {
     "name": "stdout",
     "output_type": "stream",
     "text": [
      "<class 'pandas.core.frame.DataFrame'>\n",
      "RangeIndex: 243 entries, 0 to 242\n",
      "Data columns (total 11 columns):\n",
      " #   Column          Non-Null Count  Dtype  \n",
      "---  ------          --------------  -----  \n",
      " 0   title           243 non-null    object \n",
      " 1   distributor     243 non-null    object \n",
      " 2   genre           243 non-null    object \n",
      " 3   release_time    243 non-null    object \n",
      " 4   time            243 non-null    int64  \n",
      " 5   screening_rat   243 non-null    object \n",
      " 6   director        243 non-null    object \n",
      " 7   dir_prev_bfnum  107 non-null    float64\n",
      " 8   dir_prev_num    243 non-null    int64  \n",
      " 9   num_staff       243 non-null    int64  \n",
      " 10  num_actor       243 non-null    int64  \n",
      "dtypes: float64(1), int64(4), object(6)\n",
      "memory usage: 21.0+ KB\n"
     ]
    }
   ],
   "source": [
    "test_df.info()"
   ]
  },
  {
   "cell_type": "code",
   "execution_count": 420,
   "id": "ba6e6e91-8586-4565-86e8-f54ebc3328f4",
   "metadata": {},
   "outputs": [
    {
     "name": "stdout",
     "output_type": "stream",
     "text": [
      "title 600\n",
      "distributor 169\n",
      "genre 12\n",
      "release_time 330\n",
      "time 86\n",
      "screening_rat 4\n",
      "director 472\n",
      "dir_prev_bfnum 246\n",
      "dir_prev_num 6\n",
      "num_staff 296\n",
      "num_actor 17\n",
      "box_off_num 586\n"
     ]
    }
   ],
   "source": [
    "for col in train_df.columns:\n",
    "    print(col, len(train_df[col].unique()))"
   ]
  },
  {
   "cell_type": "markdown",
   "id": "9d66ab25-53f9-4eac-b872-b975794c8059",
   "metadata": {},
   "source": [
    "```\n",
    "title : 영화의 제목\n",
    "distributor : 배급사\n",
    "genre : 장르\n",
    "release_time : 개봉일\n",
    "time : 상영시간(분)\n",
    "screening_rat : 상영등급\n",
    "director : 감독이름\n",
    "dir_prev_bfnum : 해당 감독이 이 영화를 만들기 전 제작에 참여한 영화에서의 평균 관객수(단 관객수가 알려지지 않은 영화 제외)\n",
    "dir_prev_num : 해당 감독이 이 영화를 만들기 전 제작에 참여한 영화의 개수(단 관객수가 알려지지 않은 영화 제외)\n",
    "num_staff : 스텝수\n",
    "num_actor : 주연배우수\n",
    "box_off_num : 관객수\n",
    "```\n",
    "\n",
    "```\n",
    "title 600 제외\n",
    "distributor 169 이산화\n",
    "genre 12 이산화\n",
    "release_time 330 이산화\n",
    "time 86 그대로\n",
    "screening_rat 4 이산화\n",
    "director 472 제거\n",
    "dir_prev_bfnum 246 제외 또는 예측 또는 2way 학습 또는 T or F\n",
    "dir_prev_num 6 그대로\n",
    "num_staff 296 그대로\n",
    "num_actor 17 그대로\n",
    "box_off_num 586 예측 컬럼\n",
    "```"
   ]
  },
  {
   "cell_type": "code",
   "execution_count": 421,
   "id": "2cf52eb9-257c-42f3-b411-a8481584f1b9",
   "metadata": {},
   "outputs": [
    {
     "data": {
      "text/html": [
       "<div>\n",
       "<style scoped>\n",
       "    .dataframe tbody tr th:only-of-type {\n",
       "        vertical-align: middle;\n",
       "    }\n",
       "\n",
       "    .dataframe tbody tr th {\n",
       "        vertical-align: top;\n",
       "    }\n",
       "\n",
       "    .dataframe thead th {\n",
       "        text-align: right;\n",
       "    }\n",
       "</style>\n",
       "<table border=\"1\" class=\"dataframe\">\n",
       "  <thead>\n",
       "    <tr style=\"text-align: right;\">\n",
       "      <th></th>\n",
       "      <th>time</th>\n",
       "      <th>dir_prev_bfnum</th>\n",
       "      <th>dir_prev_num</th>\n",
       "      <th>num_staff</th>\n",
       "      <th>num_actor</th>\n",
       "      <th>box_off_num</th>\n",
       "    </tr>\n",
       "  </thead>\n",
       "  <tbody>\n",
       "    <tr>\n",
       "      <th>time</th>\n",
       "      <td>1.000000</td>\n",
       "      <td>0.264675</td>\n",
       "      <td>0.306727</td>\n",
       "      <td>0.623205</td>\n",
       "      <td>0.114153</td>\n",
       "      <td>0.441452</td>\n",
       "    </tr>\n",
       "    <tr>\n",
       "      <th>dir_prev_bfnum</th>\n",
       "      <td>0.264675</td>\n",
       "      <td>1.000000</td>\n",
       "      <td>0.131822</td>\n",
       "      <td>0.323521</td>\n",
       "      <td>0.083818</td>\n",
       "      <td>0.283184</td>\n",
       "    </tr>\n",
       "    <tr>\n",
       "      <th>dir_prev_num</th>\n",
       "      <td>0.306727</td>\n",
       "      <td>0.131822</td>\n",
       "      <td>1.000000</td>\n",
       "      <td>0.450706</td>\n",
       "      <td>0.014006</td>\n",
       "      <td>0.259674</td>\n",
       "    </tr>\n",
       "    <tr>\n",
       "      <th>num_staff</th>\n",
       "      <td>0.623205</td>\n",
       "      <td>0.323521</td>\n",
       "      <td>0.450706</td>\n",
       "      <td>1.000000</td>\n",
       "      <td>0.077871</td>\n",
       "      <td>0.544265</td>\n",
       "    </tr>\n",
       "    <tr>\n",
       "      <th>num_actor</th>\n",
       "      <td>0.114153</td>\n",
       "      <td>0.083818</td>\n",
       "      <td>0.014006</td>\n",
       "      <td>0.077871</td>\n",
       "      <td>1.000000</td>\n",
       "      <td>0.111179</td>\n",
       "    </tr>\n",
       "    <tr>\n",
       "      <th>box_off_num</th>\n",
       "      <td>0.441452</td>\n",
       "      <td>0.283184</td>\n",
       "      <td>0.259674</td>\n",
       "      <td>0.544265</td>\n",
       "      <td>0.111179</td>\n",
       "      <td>1.000000</td>\n",
       "    </tr>\n",
       "  </tbody>\n",
       "</table>\n",
       "</div>"
      ],
      "text/plain": [
       "                    time  dir_prev_bfnum  dir_prev_num  num_staff  num_actor  \\\n",
       "time            1.000000        0.264675      0.306727   0.623205   0.114153   \n",
       "dir_prev_bfnum  0.264675        1.000000      0.131822   0.323521   0.083818   \n",
       "dir_prev_num    0.306727        0.131822      1.000000   0.450706   0.014006   \n",
       "num_staff       0.623205        0.323521      0.450706   1.000000   0.077871   \n",
       "num_actor       0.114153        0.083818      0.014006   0.077871   1.000000   \n",
       "box_off_num     0.441452        0.283184      0.259674   0.544265   0.111179   \n",
       "\n",
       "                box_off_num  \n",
       "time               0.441452  \n",
       "dir_prev_bfnum     0.283184  \n",
       "dir_prev_num       0.259674  \n",
       "num_staff          0.544265  \n",
       "num_actor          0.111179  \n",
       "box_off_num        1.000000  "
      ]
     },
     "execution_count": 421,
     "metadata": {},
     "output_type": "execute_result"
    }
   ],
   "source": [
    "train_df.corr()"
   ]
  },
  {
   "cell_type": "markdown",
   "id": "f0a9fbdb-4764-427e-a21b-0d1107b1a0e9",
   "metadata": {},
   "source": [
    "## title"
   ]
  },
  {
   "cell_type": "code",
   "execution_count": 422,
   "id": "40775ae0-0493-45d3-bee9-15fa82d60ebf",
   "metadata": {},
   "outputs": [],
   "source": [
    "train_df.drop(columns=['title'], inplace=True)\n",
    "test_df.drop(columns=['title'], inplace=True)"
   ]
  },
  {
   "cell_type": "markdown",
   "id": "31876ddc-f3a7-4ff0-b777-153b65da60f8",
   "metadata": {},
   "source": [
    "## distributor"
   ]
  },
  {
   "cell_type": "code",
   "execution_count": 423,
   "id": "4b77c7ab-ec42-4abd-be8a-b1d8d5fa9313",
   "metadata": {},
   "outputs": [
    {
     "data": {
      "text/plain": [
       "array(['롯데엔터테인먼트', '(주)쇼박스', '(주)NEW', '쇼박스(주)미디어플렉스', '백두대간',\n",
       "       '유니버설픽쳐스인터내셔널코리아', '(주)두타연', '(주) 케이알씨지', '(주)콘텐츠 윙', '(주)키노아이',\n",
       "       '(주)팝 파트너스', 'CJ E&M 영화부문', '(주) 영화제작전원사', 'CJ E&M Pictures',\n",
       "       'CGV 무비꼴라쥬', '리틀빅픽처스', '스폰지', 'CJ 엔터테인먼트', 'CGV아트하우스', '조이앤시네마',\n",
       "       '인디플러그', '콘텐츠판다', '인디스토리', '(주)팝엔터테인먼트', '시네마서비스', '웃기씨네',\n",
       "       '영화사 진진', '(주)레인보우 팩토리', '김기덕 필름', 'NEW', 'CJ CGV',\n",
       "       '동국대학교 충무로영상제작센터', 'BoXoo 엔터테인먼트', '(주)마운틴픽쳐스', 'CGV 아트하우스',\n",
       "       '메가박스(주)플러스엠', '골든타이드픽처스', '파이오니아21', '디 씨드', '드림팩트 엔터테인먼트', '시너지',\n",
       "       '디마엔터테인먼트', '판다미디어', '(주)스톰픽쳐스코리아', '(주)예지림 엔터테인먼트', '(주) 영화사조제',\n",
       "       '보람엔터테인먼트', '(주)시네마달', '노바엔터테인먼트', '(주)패스파인더씨앤씨', '(주)대명문화공장',\n",
       "       '(주)온비즈넷', 'KT&G 상상마당', '무비꼴라쥬', '인벤트 디', '씨네그루(주)키다리이엔티',\n",
       "       '스튜디오후크', '시네마 달', '나이너스엔터테인먼트(주)', 'THE 픽쳐스', '영구아트무비', '리틀빅픽쳐스',\n",
       "       '어뮤즈', '이모션 픽처스', '(주)이스트스카이필름', '필라멘트 픽쳐스', '조이앤컨텐츠그룹', '타임스토리그룹',\n",
       "       '마운틴 픽처스', '(주)휘엔터테인먼트', '이십세기폭스코리아(주)', '(주)피터팬픽쳐스', '에스와이코마드',\n",
       "       '(주)더픽쳐스', '오퍼스픽쳐스', '(주)고앤고 필름', '사람과 사람들', '(주)JK필름',\n",
       "       '씨너스엔터테인먼트(주)', 'KT', '싸이더스FNH', '(주)프레인글로벌', '나우콘텐츠', '홀리가든',\n",
       "       '(주) 브릿지웍스', '(주)엣나인필름', '위더스필름', '시네마달', '(주)에이원 엔터테인먼트',\n",
       "       'OAL(올)', '싸이더스', '전망좋은영화사', '스토리셋', '이상우필름', '씨네굿필름', '영희야놀자',\n",
       "       '찬란', '어썸 피플', '아방가르드 필름', '스크린조이', '와이드릴리즈(주)', 'tvN',\n",
       "       '(주) 액티버스엔터테인먼트', '더픽쳐스/(주)마운틴픽쳐스', '제나두 엔터테인먼트', '(주)아이필름코퍼레이션',\n",
       "       '쟈비스미디어', '트리필름', '에스피엠', '(주)리틀빅픽처스', '건시네마', '키노엔터테인먼트',\n",
       "       '(주)아우라픽처스', '에이블엔터테인먼트', '드림로드', '인피니티엔터테인먼트', '새인컴퍼니',\n",
       "       '스튜디오 느림보', '와이드 릴리즈(주)', '필름라인', 'M2픽처스', '고구마공작소', '(주)미디어데이',\n",
       "       '마노엔터테인먼트', '화앤담이엔티', '(주)스마일이엔티', '(주)패뷸러스', '싸이더스 FNH', '영화사 조아',\n",
       "       '판씨네마(주)', '두 엔터테인먼트', '(주)마인스 엔터테인먼트', '전주국제영화제', '(주)마인스엔터테인먼트',\n",
       "       '상구네 필름', '케이엠스타', '(주)유비네트워크', '한국YWCA연합회', 'KBS미디어(주)', '더 피플',\n",
       "       '위드시네마', '팜코리아미디어', '(주)씨엠닉스', 'SBS콘텐츠허브', '인터콘미디어', '(주)유비콘텐츠',\n",
       "       '프로젝트 엠피', '하준사', '(주)노버스엔터테인먼트', '주머니필름', '롤러코스터 프로덕션', 'SK플래닛',\n",
       "       '서울독립영화제', '스튜디오 블루', '(주)랠리버튼', '(주)드림팩트엔터테인먼트', '에이원 엔터테인먼트',\n",
       "       '머스트 씨 무비', 'SK텔레콤(주)', '마법사필름', '스폰지이엔티', '(주)로드하우스', '미라클 필름',\n",
       "       '프리비젼 엔터테인먼트', '영화사 廊', '크리에이티브컴즈(주)', 'ysfilm', '이달투', '퍼스트런'],\n",
       "      dtype=object)"
      ]
     },
     "execution_count": 423,
     "metadata": {},
     "output_type": "execute_result"
    }
   ],
   "source": [
    "train_df.distributor.unique()"
   ]
  },
  {
   "cell_type": "code",
   "execution_count": 424,
   "id": "8626ce65-4d8c-4c3a-9d0f-a4ac29fda64f",
   "metadata": {},
   "outputs": [
    {
     "data": {
      "text/plain": [
       "distributor\n",
       "CJ 엔터테인먼트        54\n",
       "롯데엔터테인먼트         52\n",
       "(주)NEW           30\n",
       "(주)마운틴픽쳐스        29\n",
       "(주)쇼박스           26\n",
       "인디스토리            26\n",
       "골든타이드픽처스         15\n",
       "(주) 케이알씨지        14\n",
       "(주)키노아이          10\n",
       "(주) 영화사조제        10\n",
       "어뮤즈              10\n",
       "시네마달             10\n",
       "영화사 진진           10\n",
       "시너지              10\n",
       "인디플러그             9\n",
       "인벤트 디             8\n",
       "KT&G 상상마당         8\n",
       "NEW               8\n",
       "스폰지               7\n",
       "시네마 달             6\n",
       "시네마서비스            6\n",
       "무비꼴라쥬             6\n",
       "필라멘트 픽쳐스          6\n",
       "(주)팝엔터테인먼트        6\n",
       "BoXoo 엔터테인먼트      6\n",
       "CGV아트하우스          5\n",
       "리틀빅픽처스            5\n",
       "마노엔터테인먼트          4\n",
       "씨너스엔터테인먼트(주)      4\n",
       "나이너스엔터테인먼트(주)     4\n",
       "메가박스(주)플러스엠       4\n",
       "홀리가든              4\n",
       "(주)엣나인필름          4\n",
       "드림팩트 엔터테인먼트       3\n",
       "CJ E&M 영화부문       3\n",
       "KT                3\n",
       "마운틴 픽처스           3\n",
       "(주) 브릿지웍스         3\n",
       "이모션 픽처스           3\n",
       "(주)마인스 엔터테인먼트     3\n",
       "(주) 영화제작전원사       3\n",
       "트리필름              3\n",
       "타임스토리그룹           3\n",
       "이십세기폭스코리아(주)      3\n",
       "김기덕 필름            3\n",
       "씨네그루(주)키다리이엔티     3\n",
       "싸이더스              3\n",
       "에스피엠              2\n",
       "웃기씨네              2\n",
       "서울독립영화제           2\n",
       "Name: box_off_num, dtype: int64"
      ]
     },
     "execution_count": 424,
     "metadata": {},
     "output_type": "execute_result"
    }
   ],
   "source": [
    "train_df.groupby('distributor').box_off_num.count().sort_values(ascending=False)[:50]"
   ]
  },
  {
   "cell_type": "code",
   "execution_count": 425,
   "id": "b0163b09-2b71-4940-9028-754529719639",
   "metadata": {},
   "outputs": [
    {
     "data": {
      "text/plain": [
       "9       1\n",
       "52      1\n",
       "15      1\n",
       "54      1\n",
       "14      1\n",
       "29      1\n",
       "30      1\n",
       "7       1\n",
       "5       2\n",
       "26      2\n",
       "8       3\n",
       "10      6\n",
       "4       6\n",
       "6       6\n",
       "3      14\n",
       "2      20\n",
       "1     102\n",
       "Name: box_off_num, dtype: int64"
      ]
     },
     "execution_count": 425,
     "metadata": {},
     "output_type": "execute_result"
    }
   ],
   "source": [
    "train_df.groupby('distributor').box_off_num.count().value_counts().sort_values()"
   ]
  },
  {
   "cell_type": "code",
   "execution_count": 426,
   "id": "191becc1-c8e6-46bc-bc5a-607475c4b6f7",
   "metadata": {},
   "outputs": [
    {
     "data": {
      "text/plain": [
       "169"
      ]
     },
     "execution_count": 426,
     "metadata": {},
     "output_type": "execute_result"
    }
   ],
   "source": [
    "train_df.groupby('distributor').box_off_num.count().value_counts().sort_values().sum()"
   ]
  },
  {
   "cell_type": "code",
   "execution_count": 427,
   "id": "60090de4-be43-49a0-9740-4052acd6f2d9",
   "metadata": {},
   "outputs": [
    {
     "data": {
      "text/plain": [
       "{'(주) 브릿지웍스': 3,\n",
       " '(주) 액티버스엔터테인먼트': 2,\n",
       " '(주) 영화사조제': 10,\n",
       " '(주) 영화제작전원사': 3,\n",
       " '(주) 케이알씨지': 14,\n",
       " '(주)JK필름': 1,\n",
       " '(주)NEW': 30,\n",
       " '(주)고앤고 필름': 1,\n",
       " '(주)노버스엔터테인먼트': 1,\n",
       " '(주)대명문화공장': 1,\n",
       " '(주)더픽쳐스': 1,\n",
       " '(주)두타연': 1,\n",
       " '(주)드림팩트엔터테인먼트': 1,\n",
       " '(주)랠리버튼': 1,\n",
       " '(주)레인보우 팩토리': 1,\n",
       " '(주)로드하우스': 1,\n",
       " '(주)리틀빅픽처스': 2,\n",
       " '(주)마운틴픽쳐스': 29,\n",
       " '(주)마인스 엔터테인먼트': 3,\n",
       " '(주)마인스엔터테인먼트': 2,\n",
       " '(주)미디어데이': 1,\n",
       " '(주)쇼박스': 26,\n",
       " '(주)스마일이엔티': 1,\n",
       " '(주)스톰픽쳐스코리아': 2,\n",
       " '(주)시네마달': 2,\n",
       " '(주)씨엠닉스': 1,\n",
       " '(주)아우라픽처스': 1,\n",
       " '(주)아이필름코퍼레이션': 1,\n",
       " '(주)에이원 엔터테인먼트': 1,\n",
       " '(주)엣나인필름': 4,\n",
       " '(주)예지림 엔터테인먼트': 1,\n",
       " '(주)온비즈넷': 1,\n",
       " '(주)유비네트워크': 1,\n",
       " '(주)유비콘텐츠': 1,\n",
       " '(주)이스트스카이필름': 1,\n",
       " '(주)콘텐츠 윙': 1,\n",
       " '(주)키노아이': 10,\n",
       " '(주)팝 파트너스': 1,\n",
       " '(주)팝엔터테인먼트': 6,\n",
       " '(주)패뷸러스': 1,\n",
       " '(주)패스파인더씨앤씨': 1,\n",
       " '(주)프레인글로벌': 2,\n",
       " '(주)피터팬픽쳐스': 1,\n",
       " '(주)휘엔터테인먼트': 1,\n",
       " 'BoXoo 엔터테인먼트': 6,\n",
       " 'CGV 무비꼴라쥬': 1,\n",
       " 'CGV 아트하우스': 2,\n",
       " 'CGV아트하우스': 5,\n",
       " 'CJ CGV': 1,\n",
       " 'CJ E&M Pictures': 2,\n",
       " 'CJ E&M 영화부문': 3,\n",
       " 'CJ 엔터테인먼트': 54,\n",
       " 'KBS미디어(주)': 1,\n",
       " 'KT': 3,\n",
       " 'KT&G 상상마당': 8,\n",
       " 'M2픽처스': 1,\n",
       " 'NEW': 8,\n",
       " 'OAL(올)': 1,\n",
       " 'SBS콘텐츠허브': 2,\n",
       " 'SK텔레콤(주)': 1,\n",
       " 'SK플래닛': 1,\n",
       " 'THE 픽쳐스': 1,\n",
       " 'tvN': 1,\n",
       " 'ysfilm': 1,\n",
       " '건시네마': 1,\n",
       " '고구마공작소': 1,\n",
       " '골든타이드픽처스': 15,\n",
       " '김기덕 필름': 3,\n",
       " '나우콘텐츠': 1,\n",
       " '나이너스엔터테인먼트(주)': 4,\n",
       " '노바엔터테인먼트': 2,\n",
       " '더 피플': 1,\n",
       " '더픽쳐스/(주)마운틴픽쳐스': 1,\n",
       " '동국대학교 충무로영상제작센터': 1,\n",
       " '두 엔터테인먼트': 1,\n",
       " '드림로드': 2,\n",
       " '드림팩트 엔터테인먼트': 3,\n",
       " '디 씨드': 1,\n",
       " '디마엔터테인먼트': 1,\n",
       " '롤러코스터 프로덕션': 1,\n",
       " '롯데엔터테인먼트': 52,\n",
       " '리틀빅픽처스': 5,\n",
       " '리틀빅픽쳐스': 2,\n",
       " '마노엔터테인먼트': 4,\n",
       " '마법사필름': 1,\n",
       " '마운틴 픽처스': 3,\n",
       " '머스트 씨 무비': 1,\n",
       " '메가박스(주)플러스엠': 4,\n",
       " '무비꼴라쥬': 6,\n",
       " '미라클 필름': 1,\n",
       " '백두대간': 2,\n",
       " '보람엔터테인먼트': 1,\n",
       " '사람과 사람들': 1,\n",
       " '상구네 필름': 1,\n",
       " '새인컴퍼니': 1,\n",
       " '서울독립영화제': 2,\n",
       " '쇼박스(주)미디어플렉스': 2,\n",
       " '스크린조이': 1,\n",
       " '스토리셋': 1,\n",
       " '스튜디오 느림보': 1,\n",
       " '스튜디오 블루': 1,\n",
       " '스튜디오후크': 1,\n",
       " '스폰지': 7,\n",
       " '스폰지이엔티': 1,\n",
       " '시너지': 10,\n",
       " '시네마 달': 6,\n",
       " '시네마달': 10,\n",
       " '시네마서비스': 6,\n",
       " '싸이더스': 3,\n",
       " '싸이더스 FNH': 1,\n",
       " '싸이더스FNH': 1,\n",
       " '씨너스엔터테인먼트(주)': 4,\n",
       " '씨네굿필름': 1,\n",
       " '씨네그루(주)키다리이엔티': 3,\n",
       " '아방가르드 필름': 1,\n",
       " '어뮤즈': 10,\n",
       " '어썸 피플': 1,\n",
       " '에스와이코마드': 1,\n",
       " '에스피엠': 2,\n",
       " '에이블엔터테인먼트': 1,\n",
       " '에이원 엔터테인먼트': 1,\n",
       " '영구아트무비': 1,\n",
       " '영화사 廊': 1,\n",
       " '영화사 조아': 1,\n",
       " '영화사 진진': 10,\n",
       " '영희야놀자': 1,\n",
       " '오퍼스픽쳐스': 1,\n",
       " '와이드 릴리즈(주)': 1,\n",
       " '와이드릴리즈(주)': 1,\n",
       " '웃기씨네': 2,\n",
       " '위더스필름': 1,\n",
       " '위드시네마': 1,\n",
       " '유니버설픽쳐스인터내셔널코리아': 1,\n",
       " '이달투': 1,\n",
       " '이모션 픽처스': 3,\n",
       " '이상우필름': 1,\n",
       " '이십세기폭스코리아(주)': 3,\n",
       " '인디스토리': 26,\n",
       " '인디플러그': 9,\n",
       " '인벤트 디': 8,\n",
       " '인터콘미디어': 1,\n",
       " '인피니티엔터테인먼트': 1,\n",
       " '쟈비스미디어': 1,\n",
       " '전망좋은영화사': 1,\n",
       " '전주국제영화제': 1,\n",
       " '제나두 엔터테인먼트': 1,\n",
       " '조이앤시네마': 2,\n",
       " '조이앤컨텐츠그룹': 1,\n",
       " '주머니필름': 1,\n",
       " '찬란': 1,\n",
       " '케이엠스타': 1,\n",
       " '콘텐츠판다': 1,\n",
       " '크리에이티브컴즈(주)': 1,\n",
       " '키노엔터테인먼트': 1,\n",
       " '타임스토리그룹': 3,\n",
       " '트리필름': 3,\n",
       " '파이오니아21': 2,\n",
       " '판다미디어': 1,\n",
       " '판씨네마(주)': 1,\n",
       " '팜코리아미디어': 1,\n",
       " '퍼스트런': 1,\n",
       " '프로젝트 엠피': 1,\n",
       " '프리비젼 엔터테인먼트': 1,\n",
       " '필라멘트 픽쳐스': 6,\n",
       " '필름라인': 1,\n",
       " '하준사': 1,\n",
       " '한국YWCA연합회': 1,\n",
       " '홀리가든': 4,\n",
       " '화앤담이엔티': 2}"
      ]
     },
     "execution_count": 427,
     "metadata": {},
     "output_type": "execute_result"
    }
   ],
   "source": [
    "distributor_count = train_df.groupby('distributor').box_off_num.count().to_dict()\n",
    "distributor_count"
   ]
  },
  {
   "cell_type": "code",
   "execution_count": 428,
   "id": "825aba23-a3e6-47d7-ba73-c91cdff2d478",
   "metadata": {},
   "outputs": [],
   "source": [
    "distributor_count2 = defaultdict(int)\n",
    "for k, v in distributor_count.items():\n",
    "    k = k.replace(' ', '').replace('(주)', '')\n",
    "    distributor_count2[k] += v"
   ]
  },
  {
   "cell_type": "code",
   "execution_count": 429,
   "id": "f1c2f7cd-f6bb-4d68-976e-492487586b41",
   "metadata": {},
   "outputs": [
    {
     "data": {
      "text/plain": [
       "defaultdict(int,\n",
       "            {'브릿지웍스': 3,\n",
       "             '액티버스엔터테인먼트': 2,\n",
       "             '영화사조제': 10,\n",
       "             '영화제작전원사': 3,\n",
       "             '케이알씨지': 14,\n",
       "             'JK필름': 1,\n",
       "             'NEW': 38,\n",
       "             '고앤고필름': 1,\n",
       "             '노버스엔터테인먼트': 1,\n",
       "             '대명문화공장': 1,\n",
       "             '더픽쳐스': 1,\n",
       "             '두타연': 1,\n",
       "             '드림팩트엔터테인먼트': 4,\n",
       "             '랠리버튼': 1,\n",
       "             '레인보우팩토리': 1,\n",
       "             '로드하우스': 1,\n",
       "             '리틀빅픽처스': 7,\n",
       "             '마운틴픽쳐스': 29,\n",
       "             '마인스엔터테인먼트': 5,\n",
       "             '미디어데이': 1,\n",
       "             '쇼박스': 26,\n",
       "             '스마일이엔티': 1,\n",
       "             '스톰픽쳐스코리아': 2,\n",
       "             '시네마달': 18,\n",
       "             '씨엠닉스': 1,\n",
       "             '아우라픽처스': 1,\n",
       "             '아이필름코퍼레이션': 1,\n",
       "             '에이원엔터테인먼트': 2,\n",
       "             '엣나인필름': 4,\n",
       "             '예지림엔터테인먼트': 1,\n",
       "             '온비즈넷': 1,\n",
       "             '유비네트워크': 1,\n",
       "             '유비콘텐츠': 1,\n",
       "             '이스트스카이필름': 1,\n",
       "             '콘텐츠윙': 1,\n",
       "             '키노아이': 10,\n",
       "             '팝파트너스': 1,\n",
       "             '팝엔터테인먼트': 6,\n",
       "             '패뷸러스': 1,\n",
       "             '패스파인더씨앤씨': 1,\n",
       "             '프레인글로벌': 2,\n",
       "             '피터팬픽쳐스': 1,\n",
       "             '휘엔터테인먼트': 1,\n",
       "             'BoXoo엔터테인먼트': 6,\n",
       "             'CGV무비꼴라쥬': 1,\n",
       "             'CGV아트하우스': 7,\n",
       "             'CJCGV': 1,\n",
       "             'CJE&MPictures': 2,\n",
       "             'CJE&M영화부문': 3,\n",
       "             'CJ엔터테인먼트': 54,\n",
       "             'KBS미디어': 1,\n",
       "             'KT': 3,\n",
       "             'KT&G상상마당': 8,\n",
       "             'M2픽처스': 1,\n",
       "             'OAL(올)': 1,\n",
       "             'SBS콘텐츠허브': 2,\n",
       "             'SK텔레콤': 1,\n",
       "             'SK플래닛': 1,\n",
       "             'THE픽쳐스': 1,\n",
       "             'tvN': 1,\n",
       "             'ysfilm': 1,\n",
       "             '건시네마': 1,\n",
       "             '고구마공작소': 1,\n",
       "             '골든타이드픽처스': 15,\n",
       "             '김기덕필름': 3,\n",
       "             '나우콘텐츠': 1,\n",
       "             '나이너스엔터테인먼트': 4,\n",
       "             '노바엔터테인먼트': 2,\n",
       "             '더피플': 1,\n",
       "             '더픽쳐스/마운틴픽쳐스': 1,\n",
       "             '동국대학교충무로영상제작센터': 1,\n",
       "             '두엔터테인먼트': 1,\n",
       "             '드림로드': 2,\n",
       "             '디씨드': 1,\n",
       "             '디마엔터테인먼트': 1,\n",
       "             '롤러코스터프로덕션': 1,\n",
       "             '롯데엔터테인먼트': 52,\n",
       "             '리틀빅픽쳐스': 2,\n",
       "             '마노엔터테인먼트': 4,\n",
       "             '마법사필름': 1,\n",
       "             '마운틴픽처스': 3,\n",
       "             '머스트씨무비': 1,\n",
       "             '메가박스플러스엠': 4,\n",
       "             '무비꼴라쥬': 6,\n",
       "             '미라클필름': 1,\n",
       "             '백두대간': 2,\n",
       "             '보람엔터테인먼트': 1,\n",
       "             '사람과사람들': 1,\n",
       "             '상구네필름': 1,\n",
       "             '새인컴퍼니': 1,\n",
       "             '서울독립영화제': 2,\n",
       "             '쇼박스미디어플렉스': 2,\n",
       "             '스크린조이': 1,\n",
       "             '스토리셋': 1,\n",
       "             '스튜디오느림보': 1,\n",
       "             '스튜디오블루': 1,\n",
       "             '스튜디오후크': 1,\n",
       "             '스폰지': 7,\n",
       "             '스폰지이엔티': 1,\n",
       "             '시너지': 10,\n",
       "             '시네마서비스': 6,\n",
       "             '싸이더스': 3,\n",
       "             '싸이더스FNH': 2,\n",
       "             '씨너스엔터테인먼트': 4,\n",
       "             '씨네굿필름': 1,\n",
       "             '씨네그루키다리이엔티': 3,\n",
       "             '아방가르드필름': 1,\n",
       "             '어뮤즈': 10,\n",
       "             '어썸피플': 1,\n",
       "             '에스와이코마드': 1,\n",
       "             '에스피엠': 2,\n",
       "             '에이블엔터테인먼트': 1,\n",
       "             '영구아트무비': 1,\n",
       "             '영화사廊': 1,\n",
       "             '영화사조아': 1,\n",
       "             '영화사진진': 10,\n",
       "             '영희야놀자': 1,\n",
       "             '오퍼스픽쳐스': 1,\n",
       "             '와이드릴리즈': 2,\n",
       "             '웃기씨네': 2,\n",
       "             '위더스필름': 1,\n",
       "             '위드시네마': 1,\n",
       "             '유니버설픽쳐스인터내셔널코리아': 1,\n",
       "             '이달투': 1,\n",
       "             '이모션픽처스': 3,\n",
       "             '이상우필름': 1,\n",
       "             '이십세기폭스코리아': 3,\n",
       "             '인디스토리': 26,\n",
       "             '인디플러그': 9,\n",
       "             '인벤트디': 8,\n",
       "             '인터콘미디어': 1,\n",
       "             '인피니티엔터테인먼트': 1,\n",
       "             '쟈비스미디어': 1,\n",
       "             '전망좋은영화사': 1,\n",
       "             '전주국제영화제': 1,\n",
       "             '제나두엔터테인먼트': 1,\n",
       "             '조이앤시네마': 2,\n",
       "             '조이앤컨텐츠그룹': 1,\n",
       "             '주머니필름': 1,\n",
       "             '찬란': 1,\n",
       "             '케이엠스타': 1,\n",
       "             '콘텐츠판다': 1,\n",
       "             '크리에이티브컴즈': 1,\n",
       "             '키노엔터테인먼트': 1,\n",
       "             '타임스토리그룹': 3,\n",
       "             '트리필름': 3,\n",
       "             '파이오니아21': 2,\n",
       "             '판다미디어': 1,\n",
       "             '판씨네마': 1,\n",
       "             '팜코리아미디어': 1,\n",
       "             '퍼스트런': 1,\n",
       "             '프로젝트엠피': 1,\n",
       "             '프리비젼엔터테인먼트': 1,\n",
       "             '필라멘트픽쳐스': 6,\n",
       "             '필름라인': 1,\n",
       "             '하준사': 1,\n",
       "             '한국YWCA연합회': 1,\n",
       "             '홀리가든': 4,\n",
       "             '화앤담이엔티': 2})"
      ]
     },
     "execution_count": 429,
     "metadata": {},
     "output_type": "execute_result"
    }
   ],
   "source": [
    "distributor_count2"
   ]
  },
  {
   "cell_type": "code",
   "execution_count": 430,
   "id": "81329b10-0161-400b-8eba-a33fca392f5a",
   "metadata": {},
   "outputs": [],
   "source": [
    "def get_dis(x) :\n",
    "    if 'CJ' in x or 'CGV' in x :\n",
    "        return 'CJ'\n",
    "    elif '쇼박스' in x :\n",
    "        return '쇼박스'\n",
    "    elif 'SK' in x :\n",
    "        return 'SK'\n",
    "    elif '리틀빅픽' in x :\n",
    "        return '리틀빅픽처스'\n",
    "    elif '스폰지' in x :\n",
    "        return '스폰지'\n",
    "    elif '싸이더스' in x :\n",
    "        return '싸이더스'\n",
    "    elif '에이원' in x :\n",
    "        return '에이원'\n",
    "    elif '마인스' in x :\n",
    "        return '마인스'\n",
    "    elif '마운틴픽' in x :\n",
    "        return '마운틴픽처스'\n",
    "    elif '디씨드' in x :\n",
    "        return '디씨드'\n",
    "    elif '드림팩트' in x :\n",
    "        return '드림팩트'\n",
    "    elif '메가박스' in x :\n",
    "        return '메가박스'\n",
    "    elif '마운틴' in x :\n",
    "        return '마운틴'\n",
    "    else:\n",
    "        return x"
   ]
  },
  {
   "cell_type": "code",
   "execution_count": 431,
   "id": "80db82e0-62b6-4cee-8b3f-384a87396339",
   "metadata": {},
   "outputs": [],
   "source": [
    "distributor_count3 = defaultdict(int)\n",
    "for k, v in distributor_count.items():\n",
    "    k = k.replace(' ', '').replace('(주)', '')\n",
    "    k = get_dis(k)\n",
    "    distributor_count3[k] += v"
   ]
  },
  {
   "cell_type": "code",
   "execution_count": 432,
   "id": "dbba9fc9-6bba-409b-834d-32fa3e1c3c81",
   "metadata": {},
   "outputs": [],
   "source": [
    "train_df['distributor_2way'] = train_df.distributor.apply(lambda x: 1 if distributor_count2[x] > 1 else 0)\n",
    "train_df['distributor_3way'] = train_df.distributor.apply(lambda x: 2 if distributor_count2[x] >= 10 else 1 if distributor_count2[x] > 1 else 0)\n",
    "train_df['distributor_simple'] = train_df.distributor.apply(lambda x: distributor_count2[x])\n",
    "train_df['distributor_complex'] = train_df.distributor.apply(lambda x: distributor_count3[x])\n",
    "train_df.drop(columns=['distributor'], inplace=True)"
   ]
  },
  {
   "cell_type": "code",
   "execution_count": 433,
   "id": "09ea127c-4b07-4d57-b419-2ff569accc5c",
   "metadata": {},
   "outputs": [],
   "source": [
    "test_df['distributor_2way'] = test_df.distributor.apply(lambda x: 1 if distributor_count2[x] > 1 else 0)\n",
    "test_df['distributor_3way'] = test_df.distributor.apply(lambda x: 2 if distributor_count2[x] >= 10 else 1 if distributor_count2[x] > 1 else 0)\n",
    "test_df['distributor_simple'] = test_df.distributor.apply(lambda x: distributor_count2[x])\n",
    "test_df['distributor_complex'] = test_df.distributor.apply(lambda x: distributor_count3[x])\n",
    "test_df.drop(columns=['distributor'], inplace=True)"
   ]
  },
  {
   "cell_type": "code",
   "execution_count": null,
   "id": "8e6b9be5-aaea-4b4d-93db-63cfc78f9530",
   "metadata": {},
   "outputs": [],
   "source": []
  },
  {
   "cell_type": "markdown",
   "id": "20f3d1a5-d40d-416b-94b1-11938288b23e",
   "metadata": {},
   "source": [
    "## genre"
   ]
  },
  {
   "cell_type": "code",
   "execution_count": 434,
   "id": "58aa383a-f075-47d3-86fa-21ee809aa1e7",
   "metadata": {},
   "outputs": [
    {
     "data": {
      "text/plain": [
       "True"
      ]
     },
     "execution_count": 434,
     "metadata": {},
     "output_type": "execute_result"
    }
   ],
   "source": [
    "test_df.genre.unique() in train_df.genre.unique()"
   ]
  },
  {
   "cell_type": "code",
   "execution_count": 435,
   "id": "074576d0-32a2-4711-ad68-c0ea6cdb1acd",
   "metadata": {},
   "outputs": [
    {
     "data": {
      "text/plain": [
       "{'액션': 2203974.0714285714,\n",
       " '느와르': 2263695.111111111,\n",
       " '코미디': 1193914.0,\n",
       " '다큐멘터리': 67172.25806451614,\n",
       " '뮤지컬': 6627.0,\n",
       " '드라마': 625689.7918552036,\n",
       " '멜로/로맨스': 425968.03846153844,\n",
       " '공포': 590832.5238095238,\n",
       " '서스펜스': 82611.0,\n",
       " '애니메이션': 181926.66666666666,\n",
       " '미스터리': 527548.1764705882,\n",
       " 'SF': 1788345.6923076923}"
      ]
     },
     "execution_count": 435,
     "metadata": {},
     "output_type": "execute_result"
    }
   ],
   "source": [
    "genre_avg = {g: train_df[train_df.genre == g].box_off_num.mean() for g in train_df.genre.unique()}\n",
    "genre_avg"
   ]
  },
  {
   "cell_type": "code",
   "execution_count": 436,
   "id": "add949ee-c02f-4d19-a8a2-5f8636c419b3",
   "metadata": {},
   "outputs": [
    {
     "data": {
      "text/plain": [
       "['뮤지컬',\n",
       " '다큐멘터리',\n",
       " '서스펜스',\n",
       " '애니메이션',\n",
       " '멜로/로맨스',\n",
       " '미스터리',\n",
       " '공포',\n",
       " '드라마',\n",
       " '코미디',\n",
       " 'SF',\n",
       " '액션',\n",
       " '느와르']"
      ]
     },
     "execution_count": 436,
     "metadata": {},
     "output_type": "execute_result"
    }
   ],
   "source": [
    "genre_order = [k for k, v in sorted(genre_avg.items(), key=lambda x: x[1])]\n",
    "genre_order"
   ]
  },
  {
   "cell_type": "code",
   "execution_count": 437,
   "id": "0d4a3eab-c9be-41e6-aefc-4fb639949b26",
   "metadata": {},
   "outputs": [],
   "source": [
    "for g in train_df.genre.unique():\n",
    "    train_df.loc[train_df.genre == g, 'genre'] = genre_order.index(g)"
   ]
  },
  {
   "cell_type": "code",
   "execution_count": 438,
   "id": "edb1775e-d92d-46b5-bb16-6433286edf29",
   "metadata": {},
   "outputs": [],
   "source": [
    "for g in test_df.genre.unique():\n",
    "    test_df.loc[test_df.genre == g, 'genre'] = genre_order.index(g)"
   ]
  },
  {
   "cell_type": "code",
   "execution_count": null,
   "id": "a3619bba-5c0b-4797-894e-511dda5e10ae",
   "metadata": {},
   "outputs": [],
   "source": []
  },
  {
   "cell_type": "markdown",
   "id": "3d95bb20-e05a-45f9-9594-7ee8a13444cc",
   "metadata": {},
   "source": [
    "## release time"
   ]
  },
  {
   "cell_type": "code",
   "execution_count": null,
   "id": "70a5c4f1-19a9-4215-a57c-10feb1affbca",
   "metadata": {},
   "outputs": [],
   "source": []
  },
  {
   "cell_type": "code",
   "execution_count": 439,
   "id": "ada84b61-6209-4390-9300-1790865f354e",
   "metadata": {},
   "outputs": [
    {
     "data": {
      "text/plain": [
       "('2010-01-02', '2015-12-31')"
      ]
     },
     "execution_count": 439,
     "metadata": {},
     "output_type": "execute_result"
    }
   ],
   "source": [
    "train_df.release_time.min(), train_df.release_time.max()"
   ]
  },
  {
   "cell_type": "code",
   "execution_count": 440,
   "id": "6dceef96-b611-4257-a0b7-3ea05487108a",
   "metadata": {},
   "outputs": [
    {
     "data": {
      "text/plain": [
       "('2010-01-07', '2015-12-17')"
      ]
     },
     "execution_count": 440,
     "metadata": {},
     "output_type": "execute_result"
    }
   ],
   "source": [
    "test_df.release_time.min(), test_df.release_time.max()"
   ]
  },
  {
   "cell_type": "code",
   "execution_count": 441,
   "id": "afe8b126-4b66-4922-a159-29857edbbc94",
   "metadata": {},
   "outputs": [],
   "source": [
    "train_df['release_time1'] = train_df.release_time.apply(lambda x: ''.join(x.split('-')[:]))\n",
    "train_df['release_time1'] = train_df['release_time1'].astype(int)\n",
    "\n",
    "train_df['release_time2'] = train_df.release_time.apply(lambda x: ''.join(x.split('-')[:2]))\n",
    "train_df['release_time2'] = train_df['release_time2'].astype(int)\n",
    "\n",
    "train_df['release_time3'] = train_df.release_time.apply(lambda x: x.split('-')[0])\n",
    "train_df['release_time3'] = train_df['release_time3'].astype(int)"
   ]
  },
  {
   "cell_type": "code",
   "execution_count": 442,
   "id": "261e2d76-c52a-439f-9795-44a22e781beb",
   "metadata": {},
   "outputs": [],
   "source": [
    "test_df['release_time1'] = test_df.release_time.apply(lambda x: ''.join(x.split('-')[:]))\n",
    "test_df['release_time1'] = test_df['release_time1'].astype(int)\n",
    "\n",
    "test_df['release_time2'] = test_df.release_time.apply(lambda x: ''.join(x.split('-')[:2]))\n",
    "test_df['release_time2'] = test_df['release_time2'].astype(int)\n",
    "\n",
    "test_df['release_time3'] = test_df.release_time.apply(lambda x: x.split('-')[0])\n",
    "test_df['release_time3'] = test_df['release_time3'].astype(int)"
   ]
  },
  {
   "cell_type": "code",
   "execution_count": 443,
   "id": "733e63bd-d0a9-4c80-9410-d67ae2d0e0c5",
   "metadata": {},
   "outputs": [
    {
     "data": {
      "text/plain": [
       "(330, 72, 6)"
      ]
     },
     "execution_count": 443,
     "metadata": {},
     "output_type": "execute_result"
    }
   ],
   "source": [
    "len(train_df['release_time1'].unique()), len(train_df['release_time2'].unique()), len(train_df['release_time3'].unique())"
   ]
  },
  {
   "cell_type": "code",
   "execution_count": 444,
   "id": "45babc82-1bbe-46e9-8ba4-49ce31fc4e22",
   "metadata": {},
   "outputs": [
    {
     "data": {
      "text/plain": [
       "release_time1\n",
       "20131128    6\n",
       "20100916    6\n",
       "20150813    6\n",
       "20151022    6\n",
       "20110317    5\n",
       "           ..\n",
       "20111020    1\n",
       "20140123    1\n",
       "20140129    1\n",
       "20140130    1\n",
       "20100102    1\n",
       "Name: box_off_num, Length: 330, dtype: int64"
      ]
     },
     "execution_count": 444,
     "metadata": {},
     "output_type": "execute_result"
    }
   ],
   "source": [
    "train_df.groupby('release_time1')['box_off_num'].count().sort_values(ascending=False)"
   ]
  },
  {
   "cell_type": "code",
   "execution_count": 445,
   "id": "f7a3e647-5858-4c5b-a648-8d20956805f4",
   "metadata": {},
   "outputs": [
    {
     "data": {
      "text/plain": [
       "release_time2\n",
       "201410    19\n",
       "201311    18\n",
       "201512    15\n",
       "201510    14\n",
       "201404    14\n",
       "          ..\n",
       "201302     4\n",
       "201003     4\n",
       "201301     4\n",
       "201104     3\n",
       "201006     3\n",
       "Name: box_off_num, Length: 72, dtype: int64"
      ]
     },
     "execution_count": 445,
     "metadata": {},
     "output_type": "execute_result"
    }
   ],
   "source": [
    "train_df.groupby('release_time2')['box_off_num'].count().sort_values(ascending=False)"
   ]
  },
  {
   "cell_type": "code",
   "execution_count": 446,
   "id": "92cc5105-860c-4dd3-a72a-4b9fd0689232",
   "metadata": {},
   "outputs": [
    {
     "data": {
      "text/plain": [
       "release_time3\n",
       "2010    48749235\n",
       "2011    50309371\n",
       "2012    83223817\n",
       "2013    95698992\n",
       "2014    75423331\n",
       "2015    71504305\n",
       "Name: box_off_num, dtype: int64"
      ]
     },
     "execution_count": 446,
     "metadata": {},
     "output_type": "execute_result"
    }
   ],
   "source": [
    "train_df.groupby('release_time3')['box_off_num'].sum()"
   ]
  },
  {
   "cell_type": "code",
   "execution_count": 447,
   "id": "7817a5b0-90ea-4f35-a60e-9a93837df2e2",
   "metadata": {},
   "outputs": [
    {
     "data": {
      "text/plain": [
       "release_time3\n",
       "2014    127\n",
       "2015    120\n",
       "2013     95\n",
       "2010     90\n",
       "2012     88\n",
       "2011     80\n",
       "Name: box_off_num, dtype: int64"
      ]
     },
     "execution_count": 447,
     "metadata": {},
     "output_type": "execute_result"
    }
   ],
   "source": [
    "train_df.groupby('release_time3')['box_off_num'].count().sort_values(ascending=False)"
   ]
  },
  {
   "cell_type": "code",
   "execution_count": 448,
   "id": "bf8a03a2-8026-41bc-af5b-8b2e702e897c",
   "metadata": {},
   "outputs": [],
   "source": [
    "release_time_avg = {}\n",
    "for year in range(2010, 2016):\n",
    "    avg_by_year = (train_df.groupby('release_time3')['box_off_num'].sum()[year] /\n",
    "        train_df.groupby('release_time3')['box_off_num'].count().sort_values(ascending=False)[year])\n",
    "    release_time_avg[year] = avg_by_year"
   ]
  },
  {
   "cell_type": "code",
   "execution_count": 449,
   "id": "1a0c12b4-f561-44ae-9854-748d4d8fe19a",
   "metadata": {},
   "outputs": [
    {
     "data": {
      "text/plain": [
       "{2010: 541658.1666666666,\n",
       " 2011: 628867.1375,\n",
       " 2012: 945725.1931818182,\n",
       " 2013: 1007357.8105263158,\n",
       " 2014: 593884.4960629921,\n",
       " 2015: 595869.2083333334}"
      ]
     },
     "execution_count": 449,
     "metadata": {},
     "output_type": "execute_result"
    }
   ],
   "source": [
    "release_time_avg"
   ]
  },
  {
   "cell_type": "code",
   "execution_count": 450,
   "id": "c7019881-4182-4f94-a795-a22d843c50bb",
   "metadata": {},
   "outputs": [
    {
     "data": {
      "text/plain": [
       "[2010, 2014, 2015, 2011, 2012, 2013]"
      ]
     },
     "execution_count": 450,
     "metadata": {},
     "output_type": "execute_result"
    }
   ],
   "source": [
    "release_time_order = [k for k, v in sorted(release_time_avg.items(), key=lambda x: x[1])]\n",
    "release_time_order"
   ]
  },
  {
   "cell_type": "code",
   "execution_count": 451,
   "id": "d60cc9f3-9ebe-47a7-b344-1523c7dfb4df",
   "metadata": {},
   "outputs": [],
   "source": [
    "for y in train_df.release_time3.unique():\n",
    "    train_df.loc[train_df.release_time3 == y, 'release_time'] = release_time_order.index(y)\n",
    "    test_df.loc[test_df.release_time3 == y, 'release_time'] = release_time_order.index(y)"
   ]
  },
  {
   "cell_type": "code",
   "execution_count": 452,
   "id": "b59db0c5-7359-42ae-8fa1-72173c69a37c",
   "metadata": {},
   "outputs": [],
   "source": [
    "train_df.drop(columns=['release_time3', 'release_time1', 'release_time2'], inplace=True)\n",
    "test_df.drop(columns=['release_time3', 'release_time1', 'release_time2'], inplace=True)"
   ]
  },
  {
   "cell_type": "code",
   "execution_count": null,
   "id": "687f8818-d9ac-4b7b-bd0e-a8544696a883",
   "metadata": {},
   "outputs": [],
   "source": []
  },
  {
   "cell_type": "markdown",
   "id": "a39082c9-b9e7-48ae-8213-7f61535f214a",
   "metadata": {},
   "source": [
    "## time"
   ]
  },
  {
   "cell_type": "code",
   "execution_count": 453,
   "id": "dc25365a-c5e6-4ad5-aedb-28e2928a7bee",
   "metadata": {},
   "outputs": [
    {
     "data": {
      "text/plain": [
       "<AxesSubplot:>"
      ]
     },
     "execution_count": 453,
     "metadata": {},
     "output_type": "execute_result"
    },
    {
     "data": {
      "image/png": "[encoded data removed]",
      "text/plain": [
       "<Figure size 640x480 with 1 Axes>"
      ]
     },
     "metadata": {},
     "output_type": "display_data"
    }
   ],
   "source": [
    "train_df.time.hist()"
   ]
  },
  {
   "cell_type": "code",
   "execution_count": 454,
   "id": "6fb4c6e1-d8f5-4154-8595-db869c02a9e4",
   "metadata": {},
   "outputs": [
    {
     "data": {
      "text/html": [
       "<div>\n",
       "<style scoped>\n",
       "    .dataframe tbody tr th:only-of-type {\n",
       "        vertical-align: middle;\n",
       "    }\n",
       "\n",
       "    .dataframe tbody tr th {\n",
       "        vertical-align: top;\n",
       "    }\n",
       "\n",
       "    .dataframe thead th {\n",
       "        text-align: right;\n",
       "    }\n",
       "</style>\n",
       "<table border=\"1\" class=\"dataframe\">\n",
       "  <thead>\n",
       "    <tr style=\"text-align: right;\">\n",
       "      <th></th>\n",
       "      <th>time</th>\n",
       "      <th>box_off_num</th>\n",
       "    </tr>\n",
       "  </thead>\n",
       "  <tbody>\n",
       "    <tr>\n",
       "      <th>time</th>\n",
       "      <td>1.000000</td>\n",
       "      <td>0.441452</td>\n",
       "    </tr>\n",
       "    <tr>\n",
       "      <th>box_off_num</th>\n",
       "      <td>0.441452</td>\n",
       "      <td>1.000000</td>\n",
       "    </tr>\n",
       "  </tbody>\n",
       "</table>\n",
       "</div>"
      ],
      "text/plain": [
       "                 time  box_off_num\n",
       "time         1.000000     0.441452\n",
       "box_off_num  0.441452     1.000000"
      ]
     },
     "execution_count": 454,
     "metadata": {},
     "output_type": "execute_result"
    }
   ],
   "source": [
    "train_df[['time', 'box_off_num']].corr()"
   ]
  },
  {
   "cell_type": "code",
   "execution_count": 455,
   "id": "c964cabd-6abf-4cd9-a526-78932220b257",
   "metadata": {},
   "outputs": [
    {
     "data": {
      "text/html": [
       "<div>\n",
       "<style scoped>\n",
       "    .dataframe tbody tr th:only-of-type {\n",
       "        vertical-align: middle;\n",
       "    }\n",
       "\n",
       "    .dataframe tbody tr th {\n",
       "        vertical-align: top;\n",
       "    }\n",
       "\n",
       "    .dataframe thead th {\n",
       "        text-align: right;\n",
       "    }\n",
       "</style>\n",
       "<table border=\"1\" class=\"dataframe\">\n",
       "  <thead>\n",
       "    <tr style=\"text-align: right;\">\n",
       "      <th></th>\n",
       "      <th>time</th>\n",
       "      <th>box_off_num</th>\n",
       "    </tr>\n",
       "  </thead>\n",
       "  <tbody>\n",
       "    <tr>\n",
       "      <th>time</th>\n",
       "      <td>1.000000</td>\n",
       "      <td>-0.026325</td>\n",
       "    </tr>\n",
       "    <tr>\n",
       "      <th>box_off_num</th>\n",
       "      <td>-0.026325</td>\n",
       "      <td>1.000000</td>\n",
       "    </tr>\n",
       "  </tbody>\n",
       "</table>\n",
       "</div>"
      ],
      "text/plain": [
       "                 time  box_off_num\n",
       "time         1.000000    -0.026325\n",
       "box_off_num -0.026325     1.000000"
      ]
     },
     "execution_count": 455,
     "metadata": {},
     "output_type": "execute_result"
    }
   ],
   "source": [
    "train_df[(train_df.time <= 180) & (train_df.time > 120)][['time', 'box_off_num']].corr()"
   ]
  },
  {
   "cell_type": "code",
   "execution_count": 456,
   "id": "5b1d76c8-fc63-4acd-a550-71bbf73067ff",
   "metadata": {},
   "outputs": [
    {
     "data": {
      "text/html": [
       "<div>\n",
       "<style scoped>\n",
       "    .dataframe tbody tr th:only-of-type {\n",
       "        vertical-align: middle;\n",
       "    }\n",
       "\n",
       "    .dataframe tbody tr th {\n",
       "        vertical-align: top;\n",
       "    }\n",
       "\n",
       "    .dataframe thead th {\n",
       "        text-align: right;\n",
       "    }\n",
       "</style>\n",
       "<table border=\"1\" class=\"dataframe\">\n",
       "  <thead>\n",
       "    <tr style=\"text-align: right;\">\n",
       "      <th></th>\n",
       "      <th>time</th>\n",
       "      <th>box_off_num</th>\n",
       "    </tr>\n",
       "  </thead>\n",
       "  <tbody>\n",
       "    <tr>\n",
       "      <th>time</th>\n",
       "      <td>1.000000</td>\n",
       "      <td>0.388626</td>\n",
       "    </tr>\n",
       "    <tr>\n",
       "      <th>box_off_num</th>\n",
       "      <td>0.388626</td>\n",
       "      <td>1.000000</td>\n",
       "    </tr>\n",
       "  </tbody>\n",
       "</table>\n",
       "</div>"
      ],
      "text/plain": [
       "                 time  box_off_num\n",
       "time         1.000000     0.388626\n",
       "box_off_num  0.388626     1.000000"
      ]
     },
     "execution_count": 456,
     "metadata": {},
     "output_type": "execute_result"
    }
   ],
   "source": [
    "train_df[(train_df.time < 120) & (train_df.time > 60)][['time', 'box_off_num']].corr()"
   ]
  },
  {
   "cell_type": "code",
   "execution_count": 457,
   "id": "611ecc41-aa89-4720-8159-50ff96e84a7c",
   "metadata": {},
   "outputs": [
    {
     "data": {
      "text/html": [
       "<div>\n",
       "<style scoped>\n",
       "    .dataframe tbody tr th:only-of-type {\n",
       "        vertical-align: middle;\n",
       "    }\n",
       "\n",
       "    .dataframe tbody tr th {\n",
       "        vertical-align: top;\n",
       "    }\n",
       "\n",
       "    .dataframe thead th {\n",
       "        text-align: right;\n",
       "    }\n",
       "</style>\n",
       "<table border=\"1\" class=\"dataframe\">\n",
       "  <thead>\n",
       "    <tr style=\"text-align: right;\">\n",
       "      <th></th>\n",
       "      <th>genre</th>\n",
       "      <th>release_time</th>\n",
       "      <th>time</th>\n",
       "      <th>screening_rat</th>\n",
       "      <th>director</th>\n",
       "      <th>dir_prev_bfnum</th>\n",
       "      <th>dir_prev_num</th>\n",
       "      <th>num_staff</th>\n",
       "      <th>num_actor</th>\n",
       "      <th>box_off_num</th>\n",
       "      <th>distributor_2way</th>\n",
       "      <th>distributor_3way</th>\n",
       "      <th>distributor_simple</th>\n",
       "      <th>distributor_complex</th>\n",
       "    </tr>\n",
       "  </thead>\n",
       "  <tbody>\n",
       "    <tr>\n",
       "      <th>545</th>\n",
       "      <td>7</td>\n",
       "      <td>4</td>\n",
       "      <td>45</td>\n",
       "      <td>청소년 관람불가</td>\n",
       "      <td>이송희일</td>\n",
       "      <td>3389.0</td>\n",
       "      <td>1</td>\n",
       "      <td>2</td>\n",
       "      <td>2</td>\n",
       "      <td>2919</td>\n",
       "      <td>1</td>\n",
       "      <td>2</td>\n",
       "      <td>18</td>\n",
       "      <td>18</td>\n",
       "    </tr>\n",
       "  </tbody>\n",
       "</table>\n",
       "</div>"
      ],
      "text/plain": [
       "    genre release_time  time screening_rat director  dir_prev_bfnum  \\\n",
       "545     7            4    45      청소년 관람불가     이송희일          3389.0   \n",
       "\n",
       "     dir_prev_num  num_staff  num_actor  box_off_num  distributor_2way  \\\n",
       "545             1          2          2         2919                 1   \n",
       "\n",
       "     distributor_3way  distributor_simple  distributor_complex  \n",
       "545                 2                  18                   18  "
      ]
     },
     "execution_count": 457,
     "metadata": {},
     "output_type": "execute_result"
    }
   ],
   "source": [
    "train_df[(train_df.time < 60) & (train_df.time > 0)]"
   ]
  },
  {
   "cell_type": "code",
   "execution_count": 458,
   "id": "8f48d6f2-189f-46f0-b65e-53bde121a2a0",
   "metadata": {},
   "outputs": [
    {
     "data": {
      "text/html": [
       "<div>\n",
       "<style scoped>\n",
       "    .dataframe tbody tr th:only-of-type {\n",
       "        vertical-align: middle;\n",
       "    }\n",
       "\n",
       "    .dataframe tbody tr th {\n",
       "        vertical-align: top;\n",
       "    }\n",
       "\n",
       "    .dataframe thead th {\n",
       "        text-align: right;\n",
       "    }\n",
       "</style>\n",
       "<table border=\"1\" class=\"dataframe\">\n",
       "  <thead>\n",
       "    <tr style=\"text-align: right;\">\n",
       "      <th></th>\n",
       "      <th>time</th>\n",
       "      <th>box_off_num</th>\n",
       "    </tr>\n",
       "  </thead>\n",
       "  <tbody>\n",
       "    <tr>\n",
       "      <th>time</th>\n",
       "      <td>1.000000</td>\n",
       "      <td>0.459398</td>\n",
       "    </tr>\n",
       "    <tr>\n",
       "      <th>box_off_num</th>\n",
       "      <td>0.459398</td>\n",
       "      <td>1.000000</td>\n",
       "    </tr>\n",
       "  </tbody>\n",
       "</table>\n",
       "</div>"
      ],
      "text/plain": [
       "                 time  box_off_num\n",
       "time         1.000000     0.459398\n",
       "box_off_num  0.459398     1.000000"
      ]
     },
     "execution_count": 458,
     "metadata": {},
     "output_type": "execute_result"
    }
   ],
   "source": [
    "train_df[(train_df.time < 140) & (train_df.time > 60)][['time', 'box_off_num']].corr()"
   ]
  },
  {
   "cell_type": "markdown",
   "id": "93a882f0-c523-40cb-ac21-c70ec9833cff",
   "metadata": {},
   "source": [
    "## screening_rat"
   ]
  },
  {
   "cell_type": "code",
   "execution_count": 459,
   "id": "254407e2-5027-41e1-aea2-941af5c6f0f6",
   "metadata": {},
   "outputs": [
    {
     "data": {
      "text/plain": [
       "screening_rat\n",
       "12세 관람가      86188052\n",
       "15세 관람가     251998766\n",
       "전체 관람가       12429242\n",
       "청소년 관람불가     74292991\n",
       "Name: box_off_num, dtype: int64"
      ]
     },
     "execution_count": 459,
     "metadata": {},
     "output_type": "execute_result"
    }
   ],
   "source": [
    "train_df.groupby('screening_rat')['box_off_num'].sum()"
   ]
  },
  {
   "cell_type": "code",
   "execution_count": 460,
   "id": "fd86ddaa-057b-4eef-859d-b25dee02373c",
   "metadata": {},
   "outputs": [
    {
     "data": {
      "text/plain": [
       "screening_rat\n",
       "청소년 관람불가    204\n",
       "15세 관람가     202\n",
       "12세 관람가     102\n",
       "전체 관람가       92\n",
       "Name: box_off_num, dtype: int64"
      ]
     },
     "execution_count": 460,
     "metadata": {},
     "output_type": "execute_result"
    }
   ],
   "source": [
    "train_df.groupby('screening_rat')['box_off_num'].count().sort_values(ascending=False)"
   ]
  },
  {
   "cell_type": "code",
   "execution_count": 461,
   "id": "db4252e6-7de0-430a-97da-28908ea7bddc",
   "metadata": {},
   "outputs": [
    {
     "data": {
      "text/plain": [
       "{'청소년 관람불가': 364181.32843137253,\n",
       " '15세 관람가': 1247518.6435643565,\n",
       " '전체 관람가': 135100.45652173914,\n",
       " '12세 관람가': 844980.9019607843}"
      ]
     },
     "execution_count": 461,
     "metadata": {},
     "output_type": "execute_result"
    }
   ],
   "source": [
    "screening_rat_avg = {}\n",
    "for r in train_df.screening_rat.unique():\n",
    "    avg_by_rat = (train_df.groupby('screening_rat')['box_off_num'].sum()[r] /\n",
    "        train_df.groupby('screening_rat')['box_off_num'].count().sort_values(ascending=False)[r])\n",
    "    screening_rat_avg[r] = avg_by_rat\n",
    "screening_rat_avg"
   ]
  },
  {
   "cell_type": "code",
   "execution_count": 462,
   "id": "9c2df016-46b3-4955-ae49-9b5911d66266",
   "metadata": {},
   "outputs": [
    {
     "data": {
      "text/plain": [
       "['전체 관람가', '청소년 관람불가', '12세 관람가', '15세 관람가']"
      ]
     },
     "execution_count": 462,
     "metadata": {},
     "output_type": "execute_result"
    }
   ],
   "source": [
    "screening_rat_order = [k for k, v in sorted(screening_rat_avg.items(), key=lambda x: x[1])]\n",
    "screening_rat_order"
   ]
  },
  {
   "cell_type": "code",
   "execution_count": 463,
   "id": "3784bb39-9ec8-4cc5-b7ff-24215116406c",
   "metadata": {},
   "outputs": [],
   "source": [
    "for r in train_df.screening_rat.unique():\n",
    "    train_df.loc[train_df.screening_rat == r, 'screening_rat'] = screening_rat_order.index(r)\n",
    "    test_df.loc[test_df.screening_rat == r, 'screening_rat'] = screening_rat_order.index(r)"
   ]
  },
  {
   "cell_type": "markdown",
   "id": "cfbd23d5-6633-4b2b-a76d-e16be1e9b406",
   "metadata": {},
   "source": [
    "## director"
   ]
  },
  {
   "cell_type": "code",
   "execution_count": 464,
   "id": "06e0695f-3742-4d8a-972c-bf5e4578a02a",
   "metadata": {},
   "outputs": [
    {
     "data": {
      "text/plain": [
       "0      조병옥\n",
       "1      우민호\n",
       "2      장철수\n",
       "3      구자홍\n",
       "4      신근호\n",
       "      ... \n",
       "595    심성보\n",
       "596    윤종찬\n",
       "597    김대현\n",
       "598    백운학\n",
       "599    류승완\n",
       "Name: director, Length: 600, dtype: object"
      ]
     },
     "execution_count": 464,
     "metadata": {},
     "output_type": "execute_result"
    }
   ],
   "source": [
    "train_df.director"
   ]
  },
  {
   "cell_type": "code",
   "execution_count": 465,
   "id": "e00e7961-bd56-43b2-aac6-41acf376bd81",
   "metadata": {},
   "outputs": [
    {
     "data": {
      "text/plain": [
       "1    373\n",
       "2     79\n",
       "3     14\n",
       "4      5\n",
       "7      1\n",
       "Name: screening_rat, dtype: int64"
      ]
     },
     "execution_count": 465,
     "metadata": {},
     "output_type": "execute_result"
    }
   ],
   "source": [
    "train_df.groupby('director').screening_rat.count().sort_values().value_counts()"
   ]
  },
  {
   "cell_type": "code",
   "execution_count": 466,
   "id": "eb608243-e3c8-402b-a6c1-683681340ec1",
   "metadata": {},
   "outputs": [
    {
     "data": {
      "text/plain": [
       "director\n",
       "New Pistol    1\n",
       "이정욱           1\n",
       "이정범           1\n",
       "이재한           1\n",
       "이재규           1\n",
       "             ..\n",
       "신재호           4\n",
       "전규환           4\n",
       "우민호           4\n",
       "노진수           4\n",
       "홍상수           7\n",
       "Name: screening_rat, Length: 472, dtype: int64"
      ]
     },
     "execution_count": 466,
     "metadata": {},
     "output_type": "execute_result"
    }
   ],
   "source": [
    "train_df.groupby('director').screening_rat.count().sort_values()"
   ]
  },
  {
   "cell_type": "code",
   "execution_count": 467,
   "id": "fe5b6d24-5a57-452d-a149-3e03a249f3e9",
   "metadata": {},
   "outputs": [],
   "source": [
    "train_df.drop(columns=['director'], inplace=True)\n",
    "test_df.drop(columns=['director'], inplace=True)"
   ]
  },
  {
   "cell_type": "markdown",
   "id": "f9fa20db-cd13-4c9b-8244-cb37260e9e49",
   "metadata": {},
   "source": [
    "## dir_prev_bfnum"
   ]
  },
  {
   "cell_type": "code",
   "execution_count": 4,
   "id": "0cc8e64c-b222-4f35-bd88-de7511ffca63",
   "metadata": {},
   "outputs": [
    {
     "data": {
      "text/html": [
       "<div>\n",
       "<style scoped>\n",
       "    .dataframe tbody tr th:only-of-type {\n",
       "        vertical-align: middle;\n",
       "    }\n",
       "\n",
       "    .dataframe tbody tr th {\n",
       "        vertical-align: top;\n",
       "    }\n",
       "\n",
       "    .dataframe thead th {\n",
       "        text-align: right;\n",
       "    }\n",
       "</style>\n",
       "<table border=\"1\" class=\"dataframe\">\n",
       "  <thead>\n",
       "    <tr style=\"text-align: right;\">\n",
       "      <th></th>\n",
       "      <th>dir_prev_bfnum</th>\n",
       "      <th>box_off_num</th>\n",
       "    </tr>\n",
       "  </thead>\n",
       "  <tbody>\n",
       "    <tr>\n",
       "      <th>dir_prev_bfnum</th>\n",
       "      <td>1.000000</td>\n",
       "      <td>0.283184</td>\n",
       "    </tr>\n",
       "    <tr>\n",
       "      <th>box_off_num</th>\n",
       "      <td>0.283184</td>\n",
       "      <td>1.000000</td>\n",
       "    </tr>\n",
       "  </tbody>\n",
       "</table>\n",
       "</div>"
      ],
      "text/plain": [
       "                dir_prev_bfnum  box_off_num\n",
       "dir_prev_bfnum        1.000000     0.283184\n",
       "box_off_num           0.283184     1.000000"
      ]
     },
     "execution_count": 4,
     "metadata": {},
     "output_type": "execute_result"
    }
   ],
   "source": [
    "train_df[['dir_prev_bfnum', 'box_off_num']].corr()"
   ]
  },
  {
   "cell_type": "code",
   "execution_count": 468,
   "id": "ca2d55d6-1435-4bb8-b28d-9226bf6085a7",
   "metadata": {},
   "outputs": [],
   "source": [
    "train_df['dir_prev_bfnum2'] = train_df.dir_prev_bfnum.isna().astype(int)\n",
    "test_df['dir_prev_bfnum2'] = test_df.dir_prev_bfnum.isna().astype(int)"
   ]
  },
  {
   "cell_type": "markdown",
   "id": "0d805414-3370-4a5a-9a6e-e44a6bed2661",
   "metadata": {},
   "source": [
    "## dir_prev_num"
   ]
  },
  {
   "cell_type": "code",
   "execution_count": 5,
   "id": "9c1b3246-476f-4931-b08e-3d18ae7f43a3",
   "metadata": {},
   "outputs": [
    {
     "data": {
      "text/html": [
       "<div>\n",
       "<style scoped>\n",
       "    .dataframe tbody tr th:only-of-type {\n",
       "        vertical-align: middle;\n",
       "    }\n",
       "\n",
       "    .dataframe tbody tr th {\n",
       "        vertical-align: top;\n",
       "    }\n",
       "\n",
       "    .dataframe thead th {\n",
       "        text-align: right;\n",
       "    }\n",
       "</style>\n",
       "<table border=\"1\" class=\"dataframe\">\n",
       "  <thead>\n",
       "    <tr style=\"text-align: right;\">\n",
       "      <th></th>\n",
       "      <th>dir_prev_num</th>\n",
       "      <th>box_off_num</th>\n",
       "    </tr>\n",
       "  </thead>\n",
       "  <tbody>\n",
       "    <tr>\n",
       "      <th>dir_prev_num</th>\n",
       "      <td>1.000000</td>\n",
       "      <td>0.259674</td>\n",
       "    </tr>\n",
       "    <tr>\n",
       "      <th>box_off_num</th>\n",
       "      <td>0.259674</td>\n",
       "      <td>1.000000</td>\n",
       "    </tr>\n",
       "  </tbody>\n",
       "</table>\n",
       "</div>"
      ],
      "text/plain": [
       "              dir_prev_num  box_off_num\n",
       "dir_prev_num      1.000000     0.259674\n",
       "box_off_num       0.259674     1.000000"
      ]
     },
     "execution_count": 5,
     "metadata": {},
     "output_type": "execute_result"
    }
   ],
   "source": [
    "train_df[['dir_prev_num', 'box_off_num']].corr()"
   ]
  },
  {
   "cell_type": "code",
   "execution_count": 469,
   "id": "0f52a48d-824a-4bb7-9f5b-ec7b049520be",
   "metadata": {},
   "outputs": [
    {
     "data": {
      "text/plain": [
       "0      0\n",
       "1      2\n",
       "2      4\n",
       "3      2\n",
       "4      1\n",
       "      ..\n",
       "595    1\n",
       "596    1\n",
       "597    0\n",
       "598    0\n",
       "599    0\n",
       "Name: dir_prev_num, Length: 600, dtype: int64"
      ]
     },
     "execution_count": 469,
     "metadata": {},
     "output_type": "execute_result"
    }
   ],
   "source": [
    "train_df.dir_prev_num"
   ]
  },
  {
   "cell_type": "code",
   "execution_count": 19,
   "id": "8ff4d814-ec77-480b-a748-9b9675cdb29c",
   "metadata": {},
   "outputs": [
    {
     "data": {
      "text/html": [
       "<div>\n",
       "<style scoped>\n",
       "    .dataframe tbody tr th:only-of-type {\n",
       "        vertical-align: middle;\n",
       "    }\n",
       "\n",
       "    .dataframe tbody tr th {\n",
       "        vertical-align: top;\n",
       "    }\n",
       "\n",
       "    .dataframe thead th {\n",
       "        text-align: right;\n",
       "    }\n",
       "</style>\n",
       "<table border=\"1\" class=\"dataframe\">\n",
       "  <thead>\n",
       "    <tr style=\"text-align: right;\">\n",
       "      <th></th>\n",
       "      <th>time</th>\n",
       "      <th>dir_prev_bfnum</th>\n",
       "      <th>dir_prev_num</th>\n",
       "      <th>num_staff</th>\n",
       "      <th>num_actor</th>\n",
       "      <th>box_off_num</th>\n",
       "      <th>dir_qnt</th>\n",
       "    </tr>\n",
       "  </thead>\n",
       "  <tbody>\n",
       "    <tr>\n",
       "      <th>time</th>\n",
       "      <td>1.000000</td>\n",
       "      <td>0.264675</td>\n",
       "      <td>0.306727</td>\n",
       "      <td>0.623205</td>\n",
       "      <td>0.114153</td>\n",
       "      <td>0.441452</td>\n",
       "      <td>-0.040146</td>\n",
       "    </tr>\n",
       "    <tr>\n",
       "      <th>dir_prev_bfnum</th>\n",
       "      <td>0.264675</td>\n",
       "      <td>1.000000</td>\n",
       "      <td>0.131822</td>\n",
       "      <td>0.323521</td>\n",
       "      <td>0.083818</td>\n",
       "      <td>0.283184</td>\n",
       "      <td>0.131822</td>\n",
       "    </tr>\n",
       "    <tr>\n",
       "      <th>dir_prev_num</th>\n",
       "      <td>0.306727</td>\n",
       "      <td>0.131822</td>\n",
       "      <td>1.000000</td>\n",
       "      <td>0.450706</td>\n",
       "      <td>0.014006</td>\n",
       "      <td>0.259674</td>\n",
       "      <td>-0.047801</td>\n",
       "    </tr>\n",
       "    <tr>\n",
       "      <th>num_staff</th>\n",
       "      <td>0.623205</td>\n",
       "      <td>0.323521</td>\n",
       "      <td>0.450706</td>\n",
       "      <td>1.000000</td>\n",
       "      <td>0.077871</td>\n",
       "      <td>0.544265</td>\n",
       "      <td>-0.066014</td>\n",
       "    </tr>\n",
       "    <tr>\n",
       "      <th>num_actor</th>\n",
       "      <td>0.114153</td>\n",
       "      <td>0.083818</td>\n",
       "      <td>0.014006</td>\n",
       "      <td>0.077871</td>\n",
       "      <td>1.000000</td>\n",
       "      <td>0.111179</td>\n",
       "      <td>0.040375</td>\n",
       "    </tr>\n",
       "    <tr>\n",
       "      <th>box_off_num</th>\n",
       "      <td>0.441452</td>\n",
       "      <td>0.283184</td>\n",
       "      <td>0.259674</td>\n",
       "      <td>0.544265</td>\n",
       "      <td>0.111179</td>\n",
       "      <td>1.000000</td>\n",
       "      <td>-0.020151</td>\n",
       "    </tr>\n",
       "    <tr>\n",
       "      <th>dir_qnt</th>\n",
       "      <td>-0.040146</td>\n",
       "      <td>0.131822</td>\n",
       "      <td>-0.047801</td>\n",
       "      <td>-0.066014</td>\n",
       "      <td>0.040375</td>\n",
       "      <td>-0.020151</td>\n",
       "      <td>1.000000</td>\n",
       "    </tr>\n",
       "  </tbody>\n",
       "</table>\n",
       "</div>"
      ],
      "text/plain": [
       "                    time  dir_prev_bfnum  dir_prev_num  num_staff  num_actor  \\\n",
       "time            1.000000        0.264675      0.306727   0.623205   0.114153   \n",
       "dir_prev_bfnum  0.264675        1.000000      0.131822   0.323521   0.083818   \n",
       "dir_prev_num    0.306727        0.131822      1.000000   0.450706   0.014006   \n",
       "num_staff       0.623205        0.323521      0.450706   1.000000   0.077871   \n",
       "num_actor       0.114153        0.083818      0.014006   0.077871   1.000000   \n",
       "box_off_num     0.441452        0.283184      0.259674   0.544265   0.111179   \n",
       "dir_qnt        -0.040146        0.131822     -0.047801  -0.066014   0.040375   \n",
       "\n",
       "                box_off_num   dir_qnt  \n",
       "time               0.441452 -0.040146  \n",
       "dir_prev_bfnum     0.283184  0.131822  \n",
       "dir_prev_num       0.259674 -0.047801  \n",
       "num_staff          0.544265 -0.066014  \n",
       "num_actor          0.111179  0.040375  \n",
       "box_off_num        1.000000 -0.020151  \n",
       "dir_qnt           -0.020151  1.000000  "
      ]
     },
     "execution_count": 19,
     "metadata": {},
     "output_type": "execute_result"
    }
   ],
   "source": [
    "train_df.corr()"
   ]
  },
  {
   "cell_type": "markdown",
   "id": "025011db-a2e7-427d-b744-21efc8449580",
   "metadata": {},
   "source": [
    "## num_staff"
   ]
  },
  {
   "cell_type": "code",
   "execution_count": 470,
   "id": "37cb2c8b-e09a-4b96-834e-57cea2326765",
   "metadata": {},
   "outputs": [
    {
     "data": {
      "text/plain": [
       "<AxesSubplot:>"
      ]
     },
     "execution_count": 470,
     "metadata": {},
     "output_type": "execute_result"
    },
    {
     "data": {
      "image/png": "[encoded data removed]",
      "text/plain": [
       "<Figure size 640x480 with 1 Axes>"
      ]
     },
     "metadata": {},
     "output_type": "display_data"
    }
   ],
   "source": [
    "train_df.num_staff.hist()"
   ]
  },
  {
   "cell_type": "code",
   "execution_count": 471,
   "id": "8592ca76-6bb2-4c65-8cf0-7ef552eb9bdd",
   "metadata": {},
   "outputs": [
    {
     "data": {
      "text/html": [
       "<div>\n",
       "<style scoped>\n",
       "    .dataframe tbody tr th:only-of-type {\n",
       "        vertical-align: middle;\n",
       "    }\n",
       "\n",
       "    .dataframe tbody tr th {\n",
       "        vertical-align: top;\n",
       "    }\n",
       "\n",
       "    .dataframe thead th {\n",
       "        text-align: right;\n",
       "    }\n",
       "</style>\n",
       "<table border=\"1\" class=\"dataframe\">\n",
       "  <thead>\n",
       "    <tr style=\"text-align: right;\">\n",
       "      <th></th>\n",
       "      <th>num_staff</th>\n",
       "      <th>box_off_num</th>\n",
       "    </tr>\n",
       "  </thead>\n",
       "  <tbody>\n",
       "    <tr>\n",
       "      <th>num_staff</th>\n",
       "      <td>1.000000</td>\n",
       "      <td>0.544265</td>\n",
       "    </tr>\n",
       "    <tr>\n",
       "      <th>box_off_num</th>\n",
       "      <td>0.544265</td>\n",
       "      <td>1.000000</td>\n",
       "    </tr>\n",
       "  </tbody>\n",
       "</table>\n",
       "</div>"
      ],
      "text/plain": [
       "             num_staff  box_off_num\n",
       "num_staff     1.000000     0.544265\n",
       "box_off_num   0.544265     1.000000"
      ]
     },
     "execution_count": 471,
     "metadata": {},
     "output_type": "execute_result"
    }
   ],
   "source": [
    "train_df[['num_staff', 'box_off_num']].corr()"
   ]
  },
  {
   "cell_type": "markdown",
   "id": "1ce8823f-1176-471f-b83b-929ca7131f0b",
   "metadata": {},
   "source": [
    "## num_actor"
   ]
  },
  {
   "cell_type": "code",
   "execution_count": 472,
   "id": "3e24a15e-24f3-42bb-9c04-411219416cb0",
   "metadata": {},
   "outputs": [
    {
     "data": {
      "text/plain": [
       "<AxesSubplot:>"
      ]
     },
     "execution_count": 472,
     "metadata": {},
     "output_type": "execute_result"
    },
    {
     "data": {
      "image/png": "[encoded data removed]",
      "text/plain": [
       "<Figure size 640x480 with 1 Axes>"
      ]
     },
     "metadata": {},
     "output_type": "display_data"
    }
   ],
   "source": [
    "train_df.num_actor.hist()"
   ]
  },
  {
   "cell_type": "code",
   "execution_count": 473,
   "id": "55451226-d0d1-4129-b1f8-4ab53e09f356",
   "metadata": {},
   "outputs": [
    {
     "data": {
      "text/html": [
       "<div>\n",
       "<style scoped>\n",
       "    .dataframe tbody tr th:only-of-type {\n",
       "        vertical-align: middle;\n",
       "    }\n",
       "\n",
       "    .dataframe tbody tr th {\n",
       "        vertical-align: top;\n",
       "    }\n",
       "\n",
       "    .dataframe thead th {\n",
       "        text-align: right;\n",
       "    }\n",
       "</style>\n",
       "<table border=\"1\" class=\"dataframe\">\n",
       "  <thead>\n",
       "    <tr style=\"text-align: right;\">\n",
       "      <th></th>\n",
       "      <th>num_actor</th>\n",
       "      <th>box_off_num</th>\n",
       "    </tr>\n",
       "  </thead>\n",
       "  <tbody>\n",
       "    <tr>\n",
       "      <th>num_actor</th>\n",
       "      <td>1.000000</td>\n",
       "      <td>0.111179</td>\n",
       "    </tr>\n",
       "    <tr>\n",
       "      <th>box_off_num</th>\n",
       "      <td>0.111179</td>\n",
       "      <td>1.000000</td>\n",
       "    </tr>\n",
       "  </tbody>\n",
       "</table>\n",
       "</div>"
      ],
      "text/plain": [
       "             num_actor  box_off_num\n",
       "num_actor     1.000000     0.111179\n",
       "box_off_num   0.111179     1.000000"
      ]
     },
     "execution_count": 473,
     "metadata": {},
     "output_type": "execute_result"
    }
   ],
   "source": [
    "train_df[['num_actor', 'box_off_num']].corr()"
   ]
  },
  {
   "cell_type": "markdown",
   "id": "64e8df9e-31fe-4bf5-8c46-cb02775553ac",
   "metadata": {},
   "source": [
    "## box_off_num"
   ]
  },
  {
   "cell_type": "code",
   "execution_count": 24,
   "id": "c6684d07-cd64-4ddb-8773-6c60292e708b",
   "metadata": {},
   "outputs": [
    {
     "data": {
      "text/plain": [
       "<AxesSubplot:>"
      ]
     },
     "execution_count": 24,
     "metadata": {},
     "output_type": "execute_result"
    },
    {
     "data": {
      "image/png": "[encoded data removed]",
      "text/plain": [
       "<Figure size 640x480 with 1 Axes>"
      ]
     },
     "metadata": {},
     "output_type": "display_data"
    }
   ],
   "source": [
    "train_df.box_off_num.hist()"
   ]
  },
  {
   "cell_type": "code",
   "execution_count": 26,
   "id": "a016c75c-ee27-4c0b-9085-8dad70dedea9",
   "metadata": {},
   "outputs": [
    {
     "data": {
      "text/plain": [
       "<AxesSubplot:>"
      ]
     },
     "execution_count": 26,
     "metadata": {},
     "output_type": "execute_result"
    },
    {
     "data": {
      "image/png": "[encoded data removed]",
      "text/plain": [
       "<Figure size 640x480 with 1 Axes>"
      ]
     },
     "metadata": {},
     "output_type": "display_data"
    }
   ],
   "source": [
    "qnt = 5\n",
    "pd.cut(train_df.box_off_num, qnt, labels=range(qnt)).hist()"
   ]
  },
  {
   "cell_type": "code",
   "execution_count": 27,
   "id": "48933355-26b8-4ae8-b465-261aafa6f749",
   "metadata": {},
   "outputs": [
    {
     "data": {
      "text/plain": [
       "<AxesSubplot:>"
      ]
     },
     "execution_count": 27,
     "metadata": {},
     "output_type": "execute_result"
    },
    {
     "data": {
      "image/png": "[encoded data removed]",
      "text/plain": [
       "<Figure size 640x480 with 1 Axes>"
      ]
     },
     "metadata": {},
     "output_type": "display_data"
    }
   ],
   "source": [
    "qnt = 5\n",
    "pd.qcut(train_df.box_off_num, qnt, labels=range(qnt)).hist()"
   ]
  },
  {
   "cell_type": "code",
   "execution_count": null,
   "id": "44b38fc2-3a3c-4d18-8be4-ce1ab388b27a",
   "metadata": {},
   "outputs": [],
   "source": []
  },
  {
   "cell_type": "code",
   "execution_count": null,
   "id": "399477de-14c2-40a1-81d4-3a333261cc87",
   "metadata": {},
   "outputs": [],
   "source": []
  },
  {
   "cell_type": "code",
   "execution_count": null,
   "id": "d7e7c915-1ee6-46f5-b2ff-b0b728665a28",
   "metadata": {},
   "outputs": [],
   "source": []
  },
  {
   "cell_type": "code",
   "execution_count": null,
   "id": "fce8c4d7-51a9-47d9-915b-b5b5b0fb534d",
   "metadata": {},
   "outputs": [],
   "source": []
  },
  {
   "cell_type": "code",
   "execution_count": null,
   "id": "95a8cffa-8bec-4a26-9dbc-cbab7536ced5",
   "metadata": {},
   "outputs": [],
   "source": []
  },
  {
   "cell_type": "markdown",
   "id": "61597ad3-cead-4c2c-a10b-22655d93fedd",
   "metadata": {},
   "source": [
    "# Create New Dataframe"
   ]
  },
  {
   "cell_type": "code",
   "execution_count": 474,
   "id": "4490eb54-f82d-452d-85f3-d750449dbf20",
   "metadata": {},
   "outputs": [
    {
     "data": {
      "text/plain": [
       "(Index(['genre', 'release_time', 'time', 'screening_rat', 'dir_prev_bfnum',\n",
       "        'dir_prev_num', 'num_staff', 'num_actor', 'box_off_num',\n",
       "        'distributor_2way', 'distributor_3way', 'distributor_simple',\n",
       "        'distributor_complex', 'dir_prev_bfnum2'],\n",
       "       dtype='object'),\n",
       " 14)"
      ]
     },
     "execution_count": 474,
     "metadata": {},
     "output_type": "execute_result"
    }
   ],
   "source": [
    "train_df.columns, len(train_df.columns)"
   ]
  },
  {
   "cell_type": "code",
   "execution_count": 475,
   "id": "5eb2ca35-53ef-485d-b399-cb2eb4c085df",
   "metadata": {},
   "outputs": [
    {
     "data": {
      "text/plain": [
       "(Index(['genre', 'release_time', 'time', 'screening_rat', 'dir_prev_bfnum',\n",
       "        'dir_prev_num', 'num_staff', 'num_actor', 'distributor_2way',\n",
       "        'distributor_3way', 'distributor_simple', 'distributor_complex',\n",
       "        'dir_prev_bfnum2'],\n",
       "       dtype='object'),\n",
       " 13)"
      ]
     },
     "execution_count": 475,
     "metadata": {},
     "output_type": "execute_result"
    }
   ],
   "source": [
    "test_df.columns, len(test_df.columns)"
   ]
  },
  {
   "cell_type": "code",
   "execution_count": 476,
   "id": "5b6d6aa7-c46e-4939-8039-2868f825bb6c",
   "metadata": {},
   "outputs": [
    {
     "data": {
      "text/html": [
       "<div>\n",
       "<style scoped>\n",
       "    .dataframe tbody tr th:only-of-type {\n",
       "        vertical-align: middle;\n",
       "    }\n",
       "\n",
       "    .dataframe tbody tr th {\n",
       "        vertical-align: top;\n",
       "    }\n",
       "\n",
       "    .dataframe thead th {\n",
       "        text-align: right;\n",
       "    }\n",
       "</style>\n",
       "<table border=\"1\" class=\"dataframe\">\n",
       "  <thead>\n",
       "    <tr style=\"text-align: right;\">\n",
       "      <th></th>\n",
       "      <th>genre</th>\n",
       "      <th>release_time</th>\n",
       "      <th>time</th>\n",
       "      <th>screening_rat</th>\n",
       "      <th>dir_prev_bfnum</th>\n",
       "      <th>dir_prev_num</th>\n",
       "      <th>num_staff</th>\n",
       "      <th>num_actor</th>\n",
       "      <th>box_off_num</th>\n",
       "      <th>distributor_2way</th>\n",
       "      <th>distributor_3way</th>\n",
       "      <th>distributor_simple</th>\n",
       "      <th>distributor_complex</th>\n",
       "      <th>dir_prev_bfnum2</th>\n",
       "    </tr>\n",
       "  </thead>\n",
       "  <tbody>\n",
       "    <tr>\n",
       "      <th>0</th>\n",
       "      <td>10</td>\n",
       "      <td>4</td>\n",
       "      <td>96</td>\n",
       "      <td>1</td>\n",
       "      <td>NaN</td>\n",
       "      <td>0</td>\n",
       "      <td>91</td>\n",
       "      <td>2</td>\n",
       "      <td>23398</td>\n",
       "      <td>1</td>\n",
       "      <td>2</td>\n",
       "      <td>52</td>\n",
       "      <td>52</td>\n",
       "      <td>1</td>\n",
       "    </tr>\n",
       "    <tr>\n",
       "      <th>1</th>\n",
       "      <td>11</td>\n",
       "      <td>2</td>\n",
       "      <td>130</td>\n",
       "      <td>1</td>\n",
       "      <td>1161602.50</td>\n",
       "      <td>2</td>\n",
       "      <td>387</td>\n",
       "      <td>3</td>\n",
       "      <td>7072501</td>\n",
       "      <td>0</td>\n",
       "      <td>0</td>\n",
       "      <td>0</td>\n",
       "      <td>0</td>\n",
       "      <td>0</td>\n",
       "    </tr>\n",
       "    <tr>\n",
       "      <th>2</th>\n",
       "      <td>10</td>\n",
       "      <td>5</td>\n",
       "      <td>123</td>\n",
       "      <td>3</td>\n",
       "      <td>220775.25</td>\n",
       "      <td>4</td>\n",
       "      <td>343</td>\n",
       "      <td>4</td>\n",
       "      <td>6959083</td>\n",
       "      <td>0</td>\n",
       "      <td>0</td>\n",
       "      <td>0</td>\n",
       "      <td>0</td>\n",
       "      <td>0</td>\n",
       "    </tr>\n",
       "    <tr>\n",
       "      <th>3</th>\n",
       "      <td>8</td>\n",
       "      <td>4</td>\n",
       "      <td>101</td>\n",
       "      <td>0</td>\n",
       "      <td>23894.00</td>\n",
       "      <td>2</td>\n",
       "      <td>20</td>\n",
       "      <td>6</td>\n",
       "      <td>217866</td>\n",
       "      <td>0</td>\n",
       "      <td>0</td>\n",
       "      <td>0</td>\n",
       "      <td>0</td>\n",
       "      <td>0</td>\n",
       "    </tr>\n",
       "    <tr>\n",
       "      <th>4</th>\n",
       "      <td>8</td>\n",
       "      <td>0</td>\n",
       "      <td>108</td>\n",
       "      <td>3</td>\n",
       "      <td>1.00</td>\n",
       "      <td>1</td>\n",
       "      <td>251</td>\n",
       "      <td>2</td>\n",
       "      <td>483387</td>\n",
       "      <td>0</td>\n",
       "      <td>0</td>\n",
       "      <td>0</td>\n",
       "      <td>0</td>\n",
       "      <td>0</td>\n",
       "    </tr>\n",
       "  </tbody>\n",
       "</table>\n",
       "</div>"
      ],
      "text/plain": [
       "  genre release_time  time screening_rat  dir_prev_bfnum  dir_prev_num  \\\n",
       "0    10            4    96             1             NaN             0   \n",
       "1    11            2   130             1      1161602.50             2   \n",
       "2    10            5   123             3       220775.25             4   \n",
       "3     8            4   101             0        23894.00             2   \n",
       "4     8            0   108             3            1.00             1   \n",
       "\n",
       "   num_staff  num_actor  box_off_num  distributor_2way  distributor_3way  \\\n",
       "0         91          2        23398                 1                 2   \n",
       "1        387          3      7072501                 0                 0   \n",
       "2        343          4      6959083                 0                 0   \n",
       "3         20          6       217866                 0                 0   \n",
       "4        251          2       483387                 0                 0   \n",
       "\n",
       "   distributor_simple  distributor_complex  dir_prev_bfnum2  \n",
       "0                  52                   52                1  \n",
       "1                   0                    0                0  \n",
       "2                   0                    0                0  \n",
       "3                   0                    0                0  \n",
       "4                   0                    0                0  "
      ]
     },
     "execution_count": 476,
     "metadata": {},
     "output_type": "execute_result"
    }
   ],
   "source": [
    "train_df.head()"
   ]
  },
  {
   "cell_type": "code",
   "execution_count": 477,
   "id": "b173fa1f-1823-4ef2-8c11-2c0a500c9121",
   "metadata": {},
   "outputs": [
    {
     "data": {
      "text/html": [
       "<div>\n",
       "<style scoped>\n",
       "    .dataframe tbody tr th:only-of-type {\n",
       "        vertical-align: middle;\n",
       "    }\n",
       "\n",
       "    .dataframe tbody tr th {\n",
       "        vertical-align: top;\n",
       "    }\n",
       "\n",
       "    .dataframe thead th {\n",
       "        text-align: right;\n",
       "    }\n",
       "</style>\n",
       "<table border=\"1\" class=\"dataframe\">\n",
       "  <thead>\n",
       "    <tr style=\"text-align: right;\">\n",
       "      <th></th>\n",
       "      <th>time</th>\n",
       "      <th>dir_prev_bfnum</th>\n",
       "      <th>dir_prev_num</th>\n",
       "      <th>num_staff</th>\n",
       "      <th>num_actor</th>\n",
       "      <th>box_off_num</th>\n",
       "      <th>distributor_2way</th>\n",
       "      <th>distributor_3way</th>\n",
       "      <th>distributor_simple</th>\n",
       "      <th>distributor_complex</th>\n",
       "      <th>dir_prev_bfnum2</th>\n",
       "    </tr>\n",
       "  </thead>\n",
       "  <tbody>\n",
       "    <tr>\n",
       "      <th>time</th>\n",
       "      <td>1.000000</td>\n",
       "      <td>0.264675</td>\n",
       "      <td>0.306727</td>\n",
       "      <td>0.623205</td>\n",
       "      <td>0.114153</td>\n",
       "      <td>0.441452</td>\n",
       "      <td>-0.002126</td>\n",
       "      <td>0.006238</td>\n",
       "      <td>0.116785</td>\n",
       "      <td>0.118797</td>\n",
       "      <td>-0.266029</td>\n",
       "    </tr>\n",
       "    <tr>\n",
       "      <th>dir_prev_bfnum</th>\n",
       "      <td>0.264675</td>\n",
       "      <td>1.000000</td>\n",
       "      <td>0.131822</td>\n",
       "      <td>0.323521</td>\n",
       "      <td>0.083818</td>\n",
       "      <td>0.283184</td>\n",
       "      <td>-0.033881</td>\n",
       "      <td>-0.005482</td>\n",
       "      <td>0.046607</td>\n",
       "      <td>0.049272</td>\n",
       "      <td>NaN</td>\n",
       "    </tr>\n",
       "    <tr>\n",
       "      <th>dir_prev_num</th>\n",
       "      <td>0.306727</td>\n",
       "      <td>0.131822</td>\n",
       "      <td>1.000000</td>\n",
       "      <td>0.450706</td>\n",
       "      <td>0.014006</td>\n",
       "      <td>0.259674</td>\n",
       "      <td>0.003381</td>\n",
       "      <td>0.043203</td>\n",
       "      <td>0.139674</td>\n",
       "      <td>0.138452</td>\n",
       "      <td>-0.819666</td>\n",
       "    </tr>\n",
       "    <tr>\n",
       "      <th>num_staff</th>\n",
       "      <td>0.623205</td>\n",
       "      <td>0.323521</td>\n",
       "      <td>0.450706</td>\n",
       "      <td>1.000000</td>\n",
       "      <td>0.077871</td>\n",
       "      <td>0.544265</td>\n",
       "      <td>0.029090</td>\n",
       "      <td>0.066346</td>\n",
       "      <td>0.213252</td>\n",
       "      <td>0.212089</td>\n",
       "      <td>-0.394932</td>\n",
       "    </tr>\n",
       "    <tr>\n",
       "      <th>num_actor</th>\n",
       "      <td>0.114153</td>\n",
       "      <td>0.083818</td>\n",
       "      <td>0.014006</td>\n",
       "      <td>0.077871</td>\n",
       "      <td>1.000000</td>\n",
       "      <td>0.111179</td>\n",
       "      <td>0.030215</td>\n",
       "      <td>0.020325</td>\n",
       "      <td>0.031737</td>\n",
       "      <td>0.032495</td>\n",
       "      <td>0.012058</td>\n",
       "    </tr>\n",
       "    <tr>\n",
       "      <th>box_off_num</th>\n",
       "      <td>0.441452</td>\n",
       "      <td>0.283184</td>\n",
       "      <td>0.259674</td>\n",
       "      <td>0.544265</td>\n",
       "      <td>0.111179</td>\n",
       "      <td>1.000000</td>\n",
       "      <td>-0.102364</td>\n",
       "      <td>-0.076166</td>\n",
       "      <td>0.028418</td>\n",
       "      <td>0.026959</td>\n",
       "      <td>-0.217284</td>\n",
       "    </tr>\n",
       "    <tr>\n",
       "      <th>distributor_2way</th>\n",
       "      <td>-0.002126</td>\n",
       "      <td>-0.033881</td>\n",
       "      <td>0.003381</td>\n",
       "      <td>0.029090</td>\n",
       "      <td>0.030215</td>\n",
       "      <td>-0.102364</td>\n",
       "      <td>1.000000</td>\n",
       "      <td>0.936803</td>\n",
       "      <td>0.677851</td>\n",
       "      <td>0.674524</td>\n",
       "      <td>-0.025231</td>\n",
       "    </tr>\n",
       "    <tr>\n",
       "      <th>distributor_3way</th>\n",
       "      <td>0.006238</td>\n",
       "      <td>-0.005482</td>\n",
       "      <td>0.043203</td>\n",
       "      <td>0.066346</td>\n",
       "      <td>0.020325</td>\n",
       "      <td>-0.076166</td>\n",
       "      <td>0.936803</td>\n",
       "      <td>1.000000</td>\n",
       "      <td>0.817736</td>\n",
       "      <td>0.815834</td>\n",
       "      <td>-0.055393</td>\n",
       "    </tr>\n",
       "    <tr>\n",
       "      <th>distributor_simple</th>\n",
       "      <td>0.116785</td>\n",
       "      <td>0.046607</td>\n",
       "      <td>0.139674</td>\n",
       "      <td>0.213252</td>\n",
       "      <td>0.031737</td>\n",
       "      <td>0.028418</td>\n",
       "      <td>0.677851</td>\n",
       "      <td>0.817736</td>\n",
       "      <td>1.000000</td>\n",
       "      <td>0.998967</td>\n",
       "      <td>-0.139122</td>\n",
       "    </tr>\n",
       "    <tr>\n",
       "      <th>distributor_complex</th>\n",
       "      <td>0.118797</td>\n",
       "      <td>0.049272</td>\n",
       "      <td>0.138452</td>\n",
       "      <td>0.212089</td>\n",
       "      <td>0.032495</td>\n",
       "      <td>0.026959</td>\n",
       "      <td>0.674524</td>\n",
       "      <td>0.815834</td>\n",
       "      <td>0.998967</td>\n",
       "      <td>1.000000</td>\n",
       "      <td>-0.135916</td>\n",
       "    </tr>\n",
       "    <tr>\n",
       "      <th>dir_prev_bfnum2</th>\n",
       "      <td>-0.266029</td>\n",
       "      <td>NaN</td>\n",
       "      <td>-0.819666</td>\n",
       "      <td>-0.394932</td>\n",
       "      <td>0.012058</td>\n",
       "      <td>-0.217284</td>\n",
       "      <td>-0.025231</td>\n",
       "      <td>-0.055393</td>\n",
       "      <td>-0.139122</td>\n",
       "      <td>-0.135916</td>\n",
       "      <td>1.000000</td>\n",
       "    </tr>\n",
       "  </tbody>\n",
       "</table>\n",
       "</div>"
      ],
      "text/plain": [
       "                         time  dir_prev_bfnum  dir_prev_num  num_staff  \\\n",
       "time                 1.000000        0.264675      0.306727   0.623205   \n",
       "dir_prev_bfnum       0.264675        1.000000      0.131822   0.323521   \n",
       "dir_prev_num         0.306727        0.131822      1.000000   0.450706   \n",
       "num_staff            0.623205        0.323521      0.450706   1.000000   \n",
       "num_actor            0.114153        0.083818      0.014006   0.077871   \n",
       "box_off_num          0.441452        0.283184      0.259674   0.544265   \n",
       "distributor_2way    -0.002126       -0.033881      0.003381   0.029090   \n",
       "distributor_3way     0.006238       -0.005482      0.043203   0.066346   \n",
       "distributor_simple   0.116785        0.046607      0.139674   0.213252   \n",
       "distributor_complex  0.118797        0.049272      0.138452   0.212089   \n",
       "dir_prev_bfnum2     -0.266029             NaN     -0.819666  -0.394932   \n",
       "\n",
       "                     num_actor  box_off_num  distributor_2way  \\\n",
       "time                  0.114153     0.441452         -0.002126   \n",
       "dir_prev_bfnum        0.083818     0.283184         -0.033881   \n",
       "dir_prev_num          0.014006     0.259674          0.003381   \n",
       "num_staff             0.077871     0.544265          0.029090   \n",
       "num_actor             1.000000     0.111179          0.030215   \n",
       "box_off_num           0.111179     1.000000         -0.102364   \n",
       "distributor_2way      0.030215    -0.102364          1.000000   \n",
       "distributor_3way      0.020325    -0.076166          0.936803   \n",
       "distributor_simple    0.031737     0.028418          0.677851   \n",
       "distributor_complex   0.032495     0.026959          0.674524   \n",
       "dir_prev_bfnum2       0.012058    -0.217284         -0.025231   \n",
       "\n",
       "                     distributor_3way  distributor_simple  \\\n",
       "time                         0.006238            0.116785   \n",
       "dir_prev_bfnum              -0.005482            0.046607   \n",
       "dir_prev_num                 0.043203            0.139674   \n",
       "num_staff                    0.066346            0.213252   \n",
       "num_actor                    0.020325            0.031737   \n",
       "box_off_num                 -0.076166            0.028418   \n",
       "distributor_2way             0.936803            0.677851   \n",
       "distributor_3way             1.000000            0.817736   \n",
       "distributor_simple           0.817736            1.000000   \n",
       "distributor_complex          0.815834            0.998967   \n",
       "dir_prev_bfnum2             -0.055393           -0.139122   \n",
       "\n",
       "                     distributor_complex  dir_prev_bfnum2  \n",
       "time                            0.118797        -0.266029  \n",
       "dir_prev_bfnum                  0.049272              NaN  \n",
       "dir_prev_num                    0.138452        -0.819666  \n",
       "num_staff                       0.212089        -0.394932  \n",
       "num_actor                       0.032495         0.012058  \n",
       "box_off_num                     0.026959        -0.217284  \n",
       "distributor_2way                0.674524        -0.025231  \n",
       "distributor_3way                0.815834        -0.055393  \n",
       "distributor_simple              0.998967        -0.139122  \n",
       "distributor_complex             1.000000        -0.135916  \n",
       "dir_prev_bfnum2                -0.135916         1.000000  "
      ]
     },
     "execution_count": 477,
     "metadata": {},
     "output_type": "execute_result"
    }
   ],
   "source": [
    "train_df.corr()"
   ]
  },
  {
   "cell_type": "code",
   "execution_count": 478,
   "id": "dec02c12-453c-4a43-9818-18d047e03b6e",
   "metadata": {},
   "outputs": [],
   "source": [
    "train_df.to_csv('new_movies_train.csv', index=False)\n",
    "test_df.to_csv('new_movies_test.csv', index=False)"
   ]
  },
  {
   "cell_type": "code",
   "execution_count": null,
   "id": "d89891a8-9029-4e7f-95ff-1191a659b358",
   "metadata": {},
   "outputs": [],
   "source": []
  }
 ],
 "metadata": {
  "kernelspec": {
   "display_name": "Python 3 (ipykernel)",
   "language": "python",
   "name": "python3"
  },
  "language_info": {
   "codemirror_mode": {
    "name": "ipython",
    "version": 3
   },
   "file_extension": ".py",
   "mimetype": "text/x-python",
   "name": "python",
   "nbconvert_exporter": "python",
   "pygments_lexer": "ipython3",
   "version": "3.9.7"
  }
 },
 "nbformat": 4,
 "nbformat_minor": 5
}
