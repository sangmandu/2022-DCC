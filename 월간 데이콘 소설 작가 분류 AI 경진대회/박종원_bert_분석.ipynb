{
  "cells": [
    {
      "cell_type": "code",
      "execution_count": 2,
      "metadata": {},
      "outputs": [
        {
          "name": "stdout",
          "output_type": "stream",
          "text": [
            "Requirement already satisfied: matplotlib in c:\\users\\user\\appdata\\roaming\\python\\python38\\site-packages (3.4.2)\n",
            "Collecting matplotlib\n",
            "  Downloading matplotlib-3.6.0-cp38-cp38-win_amd64.whl (7.2 MB)\n",
            "Requirement already satisfied: cycler>=0.10 in c:\\users\\user\\appdata\\roaming\\python\\python38\\site-packages (from matplotlib) (0.10.0)\n",
            "Requirement already satisfied: python-dateutil>=2.7 in c:\\users\\user\\appdata\\roaming\\python\\python38\\site-packages (from matplotlib) (2.8.2)\n",
            "Requirement already satisfied: numpy>=1.19 in c:\\users\\user\\anaconda3\\envs\\dacon_nlp\\lib\\site-packages (from matplotlib) (1.23.3)\n",
            "Collecting contourpy>=1.0.1\n",
            "  Downloading contourpy-1.0.5-cp38-cp38-win_amd64.whl (164 kB)\n",
            "Requirement already satisfied: kiwisolver>=1.0.1 in c:\\users\\user\\appdata\\roaming\\python\\python38\\site-packages (from matplotlib) (1.3.1)\n",
            "Requirement already satisfied: packaging>=20.0 in c:\\users\\user\\anaconda3\\envs\\dacon_nlp\\lib\\site-packages (from matplotlib) (21.3)\n",
            "Requirement already satisfied: pyparsing>=2.2.1 in c:\\users\\user\\anaconda3\\envs\\dacon_nlp\\lib\\site-packages (from matplotlib) (3.0.9)\n",
            "Requirement already satisfied: pillow>=6.2.0 in c:\\users\\user\\anaconda3\\envs\\dacon_nlp\\lib\\site-packages (from matplotlib) (9.2.0)\n",
            "Collecting fonttools>=4.22.0\n",
            "  Downloading fonttools-4.37.2-py3-none-any.whl (959 kB)\n",
            "Requirement already satisfied: six in c:\\users\\user\\appdata\\roaming\\python\\python38\\site-packages (from cycler>=0.10->matplotlib) (1.15.0)\n",
            "Installing collected packages: fonttools, contourpy, matplotlib\n",
            "  Attempting uninstall: matplotlib\n",
            "    Found existing installation: matplotlib 3.4.2\n",
            "    Uninstalling matplotlib-3.4.2:\n",
            "      Successfully uninstalled matplotlib-3.4.2\n",
            "Successfully installed contourpy-1.0.5 fonttools-4.37.2 matplotlib-3.6.0\n",
            "Note: you may need to restart the kernel to use updated packages.\n"
          ]
        },
        {
          "name": "stderr",
          "output_type": "stream",
          "text": [
            "WARNING: You are using pip version 21.3.1; however, version 22.2.2 is available.\n",
            "You should consider upgrading via the 'c:\\Users\\user\\anaconda3\\envs\\dacon_nlp\\python.exe -m pip install --upgrade pip' command.\n"
          ]
        }
      ],
      "source": [
        "pip install -U matplotlib"
      ]
    },
    {
      "cell_type": "code",
      "execution_count": 3,
      "metadata": {},
      "outputs": [],
      "source": [
        "%reload_ext autoreload\n",
        "%autoreload 2\n",
        "%matplotlib inline"
      ]
    },
    {
      "cell_type": "code",
      "execution_count": 4,
      "metadata": {},
      "outputs": [
        {
          "name": "stdout",
          "output_type": "stream",
          "text": [
            "Requirement already satisfied: pip in c:\\users\\user\\appdata\\roaming\\python\\python38\\site-packages (21.3.1)\n",
            "Collecting pip\n",
            "  Using cached pip-22.2.2-py3-none-any.whl (2.0 MB)\n",
            "Installing collected packages: pip\n",
            "  Attempting uninstall: pip\n",
            "    Found existing installation: pip 21.3.1\n",
            "    Uninstalling pip-21.3.1:\n",
            "      Successfully uninstalled pip-21.3.1\n",
            "  Rolling back uninstall of pip\n",
            "  Moving to c:\\users\\user\\appdata\\roaming\\python\\python38\\scripts\\pip.exe\n",
            "   from C:\\Users\\Public\\Documents\\ESTsoft\\CreatorTemp\\pip-uninstall-d8w7ldft\\pip.exe\n",
            "  Moving to c:\\users\\user\\appdata\\roaming\\python\\python38\\scripts\\pip3.8.exe\n",
            "   from C:\\Users\\Public\\Documents\\ESTsoft\\CreatorTemp\\pip-uninstall-d8w7ldft\\pip3.8.exe\n",
            "  Moving to c:\\users\\user\\appdata\\roaming\\python\\python38\\scripts\\pip3.exe\n",
            "   from C:\\Users\\Public\\Documents\\ESTsoft\\CreatorTemp\\pip-uninstall-d8w7ldft\\pip3.exe\n",
            "  Moving to c:\\users\\user\\appdata\\roaming\\python\\python38\\site-packages\\pip-21.3.1.dist-info\\\n",
            "   from C:\\Users\\user\\AppData\\Roaming\\Python\\Python38\\site-packages\\~ip-21.3.1.dist-info\n",
            "  Moving to c:\\users\\user\\appdata\\roaming\\python\\python38\\site-packages\\pip\\\n",
            "   from C:\\Users\\user\\AppData\\Roaming\\Python\\Python38\\site-packages\\~ip\n"
          ]
        },
        {
          "name": "stderr",
          "output_type": "stream",
          "text": [
            "ERROR: Exception:\n",
            "Traceback (most recent call last):\n",
            "  File \"C:\\Users\\user\\AppData\\Roaming\\Python\\Python38\\site-packages\\pip\\_internal\\cli\\base_command.py\", line 164, in exc_logging_wrapper\n",
            "    status = run_func(*args)\n",
            "  File \"C:\\Users\\user\\AppData\\Roaming\\Python\\Python38\\site-packages\\pip\\_internal\\cli\\req_command.py\", line 205, in wrapper\n",
            "    return func(self, options, args)\n",
            "  File \"C:\\Users\\user\\AppData\\Roaming\\Python\\Python38\\site-packages\\pip\\_internal\\commands\\install.py\", line 404, in run\n",
            "    installed = install_given_reqs(\n",
            "  File \"C:\\Users\\user\\AppData\\Roaming\\Python\\Python38\\site-packages\\pip\\_internal\\req\\__init__.py\", line 73, in install_given_reqs\n",
            "    requirement.install(\n",
            "  File \"C:\\Users\\user\\AppData\\Roaming\\Python\\Python38\\site-packages\\pip\\_internal\\req\\req_install.py\", line 802, in install\n",
            "    install_wheel(\n",
            "  File \"C:\\Users\\user\\AppData\\Roaming\\Python\\Python38\\site-packages\\pip\\_internal\\operations\\install\\wheel.py\", line 729, in install_wheel\n",
            "    _install_wheel(\n",
            "  File \"C:\\Users\\user\\AppData\\Roaming\\Python\\Python38\\site-packages\\pip\\_internal\\operations\\install\\wheel.py\", line 646, in _install_wheel\n",
            "    generated_console_scripts = maker.make_multiple(scripts_to_generate)\n",
            "  File \"C:\\Users\\user\\AppData\\Roaming\\Python\\Python38\\site-packages\\pip\\_vendor\\distlib\\scripts.py\", line 428, in make_multiple\n",
            "    filenames.extend(self.make(specification, options))\n",
            "  File \"C:\\Users\\user\\AppData\\Roaming\\Python\\Python38\\site-packages\\pip\\_internal\\operations\\install\\wheel.py\", line 427, in make\n",
            "    return super().make(specification, options)\n",
            "  File \"C:\\Users\\user\\AppData\\Roaming\\Python\\Python38\\site-packages\\pip\\_vendor\\distlib\\scripts.py\", line 417, in make\n",
            "    self._make_script(entry, filenames, options=options)\n",
            "  File \"C:\\Users\\user\\AppData\\Roaming\\Python\\Python38\\site-packages\\pip\\_vendor\\distlib\\scripts.py\", line 317, in _make_script\n",
            "    self._write_script(scriptnames, shebang, script, filenames, ext)\n",
            "  File \"C:\\Users\\user\\AppData\\Roaming\\Python\\Python38\\site-packages\\pip\\_vendor\\distlib\\scripts.py\", line 247, in _write_script\n",
            "    launcher = self._get_launcher('t')\n",
            "  File \"C:\\Users\\user\\AppData\\Roaming\\Python\\Python38\\site-packages\\pip\\_vendor\\distlib\\scripts.py\", line 396, in _get_launcher\n",
            "    raise ValueError(msg)\n",
            "ValueError: Unable to find resource t64.exe in package pip._vendor.distlib\n",
            "WARNING: You are using pip version 21.3.1; however, version 22.2.2 is available.\n",
            "You should consider upgrading via the 'C:\\Users\\user\\anaconda3\\envs\\dacon_nlp\\python.exe -m pip install --upgrade pip' command.\n"
          ]
        },
        {
          "name": "stdout",
          "output_type": "stream",
          "text": [
            "Requirement already satisfied: pandas in c:\\users\\user\\appdata\\roaming\\python\\python38\\site-packages (1.3.4)\n",
            "Requirement already satisfied: python-dateutil>=2.7.3 in c:\\users\\user\\appdata\\roaming\\python\\python38\\site-packages (from pandas) (2.8.2)\n",
            "Requirement already satisfied: pytz>=2017.3 in c:\\users\\user\\appdata\\roaming\\python\\python38\\site-packages (from pandas) (2021.1)\n",
            "Requirement already satisfied: numpy>=1.17.3 in c:\\users\\user\\anaconda3\\envs\\dacon_nlp\\lib\\site-packages (from pandas) (1.23.3)\n",
            "Requirement already satisfied: six>=1.5 in c:\\users\\user\\appdata\\roaming\\python\\python38\\site-packages (from python-dateutil>=2.7.3->pandas) (1.15.0)\n"
          ]
        },
        {
          "name": "stderr",
          "output_type": "stream",
          "text": [
            "WARNING: You are using pip version 21.3.1; however, version 22.2.2 is available.\n",
            "You should consider upgrading via the 'C:\\Users\\user\\anaconda3\\envs\\dacon_nlp\\python.exe -m pip install --upgrade pip' command.\n"
          ]
        },
        {
          "name": "stdout",
          "output_type": "stream",
          "text": [
            "Requirement already satisfied: scikit-learn in c:\\users\\user\\anaconda3\\envs\\dacon_nlp\\lib\\site-packages (1.1.2)\n",
            "Requirement already satisfied: scipy>=1.3.2 in c:\\users\\user\\anaconda3\\envs\\dacon_nlp\\lib\\site-packages (from scikit-learn) (1.9.1)\n",
            "Requirement already satisfied: joblib>=1.0.0 in c:\\users\\user\\anaconda3\\envs\\dacon_nlp\\lib\\site-packages (from scikit-learn) (1.2.0)\n",
            "Requirement already satisfied: numpy>=1.17.3 in c:\\users\\user\\anaconda3\\envs\\dacon_nlp\\lib\\site-packages (from scikit-learn) (1.23.3)\n",
            "Requirement already satisfied: threadpoolctl>=2.0.0 in c:\\users\\user\\anaconda3\\envs\\dacon_nlp\\lib\\site-packages (from scikit-learn) (3.1.0)\n"
          ]
        },
        {
          "name": "stderr",
          "output_type": "stream",
          "text": [
            "WARNING: You are using pip version 21.3.1; however, version 22.2.2 is available.\n",
            "You should consider upgrading via the 'C:\\Users\\user\\anaconda3\\envs\\dacon_nlp\\python.exe -m pip install --upgrade pip' command.\n"
          ]
        },
        {
          "name": "stdout",
          "output_type": "stream",
          "text": [
            "Requirement already satisfied: tensorflow in c:\\users\\user\\anaconda3\\envs\\dacon_nlp\\lib\\site-packages (2.10.0)\n",
            "Requirement already satisfied: grpcio<2.0,>=1.24.3 in c:\\users\\user\\appdata\\roaming\\python\\python38\\site-packages (from tensorflow) (1.34.1)\n",
            "Requirement already satisfied: setuptools in c:\\users\\user\\anaconda3\\envs\\dacon_nlp\\lib\\site-packages (from tensorflow) (63.4.1)\n",
            "Requirement already satisfied: termcolor>=1.1.0 in c:\\users\\user\\appdata\\roaming\\python\\python38\\site-packages (from tensorflow) (1.1.0)\n",
            "Requirement already satisfied: tensorflow-io-gcs-filesystem>=0.23.1 in c:\\users\\user\\anaconda3\\envs\\dacon_nlp\\lib\\site-packages (from tensorflow) (0.27.0)\n",
            "Requirement already satisfied: numpy>=1.20 in c:\\users\\user\\anaconda3\\envs\\dacon_nlp\\lib\\site-packages (from tensorflow) (1.23.3)\n",
            "Requirement already satisfied: keras<2.11,>=2.10.0 in c:\\users\\user\\anaconda3\\envs\\dacon_nlp\\lib\\site-packages (from tensorflow) (2.10.0)\n",
            "Requirement already satisfied: wrapt>=1.11.0 in c:\\users\\user\\appdata\\roaming\\python\\python38\\site-packages (from tensorflow) (1.12.1)\n",
            "Requirement already satisfied: protobuf<3.20,>=3.9.2 in c:\\users\\user\\appdata\\roaming\\python\\python38\\site-packages (from tensorflow) (3.17.3)\n",
            "Requirement already satisfied: opt-einsum>=2.3.2 in c:\\users\\user\\appdata\\roaming\\python\\python38\\site-packages (from tensorflow) (3.3.0)\n",
            "Requirement already satisfied: six>=1.12.0 in c:\\users\\user\\appdata\\roaming\\python\\python38\\site-packages (from tensorflow) (1.15.0)\n",
            "Requirement already satisfied: absl-py>=1.0.0 in c:\\users\\user\\anaconda3\\envs\\dacon_nlp\\lib\\site-packages (from tensorflow) (1.2.0)\n",
            "Requirement already satisfied: typing-extensions>=3.6.6 in c:\\users\\user\\anaconda3\\envs\\dacon_nlp\\lib\\site-packages (from tensorflow) (4.3.0)\n",
            "Requirement already satisfied: astunparse>=1.6.0 in c:\\users\\user\\appdata\\roaming\\python\\python38\\site-packages (from tensorflow) (1.6.3)\n",
            "Requirement already satisfied: h5py>=2.9.0 in c:\\users\\user\\appdata\\roaming\\python\\python38\\site-packages (from tensorflow) (2.10.0)\n",
            "Requirement already satisfied: tensorflow-estimator<2.11,>=2.10.0 in c:\\users\\user\\anaconda3\\envs\\dacon_nlp\\lib\\site-packages (from tensorflow) (2.10.0)\n",
            "Requirement already satisfied: packaging in c:\\users\\user\\anaconda3\\envs\\dacon_nlp\\lib\\site-packages (from tensorflow) (21.3)\n",
            "Requirement already satisfied: tensorboard<2.11,>=2.10 in c:\\users\\user\\anaconda3\\envs\\dacon_nlp\\lib\\site-packages (from tensorflow) (2.10.0)\n",
            "Requirement already satisfied: google-pasta>=0.1.1 in c:\\users\\user\\appdata\\roaming\\python\\python38\\site-packages (from tensorflow) (0.2.0)\n",
            "Requirement already satisfied: gast<=0.4.0,>=0.2.1 in c:\\users\\user\\appdata\\roaming\\python\\python38\\site-packages (from tensorflow) (0.3.3)\n",
            "Requirement already satisfied: flatbuffers>=2.0 in c:\\users\\user\\anaconda3\\envs\\dacon_nlp\\lib\\site-packages (from tensorflow) (2.0.7)\n",
            "Requirement already satisfied: libclang>=13.0.0 in c:\\users\\user\\anaconda3\\envs\\dacon_nlp\\lib\\site-packages (from tensorflow) (14.0.6)\n",
            "Requirement already satisfied: keras-preprocessing>=1.1.1 in c:\\users\\user\\appdata\\roaming\\python\\python38\\site-packages (from tensorflow) (1.1.2)\n",
            "Requirement already satisfied: wheel<1.0,>=0.23.0 in c:\\users\\user\\appdata\\roaming\\python\\python38\\site-packages (from astunparse>=1.6.0->tensorflow) (0.36.2)\n",
            "Requirement already satisfied: google-auth-oauthlib<0.5,>=0.4.1 in c:\\users\\user\\appdata\\roaming\\python\\python38\\site-packages (from tensorboard<2.11,>=2.10->tensorflow) (0.4.4)\n",
            "Requirement already satisfied: markdown>=2.6.8 in c:\\users\\user\\appdata\\roaming\\python\\python38\\site-packages (from tensorboard<2.11,>=2.10->tensorflow) (3.3.4)\n",
            "Requirement already satisfied: werkzeug>=1.0.1 in c:\\users\\user\\appdata\\roaming\\python\\python38\\site-packages (from tensorboard<2.11,>=2.10->tensorflow) (2.0.1)\n",
            "Requirement already satisfied: google-auth<3,>=1.6.3 in c:\\users\\user\\appdata\\roaming\\python\\python38\\site-packages (from tensorboard<2.11,>=2.10->tensorflow) (1.32.1)\n",
            "Requirement already satisfied: requests<3,>=2.21.0 in c:\\users\\user\\appdata\\roaming\\python\\python38\\site-packages (from tensorboard<2.11,>=2.10->tensorflow) (2.25.1)\n",
            "Requirement already satisfied: tensorboard-data-server<0.7.0,>=0.6.0 in c:\\users\\user\\appdata\\roaming\\python\\python38\\site-packages (from tensorboard<2.11,>=2.10->tensorflow) (0.6.1)\n",
            "Requirement already satisfied: tensorboard-plugin-wit>=1.6.0 in c:\\users\\user\\appdata\\roaming\\python\\python38\\site-packages (from tensorboard<2.11,>=2.10->tensorflow) (1.8.0)\n",
            "Requirement already satisfied: pyparsing!=3.0.5,>=2.0.2 in c:\\users\\user\\anaconda3\\envs\\dacon_nlp\\lib\\site-packages (from packaging->tensorflow) (3.0.9)\n",
            "Requirement already satisfied: pyasn1-modules>=0.2.1 in c:\\users\\user\\appdata\\roaming\\python\\python38\\site-packages (from google-auth<3,>=1.6.3->tensorboard<2.11,>=2.10->tensorflow) (0.2.8)\n",
            "Requirement already satisfied: rsa<5,>=3.1.4 in c:\\users\\user\\appdata\\roaming\\python\\python38\\site-packages (from google-auth<3,>=1.6.3->tensorboard<2.11,>=2.10->tensorflow) (4.7.2)\n",
            "Requirement already satisfied: cachetools<5.0,>=2.0.0 in c:\\users\\user\\appdata\\roaming\\python\\python38\\site-packages (from google-auth<3,>=1.6.3->tensorboard<2.11,>=2.10->tensorflow) (4.2.2)\n",
            "Requirement already satisfied: requests-oauthlib>=0.7.0 in c:\\users\\user\\appdata\\roaming\\python\\python38\\site-packages (from google-auth-oauthlib<0.5,>=0.4.1->tensorboard<2.11,>=2.10->tensorflow) (1.3.0)\n",
            "Requirement already satisfied: urllib3<1.27,>=1.21.1 in c:\\users\\user\\appdata\\roaming\\python\\python38\\site-packages (from requests<3,>=2.21.0->tensorboard<2.11,>=2.10->tensorflow) (1.26.6)\n",
            "Requirement already satisfied: chardet<5,>=3.0.2 in c:\\users\\user\\appdata\\roaming\\python\\python38\\site-packages (from requests<3,>=2.21.0->tensorboard<2.11,>=2.10->tensorflow) (4.0.0)\n",
            "Requirement already satisfied: idna<3,>=2.5 in c:\\users\\user\\appdata\\roaming\\python\\python38\\site-packages (from requests<3,>=2.21.0->tensorboard<2.11,>=2.10->tensorflow) (2.10)\n",
            "Requirement already satisfied: certifi>=2017.4.17 in c:\\users\\user\\appdata\\roaming\\python\\python38\\site-packages (from requests<3,>=2.21.0->tensorboard<2.11,>=2.10->tensorflow) (2021.5.30)\n",
            "Requirement already satisfied: pyasn1<0.5.0,>=0.4.6 in c:\\users\\user\\appdata\\roaming\\python\\python38\\site-packages (from pyasn1-modules>=0.2.1->google-auth<3,>=1.6.3->tensorboard<2.11,>=2.10->tensorflow) (0.4.8)\n",
            "Requirement already satisfied: oauthlib>=3.0.0 in c:\\users\\user\\appdata\\roaming\\python\\python38\\site-packages (from requests-oauthlib>=0.7.0->google-auth-oauthlib<0.5,>=0.4.1->tensorboard<2.11,>=2.10->tensorflow) (3.1.1)\n"
          ]
        },
        {
          "name": "stderr",
          "output_type": "stream",
          "text": [
            "WARNING: You are using pip version 21.3.1; however, version 22.2.2 is available.\n",
            "You should consider upgrading via the 'C:\\Users\\user\\anaconda3\\envs\\dacon_nlp\\python.exe -m pip install --upgrade pip' command.\n"
          ]
        },
        {
          "name": "stdout",
          "output_type": "stream",
          "text": [
            "Requirement already satisfied: tensorflow_hub in c:\\users\\user\\anaconda3\\envs\\dacon_nlp\\lib\\site-packages (0.12.0)\n",
            "Requirement already satisfied: protobuf>=3.8.0 in c:\\users\\user\\appdata\\roaming\\python\\python38\\site-packages (from tensorflow_hub) (3.17.3)\n",
            "Requirement already satisfied: numpy>=1.12.0 in c:\\users\\user\\anaconda3\\envs\\dacon_nlp\\lib\\site-packages (from tensorflow_hub) (1.23.3)\n",
            "Requirement already satisfied: six>=1.9 in c:\\users\\user\\appdata\\roaming\\python\\python38\\site-packages (from protobuf>=3.8.0->tensorflow_hub) (1.15.0)\n"
          ]
        },
        {
          "name": "stderr",
          "output_type": "stream",
          "text": [
            "WARNING: You are using pip version 21.3.1; however, version 22.2.2 is available.\n",
            "You should consider upgrading via the 'C:\\Users\\user\\anaconda3\\envs\\dacon_nlp\\python.exe -m pip install --upgrade pip' command.\n"
          ]
        },
        {
          "name": "stdout",
          "output_type": "stream",
          "text": [
            "Requirement already satisfied: sentencepiece in c:\\users\\user\\anaconda3\\envs\\dacon_nlp\\lib\\site-packages (0.1.97)\n"
          ]
        },
        {
          "name": "stderr",
          "output_type": "stream",
          "text": [
            "WARNING: You are using pip version 21.3.1; however, version 22.2.2 is available.\n",
            "You should consider upgrading via the 'C:\\Users\\user\\anaconda3\\envs\\dacon_nlp\\python.exe -m pip install --upgrade pip' command.\n"
          ]
        }
      ],
      "source": [
        "!pip install -U pip\n",
        "!pip install pandas\n",
        "!pip install -U scikit-learn\n",
        "!pip install -U tensorflow\n",
        "!pip install -U tensorflow_hub\n",
        "!pip install -U sentencepiece"
      ]
    },
    {
      "cell_type": "code",
      "execution_count": 13,
      "metadata": {},
      "outputs": [
        {
          "name": "stdout",
          "output_type": "stream",
          "text": [
            "Requirement already satisfied: tensorflow in c:\\users\\user\\anaconda3\\envs\\dacon_nlp\\lib\\site-packages (2.10.0)\n",
            "Requirement already satisfied: libclang>=13.0.0 in c:\\users\\user\\anaconda3\\envs\\dacon_nlp\\lib\\site-packages (from tensorflow) (14.0.6)\n",
            "Requirement already satisfied: termcolor>=1.1.0 in c:\\users\\user\\appdata\\roaming\\python\\python38\\site-packages (from tensorflow) (1.1.0)\n",
            "Requirement already satisfied: flatbuffers>=2.0 in c:\\users\\user\\anaconda3\\envs\\dacon_nlp\\lib\\site-packages (from tensorflow) (2.0.7)\n",
            "Requirement already satisfied: packaging in c:\\users\\user\\anaconda3\\envs\\dacon_nlp\\lib\\site-packages (from tensorflow) (21.3)\n",
            "Requirement already satisfied: google-pasta>=0.1.1 in c:\\users\\user\\appdata\\roaming\\python\\python38\\site-packages (from tensorflow) (0.2.0)\n",
            "Requirement already satisfied: wrapt>=1.11.0 in c:\\users\\user\\appdata\\roaming\\python\\python38\\site-packages (from tensorflow) (1.12.1)\n",
            "Requirement already satisfied: numpy>=1.20 in c:\\users\\user\\anaconda3\\envs\\dacon_nlp\\lib\\site-packages (from tensorflow) (1.23.3)\n",
            "Requirement already satisfied: gast<=0.4.0,>=0.2.1 in c:\\users\\user\\appdata\\roaming\\python\\python38\\site-packages (from tensorflow) (0.3.3)\n",
            "Requirement already satisfied: grpcio<2.0,>=1.24.3 in c:\\users\\user\\appdata\\roaming\\python\\python38\\site-packages (from tensorflow) (1.34.1)\n",
            "Requirement already satisfied: tensorflow-estimator<2.11,>=2.10.0 in c:\\users\\user\\anaconda3\\envs\\dacon_nlp\\lib\\site-packages (from tensorflow) (2.10.0)\n",
            "Requirement already satisfied: tensorboard<2.11,>=2.10 in c:\\users\\user\\anaconda3\\envs\\dacon_nlp\\lib\\site-packages (from tensorflow) (2.10.0)\n",
            "Requirement already satisfied: tensorflow-io-gcs-filesystem>=0.23.1 in c:\\users\\user\\anaconda3\\envs\\dacon_nlp\\lib\\site-packages (from tensorflow) (0.27.0)\n",
            "Requirement already satisfied: setuptools in c:\\users\\user\\anaconda3\\envs\\dacon_nlp\\lib\\site-packages (from tensorflow) (63.4.1)\n",
            "Requirement already satisfied: astunparse>=1.6.0 in c:\\users\\user\\appdata\\roaming\\python\\python38\\site-packages (from tensorflow) (1.6.3)\n",
            "Requirement already satisfied: keras-preprocessing>=1.1.1 in c:\\users\\user\\appdata\\roaming\\python\\python38\\site-packages (from tensorflow) (1.1.2)\n",
            "Requirement already satisfied: absl-py>=1.0.0 in c:\\users\\user\\anaconda3\\envs\\dacon_nlp\\lib\\site-packages (from tensorflow) (1.2.0)\n",
            "Requirement already satisfied: opt-einsum>=2.3.2 in c:\\users\\user\\appdata\\roaming\\python\\python38\\site-packages (from tensorflow) (3.3.0)\n",
            "Requirement already satisfied: keras<2.11,>=2.10.0 in c:\\users\\user\\anaconda3\\envs\\dacon_nlp\\lib\\site-packages (from tensorflow) (2.10.0)\n",
            "Requirement already satisfied: protobuf<3.20,>=3.9.2 in c:\\users\\user\\appdata\\roaming\\python\\python38\\site-packages (from tensorflow) (3.17.3)\n",
            "Requirement already satisfied: six>=1.12.0 in c:\\users\\user\\appdata\\roaming\\python\\python38\\site-packages (from tensorflow) (1.15.0)\n",
            "Requirement already satisfied: h5py>=2.9.0 in c:\\users\\user\\appdata\\roaming\\python\\python38\\site-packages (from tensorflow) (2.10.0)\n",
            "Requirement already satisfied: typing-extensions>=3.6.6 in c:\\users\\user\\anaconda3\\envs\\dacon_nlp\\lib\\site-packages (from tensorflow) (4.3.0)\n",
            "Requirement already satisfied: wheel<1.0,>=0.23.0 in c:\\users\\user\\appdata\\roaming\\python\\python38\\site-packages (from astunparse>=1.6.0->tensorflow) (0.36.2)\n",
            "Requirement already satisfied: tensorboard-plugin-wit>=1.6.0 in c:\\users\\user\\appdata\\roaming\\python\\python38\\site-packages (from tensorboard<2.11,>=2.10->tensorflow) (1.8.0)\n",
            "Requirement already satisfied: google-auth<3,>=1.6.3 in c:\\users\\user\\appdata\\roaming\\python\\python38\\site-packages (from tensorboard<2.11,>=2.10->tensorflow) (1.32.1)\n",
            "Requirement already satisfied: werkzeug>=1.0.1 in c:\\users\\user\\appdata\\roaming\\python\\python38\\site-packages (from tensorboard<2.11,>=2.10->tensorflow) (2.0.1)\n",
            "Requirement already satisfied: tensorboard-data-server<0.7.0,>=0.6.0 in c:\\users\\user\\appdata\\roaming\\python\\python38\\site-packages (from tensorboard<2.11,>=2.10->tensorflow) (0.6.1)\n",
            "Requirement already satisfied: requests<3,>=2.21.0 in c:\\users\\user\\appdata\\roaming\\python\\python38\\site-packages (from tensorboard<2.11,>=2.10->tensorflow) (2.25.1)\n",
            "Requirement already satisfied: google-auth-oauthlib<0.5,>=0.4.1 in c:\\users\\user\\appdata\\roaming\\python\\python38\\site-packages (from tensorboard<2.11,>=2.10->tensorflow) (0.4.4)\n",
            "Requirement already satisfied: markdown>=2.6.8 in c:\\users\\user\\appdata\\roaming\\python\\python38\\site-packages (from tensorboard<2.11,>=2.10->tensorflow) (3.3.4)\n",
            "Requirement already satisfied: pyparsing!=3.0.5,>=2.0.2 in c:\\users\\user\\anaconda3\\envs\\dacon_nlp\\lib\\site-packages (from packaging->tensorflow) (3.0.9)\n",
            "Requirement already satisfied: rsa<5,>=3.1.4 in c:\\users\\user\\appdata\\roaming\\python\\python38\\site-packages (from google-auth<3,>=1.6.3->tensorboard<2.11,>=2.10->tensorflow) (4.7.2)\n",
            "Requirement already satisfied: cachetools<5.0,>=2.0.0 in c:\\users\\user\\appdata\\roaming\\python\\python38\\site-packages (from google-auth<3,>=1.6.3->tensorboard<2.11,>=2.10->tensorflow) (4.2.2)\n",
            "Requirement already satisfied: pyasn1-modules>=0.2.1 in c:\\users\\user\\appdata\\roaming\\python\\python38\\site-packages (from google-auth<3,>=1.6.3->tensorboard<2.11,>=2.10->tensorflow) (0.2.8)\n",
            "Requirement already satisfied: requests-oauthlib>=0.7.0 in c:\\users\\user\\appdata\\roaming\\python\\python38\\site-packages (from google-auth-oauthlib<0.5,>=0.4.1->tensorboard<2.11,>=2.10->tensorflow) (1.3.0)\n",
            "Requirement already satisfied: certifi>=2017.4.17 in c:\\users\\user\\appdata\\roaming\\python\\python38\\site-packages (from requests<3,>=2.21.0->tensorboard<2.11,>=2.10->tensorflow) (2021.5.30)\n",
            "Requirement already satisfied: idna<3,>=2.5 in c:\\users\\user\\appdata\\roaming\\python\\python38\\site-packages (from requests<3,>=2.21.0->tensorboard<2.11,>=2.10->tensorflow) (2.10)\n",
            "Requirement already satisfied: urllib3<1.27,>=1.21.1 in c:\\users\\user\\appdata\\roaming\\python\\python38\\site-packages (from requests<3,>=2.21.0->tensorboard<2.11,>=2.10->tensorflow) (1.26.6)\n",
            "Requirement already satisfied: chardet<5,>=3.0.2 in c:\\users\\user\\appdata\\roaming\\python\\python38\\site-packages (from requests<3,>=2.21.0->tensorboard<2.11,>=2.10->tensorflow) (4.0.0)\n",
            "Requirement already satisfied: pyasn1<0.5.0,>=0.4.6 in c:\\users\\user\\appdata\\roaming\\python\\python38\\site-packages (from pyasn1-modules>=0.2.1->google-auth<3,>=1.6.3->tensorboard<2.11,>=2.10->tensorflow) (0.4.8)\n",
            "Requirement already satisfied: oauthlib>=3.0.0 in c:\\users\\user\\appdata\\roaming\\python\\python38\\site-packages (from requests-oauthlib>=0.7.0->google-auth-oauthlib<0.5,>=0.4.1->tensorboard<2.11,>=2.10->tensorflow) (3.1.1)\n"
          ]
        },
        {
          "name": "stderr",
          "output_type": "stream",
          "text": [
            "WARNING: You are using pip version 21.3.1; however, version 22.2.2 is available.\n",
            "You should consider upgrading via the 'C:\\Users\\user\\anaconda3\\envs\\dacon_nlp\\python.exe -m pip install --upgrade pip' command.\n"
          ]
        }
      ],
      "source": [
        "!pip install tensorflow"
      ]
    },
    {
      "cell_type": "code",
      "execution_count": null,
      "metadata": {},
      "outputs": [],
      "source": []
    },
    {
      "cell_type": "code",
      "execution_count": 2,
      "metadata": {},
      "outputs": [],
      "source": [
        "import gc\n",
        "from matplotlib import rcParams, pyplot as plt\n",
        "import numpy as np\n",
        "import os\n",
        "import pandas as pd\n",
        "from pathlib import Path\n",
        "import re\n",
        "from sklearn.metrics import accuracy_score, log_loss\n",
        "from sklearn.model_selection import StratifiedKFold\n",
        "import sys\n",
        "sys.path.append('../src')\n",
        "import tensorflow as tf\n",
        "from tensorflow.keras import Sequential, Model, Input\n",
        "from tensorflow.keras.backend import clear_session\n",
        "from tensorflow.keras.initializers import Constant\n",
        "from tensorflow.keras.layers import Dense, Embedding, Bidirectional, LSTM, Dropout\n",
        "from tensorflow.keras.layers.experimental.preprocessing import TextVectorization\n",
        "from tensorflow.keras.callbacks import EarlyStopping\n",
        "from tensorflow.keras.utils import plot_model, to_categorical\n",
        "from tensorflow.keras.optimizers import Adam\n",
        "import tensorflow_hub as hub\n",
        "import tokenization\n",
        "import warnings \n",
        "warnings.filterwarnings(action='ignore')"
      ]
    },
    {
      "cell_type": "code",
      "execution_count": 3,
      "metadata": {},
      "outputs": [
        {
          "name": "stdout",
          "output_type": "stream",
          "text": [
            "1 Physical GPUs, 1 Logical GPU\n"
          ]
        }
      ],
      "source": [
        "gpus = tf.config.experimental.list_physical_devices('GPU')\n",
        "if gpus:\n",
        "    # Restrict TensorFlow to only use the first GPU\n",
        "    try:\n",
        "        tf.config.experimental.set_visible_devices(gpus[0], 'GPU')\n",
        "        logical_gpus = tf.config.experimental.list_logical_devices('GPU')\n",
        "        print(len(gpus), \"Physical GPUs,\", len(logical_gpus), \"Logical GPU\")\n",
        "    except RuntimeError as e:\n",
        "        # Visible devices must be set before GPUs have been initialized\n",
        "        print(e)\n",
        "else:\n",
        "    print('No GPU detected')"
      ]
    },
    {
      "cell_type": "code",
      "execution_count": 4,
      "metadata": {},
      "outputs": [],
      "source": [
        "rcParams['figure.figsize'] = (16, 8)\n",
        "plt.style.use('fivethirtyeight')\n",
        "pd.set_option('max_columns', 100)\n",
        "pd.set_option(\"display.precision\", 4)\n",
        "warnings.simplefilter('ignore')"
      ]
    },
    {
      "cell_type": "code",
      "execution_count": 18,
      "metadata": {},
      "outputs": [],
      "source": [
        "sub_dir = Path('../submit')\n",
        "\n",
        "\n",
        "trn_file = 'data/train.csv'\n",
        "tst_file = 'data/test_x.csv'\n",
        "sample_file = 'data/sample_submission.csv'\n",
        "module_url = \"https://tfhub.dev/tensorflow/bert_en_uncased_L-24_H-1024_A-16/1\"\n",
        "\n",
        "target_col = 'author'\n",
        "n_fold = 5\n",
        "n_class = 5\n",
        "seed = 42"
      ]
    },
    {
      "cell_type": "code",
      "execution_count": 19,
      "metadata": {},
      "outputs": [],
      "source": [
        "algo_name = 'bert'\n",
        "max_len = 100\n",
        "feature_name = f'n{max_len}'\n",
        "model_name = f'{algo_name}_{feature_name}'\n",
        "\n",
        "\n",
        "sub_file = sub_dir / f'{model_name}.csv'"
      ]
    },
    {
      "cell_type": "code",
      "execution_count": 44,
      "metadata": {},
      "outputs": [],
      "source": [
        "bert_layer = hub.KerasLayer(module_url, trainable=True)\n",
        "vocab_file = bert_layer.resolved_object.vocab_file.asset_path.numpy()\n",
        "do_lower_case = bert_layer.resolved_object.do_lower_case.numpy()\n"
      ]
    },
    {
      "cell_type": "code",
      "execution_count": 31,
      "metadata": {},
      "outputs": [
        {
          "name": "stdout",
          "output_type": "stream",
          "text": [
            "Requirement already satisfied: bert-tensorflow==1.0.1 in c:\\users\\user\\anaconda3\\envs\\dacon_nlp\\lib\\site-packages (1.0.1)\n",
            "Requirement already satisfied: six in c:\\users\\user\\appdata\\roaming\\python\\python38\\site-packages (from bert-tensorflow==1.0.1) (1.15.0)\n"
          ]
        },
        {
          "name": "stderr",
          "output_type": "stream",
          "text": [
            "WARNING: You are using pip version 21.3.1; however, version 22.2.2 is available.\n",
            "You should consider upgrading via the 'C:\\Users\\user\\anaconda3\\envs\\dacon_nlp\\python.exe -m pip install --upgrade pip' command.\n"
          ]
        }
      ],
      "source": [
        "!pip install -U bert-tensorflow==1.0.1\n",
        "from bert import tokenization\n",
        "tokenizer = tokenization.FullTokenizer(vocab_file, do_lower_case)"
      ]
    },
    {
      "cell_type": "code",
      "execution_count": 32,
      "metadata": {},
      "outputs": [
        {
          "data": {
            "text/html": [
              "<div>\n",
              "<style scoped>\n",
              "    .dataframe tbody tr th:only-of-type {\n",
              "        vertical-align: middle;\n",
              "    }\n",
              "\n",
              "    .dataframe tbody tr th {\n",
              "        vertical-align: top;\n",
              "    }\n",
              "\n",
              "    .dataframe thead th {\n",
              "        text-align: right;\n",
              "    }\n",
              "</style>\n",
              "<table border=\"1\" class=\"dataframe\">\n",
              "  <thead>\n",
              "    <tr style=\"text-align: right;\">\n",
              "      <th></th>\n",
              "      <th>text</th>\n",
              "      <th>author</th>\n",
              "    </tr>\n",
              "    <tr>\n",
              "      <th>index</th>\n",
              "      <th></th>\n",
              "      <th></th>\n",
              "    </tr>\n",
              "  </thead>\n",
              "  <tbody>\n",
              "    <tr>\n",
              "      <th>0</th>\n",
              "      <td>He was almost choking. There was so much, so m...</td>\n",
              "      <td>3</td>\n",
              "    </tr>\n",
              "    <tr>\n",
              "      <th>1</th>\n",
              "      <td>“Your sister asked for it, I suppose?”</td>\n",
              "      <td>2</td>\n",
              "    </tr>\n",
              "    <tr>\n",
              "      <th>2</th>\n",
              "      <td>She was engaged one day as she walked, in per...</td>\n",
              "      <td>1</td>\n",
              "    </tr>\n",
              "    <tr>\n",
              "      <th>3</th>\n",
              "      <td>The captain was in the porch, keeping himself ...</td>\n",
              "      <td>4</td>\n",
              "    </tr>\n",
              "    <tr>\n",
              "      <th>4</th>\n",
              "      <td>“Have mercy, gentlemen!” odin flung up his han...</td>\n",
              "      <td>3</td>\n",
              "    </tr>\n",
              "  </tbody>\n",
              "</table>\n",
              "</div>"
            ],
            "text/plain": [
              "                                                    text  author\n",
              "index                                                           \n",
              "0      He was almost choking. There was so much, so m...       3\n",
              "1                 “Your sister asked for it, I suppose?”       2\n",
              "2       She was engaged one day as she walked, in per...       1\n",
              "3      The captain was in the porch, keeping himself ...       4\n",
              "4      “Have mercy, gentlemen!” odin flung up his han...       3"
            ]
          },
          "execution_count": 32,
          "metadata": {},
          "output_type": "execute_result"
        }
      ],
      "source": [
        "train = pd.read_csv(trn_file, index_col=0)\n",
        "train.head()"
      ]
    },
    {
      "cell_type": "code",
      "execution_count": 33,
      "metadata": {},
      "outputs": [
        {
          "data": {
            "text/html": [
              "<div>\n",
              "<style scoped>\n",
              "    .dataframe tbody tr th:only-of-type {\n",
              "        vertical-align: middle;\n",
              "    }\n",
              "\n",
              "    .dataframe tbody tr th {\n",
              "        vertical-align: top;\n",
              "    }\n",
              "\n",
              "    .dataframe thead th {\n",
              "        text-align: right;\n",
              "    }\n",
              "</style>\n",
              "<table border=\"1\" class=\"dataframe\">\n",
              "  <thead>\n",
              "    <tr style=\"text-align: right;\">\n",
              "      <th></th>\n",
              "      <th>text</th>\n",
              "    </tr>\n",
              "    <tr>\n",
              "      <th>index</th>\n",
              "      <th></th>\n",
              "    </tr>\n",
              "  </thead>\n",
              "  <tbody>\n",
              "    <tr>\n",
              "      <th>0</th>\n",
              "      <td>“Not at all. I think she is one of the most ch...</td>\n",
              "    </tr>\n",
              "    <tr>\n",
              "      <th>1</th>\n",
              "      <td>\"No,\" replied he, with sudden consciousness, \"...</td>\n",
              "    </tr>\n",
              "    <tr>\n",
              "      <th>2</th>\n",
              "      <td>As the lady had stated her intention of scream...</td>\n",
              "    </tr>\n",
              "    <tr>\n",
              "      <th>3</th>\n",
              "      <td>“And then suddenly in the silence I heard a so...</td>\n",
              "    </tr>\n",
              "    <tr>\n",
              "      <th>4</th>\n",
              "      <td>His conviction remained unchanged. So far as I...</td>\n",
              "    </tr>\n",
              "  </tbody>\n",
              "</table>\n",
              "</div>"
            ],
            "text/plain": [
              "                                                    text\n",
              "index                                                   \n",
              "0      “Not at all. I think she is one of the most ch...\n",
              "1      \"No,\" replied he, with sudden consciousness, \"...\n",
              "2      As the lady had stated her intention of scream...\n",
              "3      “And then suddenly in the silence I heard a so...\n",
              "4      His conviction remained unchanged. So far as I..."
            ]
          },
          "execution_count": 33,
          "metadata": {},
          "output_type": "execute_result"
        }
      ],
      "source": [
        "test = pd.read_csv(tst_file, index_col=0)\n",
        "test.head()"
      ]
    },
    {
      "cell_type": "code",
      "execution_count": 34,
      "metadata": {},
      "outputs": [],
      "source": [
        "# https://www.kaggle.com/xhlulu/disaster-nlp-keras-bert-using-tfhub\n",
        "def bert_encode(texts, tokenizer, max_len=max_len):\n",
        "    all_tokens = []\n",
        "    all_masks = []\n",
        "    all_segments = []\n",
        "    \n",
        "    for text in texts:\n",
        "        text = tokenizer.tokenize(text)\n",
        "            \n",
        "        text = text[:max_len-2]\n",
        "        input_sequence = [\"[CLS]\"] + text + [\"[SEP]\"]\n",
        "        pad_len = max_len - len(input_sequence)\n",
        "        \n",
        "        tokens = tokenizer.convert_tokens_to_ids(input_sequence)\n",
        "        tokens += [0] * pad_len\n",
        "        pad_masks = [1] * len(input_sequence) + [0] * pad_len\n",
        "        segment_ids = [0] * max_len\n",
        "        \n",
        "        all_tokens.append(tokens)\n",
        "        all_masks.append(pad_masks)\n",
        "        all_segments.append(segment_ids)\n",
        "    \n",
        "    return np.array(all_tokens), np.array(all_masks), np.array(all_segments)"
      ]
    },
    {
      "cell_type": "code",
      "execution_count": 36,
      "metadata": {},
      "outputs": [
        {
          "data": {
            "text/plain": [
              "['preserve_unused_tokens=False']"
            ]
          },
          "execution_count": 36,
          "metadata": {},
          "output_type": "execute_result"
        }
      ],
      "source": [
        "import sys\n",
        "from absl import flags\n",
        "sys.argv=['preserve_unused_tokens=False']\n",
        "flags.FLAGS(sys.argv)"
      ]
    },
    {
      "cell_type": "code",
      "execution_count": 37,
      "metadata": {},
      "outputs": [
        {
          "name": "stdout",
          "output_type": "stream",
          "text": [
            "(54879, 100) (19617, 100) (54879,)\n"
          ]
        }
      ],
      "source": [
        "trn = bert_encode(train.text.values, tokenizer, max_len=max_len)\n",
        "tst = bert_encode(test.text.values, tokenizer, max_len=max_len)\n",
        "y = train['author'].values\n",
        "print(trn[0].shape, tst[0].shape, y.shape)"
      ]
    },
    {
      "cell_type": "code",
      "execution_count": 47,
      "metadata": {
        "id": "SokcUCL5FW8I"
      },
      "outputs": [],
      "source": [
        "def get_model(bert_layer, max_len=max_len):\n",
        "    input_word_ids = Input(shape=(max_len,), dtype=tf.int32, name=\"input_word_ids\")\n",
        "    input_mask = Input(shape=(max_len,), dtype=tf.int32, name=\"input_mask\")\n",
        "    segment_ids = Input(shape=(max_len,), dtype=tf.int32, name=\"segment_ids\")\n",
        "    print(input_word_ids,input_mask,segment_ids)\n",
        "\n",
        "    _, sequence_output = bert_layer([input_word_ids, input_mask, segment_ids])\n",
        "    clf_output = sequence_output[:, 0, :]\n",
        "    x = Dense(256, activation='relu')(clf_output)\n",
        "    out = Dense(n_class, activation='softmax')(x)\n",
        "    \n",
        "    model = Model(inputs=[input_word_ids, input_mask, segment_ids], outputs=out)\n",
        "    model.compile(Adam(lr=1e-5), loss='categorical_crossentropy', metrics=['accuracy'])\n",
        "    \n",
        "    return model"
      ]
    },
    {
      "cell_type": "code",
      "execution_count": 39,
      "metadata": {},
      "outputs": [],
      "source": [
        "cv = StratifiedKFold(n_splits=n_fold, shuffle=True, random_state=seed)"
      ]
    },
    {
      "cell_type": "code",
      "execution_count": 42,
      "metadata": {},
      "outputs": [
        {
          "data": {
            "text/plain": [
              "<tensorflow.python.eager.context._EagerDeviceContext at 0x294520d8d80>"
            ]
          },
          "execution_count": 42,
          "metadata": {},
          "output_type": "execute_result"
        }
      ],
      "source": [
        "tf.device(\"/device:GPU:0\")"
      ]
    },
    {
      "cell_type": "code",
      "execution_count": 50,
      "metadata": {},
      "outputs": [
        {
          "name": "stdout",
          "output_type": "stream",
          "text": [
            "training model for CV #1\n",
            "KerasTensor(type_spec=TensorSpec(shape=(None, 100), dtype=tf.int32, name='input_word_ids'), name='input_word_ids', description=\"created by layer 'input_word_ids'\") KerasTensor(type_spec=TensorSpec(shape=(None, 100), dtype=tf.int32, name='input_mask'), name='input_mask', description=\"created by layer 'input_mask'\") KerasTensor(type_spec=TensorSpec(shape=(None, 100), dtype=tf.int32, name='segment_ids'), name='segment_ids', description=\"created by layer 'segment_ids'\")\n"
          ]
        },
        {
          "ename": "ResourceExhaustedError",
          "evalue": "{{function_node __wrapped__StatelessRandomUniformV2_device_/job:localhost/replica:0/task:0/device:GPU:0}} OOM when allocating tensor with shape[1024,256] and type float on /job:localhost/replica:0/task:0/device:GPU:0 by allocator GPU_0_bfc [Op:StatelessRandomUniformV2]",
          "output_type": "error",
          "traceback": [
            "\u001b[1;31m---------------------------------------------------------------------------\u001b[0m",
            "\u001b[1;31mResourceExhaustedError\u001b[0m                    Traceback (most recent call last)",
            "\u001b[1;32mC:\\Users\\Public\\Documents\\ESTsoft\\CreatorTemp/ipykernel_15968/3311878333.py\u001b[0m in \u001b[0;36m<module>\u001b[1;34m\u001b[0m\n\u001b[0;32m      6\u001b[0m                        verbose=1, mode='min', baseline=None, restore_best_weights=True)\n\u001b[0;32m      7\u001b[0m \u001b[1;33m\u001b[0m\u001b[0m\n\u001b[1;32m----> 8\u001b[1;33m     \u001b[0mclf\u001b[0m \u001b[1;33m=\u001b[0m \u001b[0mget_model\u001b[0m\u001b[1;33m(\u001b[0m\u001b[0mbert_layer\u001b[0m\u001b[1;33m,\u001b[0m \u001b[0mmax_len\u001b[0m\u001b[1;33m=\u001b[0m\u001b[0mmax_len\u001b[0m\u001b[1;33m)\u001b[0m\u001b[1;33m\u001b[0m\u001b[1;33m\u001b[0m\u001b[0m\n\u001b[0m\u001b[0;32m      9\u001b[0m     \u001b[1;32mif\u001b[0m \u001b[0mi\u001b[0m \u001b[1;33m==\u001b[0m \u001b[1;36m1\u001b[0m\u001b[1;33m:\u001b[0m\u001b[1;33m\u001b[0m\u001b[1;33m\u001b[0m\u001b[0m\n\u001b[0;32m     10\u001b[0m         \u001b[0mprint\u001b[0m\u001b[1;33m(\u001b[0m\u001b[0mclf\u001b[0m\u001b[1;33m.\u001b[0m\u001b[0msummary\u001b[0m\u001b[1;33m(\u001b[0m\u001b[1;33m)\u001b[0m\u001b[1;33m)\u001b[0m\u001b[1;33m\u001b[0m\u001b[1;33m\u001b[0m\u001b[0m\n",
            "\u001b[1;32mC:\\Users\\Public\\Documents\\ESTsoft\\CreatorTemp/ipykernel_15968/2809175258.py\u001b[0m in \u001b[0;36mget_model\u001b[1;34m(bert_layer, max_len)\u001b[0m\n\u001b[0;32m      7\u001b[0m     \u001b[0m_\u001b[0m\u001b[1;33m,\u001b[0m \u001b[0msequence_output\u001b[0m \u001b[1;33m=\u001b[0m \u001b[0mbert_layer\u001b[0m\u001b[1;33m(\u001b[0m\u001b[1;33m[\u001b[0m\u001b[0minput_word_ids\u001b[0m\u001b[1;33m,\u001b[0m \u001b[0minput_mask\u001b[0m\u001b[1;33m,\u001b[0m \u001b[0msegment_ids\u001b[0m\u001b[1;33m]\u001b[0m\u001b[1;33m)\u001b[0m\u001b[1;33m\u001b[0m\u001b[1;33m\u001b[0m\u001b[0m\n\u001b[0;32m      8\u001b[0m     \u001b[0mclf_output\u001b[0m \u001b[1;33m=\u001b[0m \u001b[0msequence_output\u001b[0m\u001b[1;33m[\u001b[0m\u001b[1;33m:\u001b[0m\u001b[1;33m,\u001b[0m \u001b[1;36m0\u001b[0m\u001b[1;33m,\u001b[0m \u001b[1;33m:\u001b[0m\u001b[1;33m]\u001b[0m\u001b[1;33m\u001b[0m\u001b[1;33m\u001b[0m\u001b[0m\n\u001b[1;32m----> 9\u001b[1;33m     \u001b[0mx\u001b[0m \u001b[1;33m=\u001b[0m \u001b[0mDense\u001b[0m\u001b[1;33m(\u001b[0m\u001b[1;36m256\u001b[0m\u001b[1;33m,\u001b[0m \u001b[0mactivation\u001b[0m\u001b[1;33m=\u001b[0m\u001b[1;34m'relu'\u001b[0m\u001b[1;33m)\u001b[0m\u001b[1;33m(\u001b[0m\u001b[0mclf_output\u001b[0m\u001b[1;33m)\u001b[0m\u001b[1;33m\u001b[0m\u001b[1;33m\u001b[0m\u001b[0m\n\u001b[0m\u001b[0;32m     10\u001b[0m     \u001b[0mout\u001b[0m \u001b[1;33m=\u001b[0m \u001b[0mDense\u001b[0m\u001b[1;33m(\u001b[0m\u001b[0mn_class\u001b[0m\u001b[1;33m,\u001b[0m \u001b[0mactivation\u001b[0m\u001b[1;33m=\u001b[0m\u001b[1;34m'softmax'\u001b[0m\u001b[1;33m)\u001b[0m\u001b[1;33m(\u001b[0m\u001b[0mx\u001b[0m\u001b[1;33m)\u001b[0m\u001b[1;33m\u001b[0m\u001b[1;33m\u001b[0m\u001b[0m\n\u001b[0;32m     11\u001b[0m \u001b[1;33m\u001b[0m\u001b[0m\n",
            "\u001b[1;32mc:\\Users\\user\\anaconda3\\envs\\dacon_nlp\\lib\\site-packages\\keras\\utils\\traceback_utils.py\u001b[0m in \u001b[0;36merror_handler\u001b[1;34m(*args, **kwargs)\u001b[0m\n\u001b[0;32m     68\u001b[0m             \u001b[1;31m# To get the full stack trace, call:\u001b[0m\u001b[1;33m\u001b[0m\u001b[1;33m\u001b[0m\u001b[1;33m\u001b[0m\u001b[0m\n\u001b[0;32m     69\u001b[0m             \u001b[1;31m# `tf.debugging.disable_traceback_filtering()`\u001b[0m\u001b[1;33m\u001b[0m\u001b[1;33m\u001b[0m\u001b[1;33m\u001b[0m\u001b[0m\n\u001b[1;32m---> 70\u001b[1;33m             \u001b[1;32mraise\u001b[0m \u001b[0me\u001b[0m\u001b[1;33m.\u001b[0m\u001b[0mwith_traceback\u001b[0m\u001b[1;33m(\u001b[0m\u001b[0mfiltered_tb\u001b[0m\u001b[1;33m)\u001b[0m \u001b[1;32mfrom\u001b[0m \u001b[1;32mNone\u001b[0m\u001b[1;33m\u001b[0m\u001b[1;33m\u001b[0m\u001b[0m\n\u001b[0m\u001b[0;32m     71\u001b[0m         \u001b[1;32mfinally\u001b[0m\u001b[1;33m:\u001b[0m\u001b[1;33m\u001b[0m\u001b[1;33m\u001b[0m\u001b[0m\n\u001b[0;32m     72\u001b[0m             \u001b[1;32mdel\u001b[0m \u001b[0mfiltered_tb\u001b[0m\u001b[1;33m\u001b[0m\u001b[1;33m\u001b[0m\u001b[0m\n",
            "\u001b[1;32mc:\\Users\\user\\anaconda3\\envs\\dacon_nlp\\lib\\site-packages\\keras\\backend.py\u001b[0m in \u001b[0;36mrandom_uniform\u001b[1;34m(self, shape, minval, maxval, dtype, nonce)\u001b[0m\n\u001b[0;32m   2098\u001b[0m             \u001b[1;32mif\u001b[0m \u001b[0mnonce\u001b[0m\u001b[1;33m:\u001b[0m\u001b[1;33m\u001b[0m\u001b[1;33m\u001b[0m\u001b[0m\n\u001b[0;32m   2099\u001b[0m                 \u001b[0mseed\u001b[0m \u001b[1;33m=\u001b[0m \u001b[0mtf\u001b[0m\u001b[1;33m.\u001b[0m\u001b[0mrandom\u001b[0m\u001b[1;33m.\u001b[0m\u001b[0mexperimental\u001b[0m\u001b[1;33m.\u001b[0m\u001b[0mstateless_fold_in\u001b[0m\u001b[1;33m(\u001b[0m\u001b[0mseed\u001b[0m\u001b[1;33m,\u001b[0m \u001b[0mnonce\u001b[0m\u001b[1;33m)\u001b[0m\u001b[1;33m\u001b[0m\u001b[1;33m\u001b[0m\u001b[0m\n\u001b[1;32m-> 2100\u001b[1;33m             return tf.random.stateless_uniform(\n\u001b[0m\u001b[0;32m   2101\u001b[0m                 \u001b[0mshape\u001b[0m\u001b[1;33m=\u001b[0m\u001b[0mshape\u001b[0m\u001b[1;33m,\u001b[0m\u001b[1;33m\u001b[0m\u001b[1;33m\u001b[0m\u001b[0m\n\u001b[0;32m   2102\u001b[0m                 \u001b[0mminval\u001b[0m\u001b[1;33m=\u001b[0m\u001b[0mminval\u001b[0m\u001b[1;33m,\u001b[0m\u001b[1;33m\u001b[0m\u001b[1;33m\u001b[0m\u001b[0m\n",
            "\u001b[1;31mResourceExhaustedError\u001b[0m: {{function_node __wrapped__StatelessRandomUniformV2_device_/job:localhost/replica:0/task:0/device:GPU:0}} OOM when allocating tensor with shape[1024,256] and type float on /job:localhost/replica:0/task:0/device:GPU:0 by allocator GPU_0_bfc [Op:StatelessRandomUniformV2]"
          ]
        }
      ],
      "source": [
        "p_val = np.zeros((trn[0].shape[0], n_class))\n",
        "p_tst = np.zeros((tst[0].shape[0], n_class))\n",
        "for i, (i_trn, i_val) in enumerate(cv.split(trn[0], y), 1):\n",
        "    print(f'training model for CV #{i}')\n",
        "    es = EarlyStopping(monitor='val_accuracy', min_delta=0.001, patience=2,\n",
        "                       verbose=1, mode='min', baseline=None, restore_best_weights=True)\n",
        "    \n",
        "    clf = get_model(bert_layer, max_len=max_len)\n",
        "    if i == 1:\n",
        "        print(clf.summary())\n",
        "        \n",
        "    clf.fit([x[i_trn] for x in trn], \n",
        "            to_categorical(y[i_trn]),\n",
        "            validation_data=([x[i_val] for x in trn], to_categorical(y[i_val])),\n",
        "            epochs=10,\n",
        "            batch_size=2,\n",
        "            callbacks=[es])\n",
        "    p_val[i_val, :] = clf.predict([x[i_val] for x in trn])\n",
        "    p_tst += clf.predict(tst) / n_fold\n",
        "    \n",
        "    del clf\n",
        "    clear_session()\n",
        "    gc.collect()"
      ]
    },
    {
      "cell_type": "code",
      "execution_count": null,
      "metadata": {},
      "outputs": [],
      "source": [
        "print(f'Accuracy (CV): {accuracy_score(y, np.argmax(p_val, axis=1)) * 100:8.4f}%')\n",
        "print(f'Log Loss (CV): {log_loss(pd.get_dummies(y), p_val):8.4f}')"
      ]
    }
  ],
  "metadata": {
    "colab": {
      "name": "sample_model.ipynb",
      "provenance": []
    },
    "kernelspec": {
      "display_name": "Python 3.8.13 ('dacon_nlp')",
      "language": "python",
      "name": "python3"
    },
    "language_info": {
      "codemirror_mode": {
        "name": "ipython",
        "version": 3
      },
      "file_extension": ".py",
      "mimetype": "text/x-python",
      "name": "python",
      "nbconvert_exporter": "python",
      "pygments_lexer": "ipython3",
      "version": "3.8.13"
    },
    "vscode": {
      "interpreter": {
        "hash": "9e3ecb335a2a0c7af9c5463a6d43ee7c9cb9f96811cfd43e0cd03f3aa1d26415"
      }
    }
  },
  "nbformat": 4,
  "nbformat_minor": 0
}
